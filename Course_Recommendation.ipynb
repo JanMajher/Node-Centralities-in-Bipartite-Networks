{
  "nbformat": 4,
  "nbformat_minor": 0,
  "metadata": {
    "colab": {
      "name": "Course_Recommendation",
      "provenance": [],
      "collapsed_sections": [],
      "toc_visible": true
    },
    "kernelspec": {
      "name": "python3",
      "display_name": "Python 3"
    }
  },
  "cells": [
    {
      "cell_type": "markdown",
      "metadata": {
        "id": "xP7XIE7PCJRc"
      },
      "source": [
        "# Imports"
      ]
    },
    {
      "cell_type": "code",
      "metadata": {
        "id": "XOA5LADFDrgH"
      },
      "source": [
        "# import libraries\n",
        "import matplotlib.pyplot as plt\n",
        "import numpy as np\n",
        "import time\n",
        "import pandas as pd\n",
        "import time\n",
        "import random\n",
        "import networkx as nx\n",
        "import scipy\n",
        "import seaborn as sns\n",
        "\n",
        "from ItemRank import ItemRank\n",
        "\n",
        "from BiRank import birank\n",
        "from BiRank import gen_W\n",
        "\n",
        "from sklearn.utils import shuffle\n",
        "from datetime import datetime \n",
        "from networkx.algorithms import bipartite\n",
        "from networkx.algorithms.bipartite import biadjacency_matrix\n",
        "from numpy import linalg as LA\n",
        "from scipy import sparse\n"
      ],
      "execution_count": 14,
      "outputs": []
    },
    {
      "cell_type": "code",
      "metadata": {
        "id": "42fo-T75CxEg"
      },
      "source": [
        "# machine learning libraries\n",
        "from sklearn.utils import shuffle\n",
        "from sklearn.pipeline import make_pipeline\n",
        "from sklearn.pipeline import Pipeline\n",
        "from sklearn.linear_model import LogisticRegression\n",
        "from sklearn.metrics import classification_report, confusion_matrix\n",
        "from sklearn.preprocessing import StandardScaler\n",
        "from sklearn.preprocessing import MinMaxScaler\n",
        "from sklearn.model_selection import cross_val_score\n",
        "from sklearn.model_selection import GridSearchCV\n",
        "from sklearn.model_selection import train_test_split\n",
        "from sklearn.metrics import plot_confusion_matrix\n",
        "from sklearn.metrics import roc_curve\n",
        "from sklearn.metrics import roc_auc_score\n",
        "from sklearn.metrics import balanced_accuracy_score, make_scorer\n",
        "from sklearn import svm\n",
        "from sklearn.ensemble import RandomForestClassifier\n",
        "import xgboost as xgb"
      ],
      "execution_count": 3,
      "outputs": []
    },
    {
      "cell_type": "code",
      "metadata": {
        "colab": {
          "base_uri": "https://localhost:8080/",
          "height": 204
        },
        "id": "OJ-wWsgvDJXh",
        "outputId": "d12790bd-5e47-43fb-cd0e-652a42be8952"
      },
      "source": [
        "df = pd.read_csv('COURSES_data.csv', encoding='utf-16') \n",
        "df.head()"
      ],
      "execution_count": 4,
      "outputs": [
        {
          "output_type": "execute_result",
          "data": {
            "text/html": [
              "<div>\n",
              "<style scoped>\n",
              "    .dataframe tbody tr th:only-of-type {\n",
              "        vertical-align: middle;\n",
              "    }\n",
              "\n",
              "    .dataframe tbody tr th {\n",
              "        vertical-align: top;\n",
              "    }\n",
              "\n",
              "    .dataframe thead th {\n",
              "        text-align: right;\n",
              "    }\n",
              "</style>\n",
              "<table border=\"1\" class=\"dataframe\">\n",
              "  <thead>\n",
              "    <tr style=\"text-align: right;\">\n",
              "      <th></th>\n",
              "      <th>CourseName</th>\n",
              "      <th>CourseCode</th>\n",
              "      <th>CourseRating</th>\n",
              "      <th>StudentID</th>\n",
              "    </tr>\n",
              "  </thead>\n",
              "  <tbody>\n",
              "    <tr>\n",
              "      <th>0</th>\n",
              "      <td>Multivariate statistical analyses</td>\n",
              "      <td>2-EFM-151/15</td>\n",
              "      <td>4.12</td>\n",
              "      <td>Student0</td>\n",
              "    </tr>\n",
              "    <tr>\n",
              "      <th>1</th>\n",
              "      <td>Principles of mathematical modelling in scienc...</td>\n",
              "      <td>2-EFM-152/15</td>\n",
              "      <td>4.00</td>\n",
              "      <td>Student0</td>\n",
              "    </tr>\n",
              "    <tr>\n",
              "      <th>2</th>\n",
              "      <td>Modelling biological processes</td>\n",
              "      <td>2-EFM-236/15</td>\n",
              "      <td>4.11</td>\n",
              "      <td>Student0</td>\n",
              "    </tr>\n",
              "    <tr>\n",
              "      <th>3</th>\n",
              "      <td>Macroeconomic development and economic policie...</td>\n",
              "      <td>2-EFM-218/16</td>\n",
              "      <td>4.67</td>\n",
              "      <td>Student0</td>\n",
              "    </tr>\n",
              "    <tr>\n",
              "      <th>4</th>\n",
              "      <td>Time series analysis</td>\n",
              "      <td>2-EFM-102/15</td>\n",
              "      <td>4.59</td>\n",
              "      <td>Student0</td>\n",
              "    </tr>\n",
              "  </tbody>\n",
              "</table>\n",
              "</div>"
            ],
            "text/plain": [
              "                                          CourseName  ... StudentID\n",
              "0                  Multivariate statistical analyses  ...  Student0\n",
              "1  Principles of mathematical modelling in scienc...  ...  Student0\n",
              "2                     Modelling biological processes  ...  Student0\n",
              "3  Macroeconomic development and economic policie...  ...  Student0\n",
              "4                               Time series analysis  ...  Student0\n",
              "\n",
              "[5 rows x 4 columns]"
            ]
          },
          "metadata": {
            "tags": []
          },
          "execution_count": 4
        }
      ]
    },
    {
      "cell_type": "code",
      "metadata": {
        "colab": {
          "base_uri": "https://localhost:8080/",
          "height": 979
        },
        "id": "wKrkwrx7XvIh",
        "outputId": "da8a5865-434e-4568-eed1-36c2d7d1a56e"
      },
      "source": [
        "pd.set_option('display.max_rows', 30)\n",
        "pd.DataFrame(df['CourseName'].unique())"
      ],
      "execution_count": 5,
      "outputs": [
        {
          "output_type": "execute_result",
          "data": {
            "text/html": [
              "<div>\n",
              "<style scoped>\n",
              "    .dataframe tbody tr th:only-of-type {\n",
              "        vertical-align: middle;\n",
              "    }\n",
              "\n",
              "    .dataframe tbody tr th {\n",
              "        vertical-align: top;\n",
              "    }\n",
              "\n",
              "    .dataframe thead th {\n",
              "        text-align: right;\n",
              "    }\n",
              "</style>\n",
              "<table border=\"1\" class=\"dataframe\">\n",
              "  <thead>\n",
              "    <tr style=\"text-align: right;\">\n",
              "      <th></th>\n",
              "      <th>0</th>\n",
              "    </tr>\n",
              "  </thead>\n",
              "  <tbody>\n",
              "    <tr>\n",
              "      <th>0</th>\n",
              "      <td>Multivariate statistical analyses</td>\n",
              "    </tr>\n",
              "    <tr>\n",
              "      <th>1</th>\n",
              "      <td>Principles of mathematical modelling in scienc...</td>\n",
              "    </tr>\n",
              "    <tr>\n",
              "      <th>2</th>\n",
              "      <td>Modelling biological processes</td>\n",
              "    </tr>\n",
              "    <tr>\n",
              "      <th>3</th>\n",
              "      <td>Macroeconomic development and economic policie...</td>\n",
              "    </tr>\n",
              "    <tr>\n",
              "      <th>4</th>\n",
              "      <td>Time series analysis</td>\n",
              "    </tr>\n",
              "    <tr>\n",
              "      <th>5</th>\n",
              "      <td>Stochastic methods of operational analysis</td>\n",
              "    </tr>\n",
              "    <tr>\n",
              "      <th>6</th>\n",
              "      <td>Quantitative methods in risk management</td>\n",
              "    </tr>\n",
              "    <tr>\n",
              "      <th>7</th>\n",
              "      <td>Financial derivatives</td>\n",
              "    </tr>\n",
              "    <tr>\n",
              "      <th>8</th>\n",
              "      <td>Dynamic macroeconomics</td>\n",
              "    </tr>\n",
              "    <tr>\n",
              "      <th>9</th>\n",
              "      <td>Optimal control classes</td>\n",
              "    </tr>\n",
              "    <tr>\n",
              "      <th>10</th>\n",
              "      <td>Computer statistics</td>\n",
              "    </tr>\n",
              "    <tr>\n",
              "      <th>11</th>\n",
              "      <td>Cluster analysis and data classification</td>\n",
              "    </tr>\n",
              "    <tr>\n",
              "      <th>12</th>\n",
              "      <td>Insurance theory</td>\n",
              "    </tr>\n",
              "    <tr>\n",
              "      <th>13</th>\n",
              "      <td>Databases - SQL</td>\n",
              "    </tr>\n",
              "    <tr>\n",
              "      <th>14</th>\n",
              "      <td>Databases and data analysis</td>\n",
              "    </tr>\n",
              "    <tr>\n",
              "      <th>15</th>\n",
              "      <td>Political economics</td>\n",
              "    </tr>\n",
              "    <tr>\n",
              "      <th>16</th>\n",
              "      <td>Theory of non-cooperative games</td>\n",
              "    </tr>\n",
              "    <tr>\n",
              "      <th>17</th>\n",
              "      <td>Convex optimization</td>\n",
              "    </tr>\n",
              "    <tr>\n",
              "      <th>18</th>\n",
              "      <td>Markov processes (1)</td>\n",
              "    </tr>\n",
              "    <tr>\n",
              "      <th>19</th>\n",
              "      <td>Stochastic optimization methods</td>\n",
              "    </tr>\n",
              "    <tr>\n",
              "      <th>20</th>\n",
              "      <td>Stochastic simulation methods</td>\n",
              "    </tr>\n",
              "    <tr>\n",
              "      <th>21</th>\n",
              "      <td>Economics of information</td>\n",
              "    </tr>\n",
              "    <tr>\n",
              "      <th>22</th>\n",
              "      <td>Nonparametric statistic</td>\n",
              "    </tr>\n",
              "    <tr>\n",
              "      <th>23</th>\n",
              "      <td>Digital signal processing</td>\n",
              "    </tr>\n",
              "    <tr>\n",
              "      <th>24</th>\n",
              "      <td>Integral transforms and special functions</td>\n",
              "    </tr>\n",
              "    <tr>\n",
              "      <th>25</th>\n",
              "      <td>Social network analysis</td>\n",
              "    </tr>\n",
              "    <tr>\n",
              "      <th>26</th>\n",
              "      <td>Data dimensionality reduction</td>\n",
              "    </tr>\n",
              "    <tr>\n",
              "      <th>27</th>\n",
              "      <td>Pensions and pension funds</td>\n",
              "    </tr>\n",
              "    <tr>\n",
              "      <th>28</th>\n",
              "      <td>Insurance theory classes</td>\n",
              "    </tr>\n",
              "    <tr>\n",
              "      <th>29</th>\n",
              "      <td>Economics seminar</td>\n",
              "    </tr>\n",
              "  </tbody>\n",
              "</table>\n",
              "</div>"
            ],
            "text/plain": [
              "                                                    0\n",
              "0                   Multivariate statistical analyses\n",
              "1   Principles of mathematical modelling in scienc...\n",
              "2                      Modelling biological processes\n",
              "3   Macroeconomic development and economic policie...\n",
              "4                                Time series analysis\n",
              "5          Stochastic methods of operational analysis\n",
              "6             Quantitative methods in risk management\n",
              "7                               Financial derivatives\n",
              "8                              Dynamic macroeconomics\n",
              "9                             Optimal control classes\n",
              "10                                Computer statistics\n",
              "11           Cluster analysis and data classification\n",
              "12                                   Insurance theory\n",
              "13                                    Databases - SQL\n",
              "14                        Databases and data analysis\n",
              "15                                Political economics\n",
              "16                    Theory of non-cooperative games\n",
              "17                                Convex optimization\n",
              "18                               Markov processes (1)\n",
              "19                    Stochastic optimization methods\n",
              "20                      Stochastic simulation methods\n",
              "21                           Economics of information\n",
              "22                            Nonparametric statistic\n",
              "23                          Digital signal processing\n",
              "24          Integral transforms and special functions\n",
              "25                            Social network analysis\n",
              "26                      Data dimensionality reduction\n",
              "27                         Pensions and pension funds\n",
              "28                           Insurance theory classes\n",
              "29                                  Economics seminar"
            ]
          },
          "metadata": {
            "tags": []
          },
          "execution_count": 5
        }
      ]
    },
    {
      "cell_type": "code",
      "metadata": {
        "colab": {
          "base_uri": "https://localhost:8080/"
        },
        "id": "JzIiNqw2Dqfl",
        "outputId": "9fe3603f-e568-4b3c-bdc7-03b72d37eff5"
      },
      "source": [
        "print('Number of students: ' + str(len(df['StudentID'].unique())))\n",
        "print('Number of subjects: ' + str(len(df['CourseCode'].unique())))\n",
        "print('Number of enrollments: ' + str(len(df)))\n",
        "print('Density: ' + str(round(len(df) / (len(df['CourseCode'].unique()) * len(df['StudentID'].unique())),4)))"
      ],
      "execution_count": 6,
      "outputs": [
        {
          "output_type": "stream",
          "text": [
            "Number of students: 95\n",
            "Number of subjects: 30\n",
            "Number of enrollments: 1473\n",
            "Density: 0.5168\n"
          ],
          "name": "stdout"
        }
      ]
    },
    {
      "cell_type": "code",
      "metadata": {
        "colab": {
          "base_uri": "https://localhost:8080/",
          "height": 419
        },
        "id": "8cG5n4AAuTz-",
        "outputId": "7764a881-88b8-4b55-b476-523e5296089c"
      },
      "source": [
        "df[['StudentID' ,'CourseCode','CourseRating']]"
      ],
      "execution_count": 7,
      "outputs": [
        {
          "output_type": "execute_result",
          "data": {
            "text/html": [
              "<div>\n",
              "<style scoped>\n",
              "    .dataframe tbody tr th:only-of-type {\n",
              "        vertical-align: middle;\n",
              "    }\n",
              "\n",
              "    .dataframe tbody tr th {\n",
              "        vertical-align: top;\n",
              "    }\n",
              "\n",
              "    .dataframe thead th {\n",
              "        text-align: right;\n",
              "    }\n",
              "</style>\n",
              "<table border=\"1\" class=\"dataframe\">\n",
              "  <thead>\n",
              "    <tr style=\"text-align: right;\">\n",
              "      <th></th>\n",
              "      <th>StudentID</th>\n",
              "      <th>CourseCode</th>\n",
              "      <th>CourseRating</th>\n",
              "    </tr>\n",
              "  </thead>\n",
              "  <tbody>\n",
              "    <tr>\n",
              "      <th>0</th>\n",
              "      <td>Student0</td>\n",
              "      <td>2-EFM-151/15</td>\n",
              "      <td>4.12</td>\n",
              "    </tr>\n",
              "    <tr>\n",
              "      <th>1</th>\n",
              "      <td>Student0</td>\n",
              "      <td>2-EFM-152/15</td>\n",
              "      <td>4.00</td>\n",
              "    </tr>\n",
              "    <tr>\n",
              "      <th>2</th>\n",
              "      <td>Student0</td>\n",
              "      <td>2-EFM-236/15</td>\n",
              "      <td>4.11</td>\n",
              "    </tr>\n",
              "    <tr>\n",
              "      <th>3</th>\n",
              "      <td>Student0</td>\n",
              "      <td>2-EFM-218/16</td>\n",
              "      <td>4.67</td>\n",
              "    </tr>\n",
              "    <tr>\n",
              "      <th>4</th>\n",
              "      <td>Student0</td>\n",
              "      <td>2-EFM-102/15</td>\n",
              "      <td>4.59</td>\n",
              "    </tr>\n",
              "    <tr>\n",
              "      <th>...</th>\n",
              "      <td>...</td>\n",
              "      <td>...</td>\n",
              "      <td>...</td>\n",
              "    </tr>\n",
              "    <tr>\n",
              "      <th>1468</th>\n",
              "      <td>Student94</td>\n",
              "      <td>2-MAT-114/15</td>\n",
              "      <td>4.83</td>\n",
              "    </tr>\n",
              "    <tr>\n",
              "      <th>1469</th>\n",
              "      <td>Student94</td>\n",
              "      <td>2-EFM-236/15</td>\n",
              "      <td>4.50</td>\n",
              "    </tr>\n",
              "    <tr>\n",
              "      <th>1470</th>\n",
              "      <td>Student94</td>\n",
              "      <td>2-EFM-237/15</td>\n",
              "      <td>4.58</td>\n",
              "    </tr>\n",
              "    <tr>\n",
              "      <th>1471</th>\n",
              "      <td>Student94</td>\n",
              "      <td>2-PMS-212/15</td>\n",
              "      <td>4.80</td>\n",
              "    </tr>\n",
              "    <tr>\n",
              "      <th>1472</th>\n",
              "      <td>Student94</td>\n",
              "      <td>2-PMS-129/10</td>\n",
              "      <td>5.00</td>\n",
              "    </tr>\n",
              "  </tbody>\n",
              "</table>\n",
              "<p>1473 rows × 3 columns</p>\n",
              "</div>"
            ],
            "text/plain": [
              "      StudentID    CourseCode  CourseRating\n",
              "0      Student0  2-EFM-151/15          4.12\n",
              "1      Student0  2-EFM-152/15          4.00\n",
              "2      Student0  2-EFM-236/15          4.11\n",
              "3      Student0  2-EFM-218/16          4.67\n",
              "4      Student0  2-EFM-102/15          4.59\n",
              "...         ...           ...           ...\n",
              "1468  Student94  2-MAT-114/15          4.83\n",
              "1469  Student94  2-EFM-236/15          4.50\n",
              "1470  Student94  2-EFM-237/15          4.58\n",
              "1471  Student94  2-PMS-212/15          4.80\n",
              "1472  Student94  2-PMS-129/10          5.00\n",
              "\n",
              "[1473 rows x 3 columns]"
            ]
          },
          "metadata": {
            "tags": []
          },
          "execution_count": 7
        }
      ]
    },
    {
      "cell_type": "code",
      "metadata": {
        "id": "8WKS8ik3Duk1",
        "colab": {
          "base_uri": "https://localhost:8080/",
          "height": 419
        },
        "outputId": "d18ef0f4-52c1-44e8-f3a8-d8819a0a061e"
      },
      "source": [
        "df2 = shuffle(df[['StudentID' ,'CourseCode','CourseRating']], random_state=1)\n",
        "df2"
      ],
      "execution_count": 8,
      "outputs": [
        {
          "output_type": "execute_result",
          "data": {
            "text/html": [
              "<div>\n",
              "<style scoped>\n",
              "    .dataframe tbody tr th:only-of-type {\n",
              "        vertical-align: middle;\n",
              "    }\n",
              "\n",
              "    .dataframe tbody tr th {\n",
              "        vertical-align: top;\n",
              "    }\n",
              "\n",
              "    .dataframe thead th {\n",
              "        text-align: right;\n",
              "    }\n",
              "</style>\n",
              "<table border=\"1\" class=\"dataframe\">\n",
              "  <thead>\n",
              "    <tr style=\"text-align: right;\">\n",
              "      <th></th>\n",
              "      <th>StudentID</th>\n",
              "      <th>CourseCode</th>\n",
              "      <th>CourseRating</th>\n",
              "    </tr>\n",
              "  </thead>\n",
              "  <tbody>\n",
              "    <tr>\n",
              "      <th>1126</th>\n",
              "      <td>Student72</td>\n",
              "      <td>2-PMS-135/00</td>\n",
              "      <td>4.17</td>\n",
              "    </tr>\n",
              "    <tr>\n",
              "      <th>390</th>\n",
              "      <td>Student25</td>\n",
              "      <td>2-PMS-118/10</td>\n",
              "      <td>4.40</td>\n",
              "    </tr>\n",
              "    <tr>\n",
              "      <th>824</th>\n",
              "      <td>Student52</td>\n",
              "      <td>2-EFM-115/15</td>\n",
              "      <td>4.33</td>\n",
              "    </tr>\n",
              "    <tr>\n",
              "      <th>341</th>\n",
              "      <td>Student22</td>\n",
              "      <td>2-EFM-117/12</td>\n",
              "      <td>4.25</td>\n",
              "    </tr>\n",
              "    <tr>\n",
              "      <th>1213</th>\n",
              "      <td>Student78</td>\n",
              "      <td>2-PMS-135/00</td>\n",
              "      <td>4.17</td>\n",
              "    </tr>\n",
              "    <tr>\n",
              "      <th>...</th>\n",
              "      <td>...</td>\n",
              "      <td>...</td>\n",
              "      <td>...</td>\n",
              "    </tr>\n",
              "    <tr>\n",
              "      <th>715</th>\n",
              "      <td>Student45</td>\n",
              "      <td>2-EFM-140/19</td>\n",
              "      <td>4.50</td>\n",
              "    </tr>\n",
              "    <tr>\n",
              "      <th>905</th>\n",
              "      <td>Student58</td>\n",
              "      <td>2-EFM-102/15</td>\n",
              "      <td>4.38</td>\n",
              "    </tr>\n",
              "    <tr>\n",
              "      <th>1096</th>\n",
              "      <td>Student70</td>\n",
              "      <td>2-EFM-151/15</td>\n",
              "      <td>4.12</td>\n",
              "    </tr>\n",
              "    <tr>\n",
              "      <th>235</th>\n",
              "      <td>Student15</td>\n",
              "      <td>2-EFM-125/00</td>\n",
              "      <td>3.40</td>\n",
              "    </tr>\n",
              "    <tr>\n",
              "      <th>1061</th>\n",
              "      <td>Student68</td>\n",
              "      <td>2-PMS-135/00</td>\n",
              "      <td>4.17</td>\n",
              "    </tr>\n",
              "  </tbody>\n",
              "</table>\n",
              "<p>1473 rows × 3 columns</p>\n",
              "</div>"
            ],
            "text/plain": [
              "      StudentID    CourseCode  CourseRating\n",
              "1126  Student72  2-PMS-135/00          4.17\n",
              "390   Student25  2-PMS-118/10          4.40\n",
              "824   Student52  2-EFM-115/15          4.33\n",
              "341   Student22  2-EFM-117/12          4.25\n",
              "1213  Student78  2-PMS-135/00          4.17\n",
              "...         ...           ...           ...\n",
              "715   Student45  2-EFM-140/19          4.50\n",
              "905   Student58  2-EFM-102/15          4.38\n",
              "1096  Student70  2-EFM-151/15          4.12\n",
              "235   Student15  2-EFM-125/00          3.40\n",
              "1061  Student68  2-PMS-135/00          4.17\n",
              "\n",
              "[1473 rows x 3 columns]"
            ]
          },
          "metadata": {
            "tags": []
          },
          "execution_count": 8
        }
      ]
    },
    {
      "cell_type": "code",
      "metadata": {
        "id": "306yq6u3t_pz"
      },
      "source": [
        "df_TRAIN = df2[0:800]\n",
        "df_TEST = df2[800:]"
      ],
      "execution_count": 9,
      "outputs": []
    },
    {
      "cell_type": "code",
      "metadata": {
        "colab": {
          "base_uri": "https://localhost:8080/"
        },
        "id": "Y6AEBUa9urYT",
        "outputId": "acda7d2c-d280-40a2-8db2-ff4c6fdb34c1"
      },
      "source": [
        "print('Number of students in TRAIN: ' + str(len(df_TRAIN['StudentID'].unique())))\n",
        "print('Number of subjects in TRAIN: ' + str(len(df_TRAIN['CourseCode'].unique())))\n",
        "print('Number of students in TEST: ' + str(len(df_TEST['StudentID'].unique())))\n",
        "print('Number of subjects in TEST: ' + str(len(df_TEST['CourseCode'].unique())))"
      ],
      "execution_count": 10,
      "outputs": [
        {
          "output_type": "stream",
          "text": [
            "Number of students in TRAIN: 95\n",
            "Number of subjects in TRAIN: 30\n",
            "Number of students in TEST: 95\n",
            "Number of subjects in TEST: 30\n"
          ],
          "name": "stdout"
        }
      ]
    },
    {
      "cell_type": "markdown",
      "metadata": {
        "id": "-fR-HS-Wb7qm"
      },
      "source": [
        "# Item Rank"
      ]
    },
    {
      "cell_type": "code",
      "metadata": {
        "colab": {
          "base_uri": "https://localhost:8080/"
        },
        "id": "xXAC9oA5vPoF",
        "outputId": "3f04fcd5-1f0c-4f31-8bc8-4058dfd01598"
      },
      "source": [
        "# numpy array conversion for itemrank algorithm\n",
        "np_data = np.array(df_TRAIN)\n",
        "print(np_data.shape)\n",
        "\n",
        "np_data_test = np.array(df_TEST)\n",
        "print(np_data_test.shape)"
      ],
      "execution_count": 11,
      "outputs": [
        {
          "output_type": "stream",
          "text": [
            "(800, 3)\n",
            "(673, 3)\n"
          ],
          "name": "stdout"
        }
      ]
    },
    {
      "cell_type": "code",
      "metadata": {
        "id": "GhTlwFpoLnh7"
      },
      "source": [
        "# set alpha\n",
        "alpha = 0.9"
      ],
      "execution_count": 12,
      "outputs": []
    },
    {
      "cell_type": "code",
      "metadata": {
        "colab": {
          "base_uri": "https://localhost:8080/"
        },
        "id": "thLvtcRlvzT9",
        "outputId": "a0a84a9e-3537-4322-dbe0-5e9d55f6b745"
      },
      "source": [
        "# initiate object\n",
        "item_rank = ItemRank(np_data)\n",
        "\n",
        "# get correlation matrix\n",
        "item_rank.generate_graph()\n",
        "item_rank.generate_coef_from_graph()\n",
        "print(item_rank.correlation_matrix.shape)"
      ],
      "execution_count": 15,
      "outputs": [
        {
          "output_type": "stream",
          "text": [
            "(30, 30)\n"
          ],
          "name": "stdout"
        }
      ]
    },
    {
      "cell_type": "code",
      "metadata": {
        "id": "_UJ32QN6v4gm",
        "colab": {
          "base_uri": "https://localhost:8080/"
        },
        "outputId": "664b1922-90d5-4579-a2e2-f79ff621eaec"
      },
      "source": [
        "# calculate itemranks\n",
        "start_time = time.time()\n",
        "IRs = []\n",
        "DOAs = []\n",
        "UserCounter = 0\n",
        "for user_name in item_rank.user_names:\n",
        "    UserCounter +=  1\n",
        "    d = item_rank.generate_d(user_name=user_name)\n",
        "    IR = np.ones(len(item_rank.movie_names))\n",
        "    old_IR = IR\n",
        "    converged = False\n",
        "    counter = 0\n",
        "    while not converged:\n",
        "      counter += 1\n",
        "      old_IR = IR\n",
        "      IR = item_rank.item_rank(alpha, IR , d)\n",
        "      converged = (old_IR - IR < 0.0001).all()\n",
        "    IRs.append(IR)\n",
        "\n",
        "    if user_name in np_data_test[:,0]:      \n",
        "      doa = item_rank.calculate_DOA(np_data_test, user_name , IR)\n",
        "      DOAs.append(doa)\n",
        "\n",
        "np.array(IRs).shape"
      ],
      "execution_count": 16,
      "outputs": [
        {
          "output_type": "execute_result",
          "data": {
            "text/plain": [
              "(95, 30)"
            ]
          },
          "metadata": {
            "tags": []
          },
          "execution_count": 16
        }
      ]
    },
    {
      "cell_type": "code",
      "metadata": {
        "colab": {
          "base_uri": "https://localhost:8080/"
        },
        "id": "6jQ-QLURwGad",
        "outputId": "fdcc9504-1129-4b29-d32a-e0c51d04eadd"
      },
      "source": [
        "# average performance DOA (percentage of movie paires ranked in correct order)\n",
        "sum(DOAs)/len(DOAs)"
      ],
      "execution_count": 17,
      "outputs": [
        {
          "output_type": "execute_result",
          "data": {
            "text/plain": [
              "0.8539130346429659"
            ]
          },
          "metadata": {
            "tags": []
          },
          "execution_count": 17
        }
      ]
    },
    {
      "cell_type": "code",
      "metadata": {
        "colab": {
          "base_uri": "https://localhost:8080/",
          "height": 456
        },
        "id": "VTUm-eiCwhhM",
        "outputId": "24acf955-4d2a-4a74-d8e2-6481087ac945"
      },
      "source": [
        "# put into dataframe\n",
        "df_IRs = pd.DataFrame(IRs)\n",
        "df_IRs.columns = item_rank.movie_names\n",
        "df_IRs['StudentID'] = item_rank.user_names\n",
        "cols = list(df_IRs.columns)\n",
        "cols = [cols[-1]] + cols[:-1]\n",
        "df_IRs = df_IRs[cols]\n",
        "df_IRs"
      ],
      "execution_count": 18,
      "outputs": [
        {
          "output_type": "execute_result",
          "data": {
            "text/html": [
              "<div>\n",
              "<style scoped>\n",
              "    .dataframe tbody tr th:only-of-type {\n",
              "        vertical-align: middle;\n",
              "    }\n",
              "\n",
              "    .dataframe tbody tr th {\n",
              "        vertical-align: top;\n",
              "    }\n",
              "\n",
              "    .dataframe thead th {\n",
              "        text-align: right;\n",
              "    }\n",
              "</style>\n",
              "<table border=\"1\" class=\"dataframe\">\n",
              "  <thead>\n",
              "    <tr style=\"text-align: right;\">\n",
              "      <th></th>\n",
              "      <th>StudentID</th>\n",
              "      <th>2-PMS-116/19</th>\n",
              "      <th>2-EFM-215/17</th>\n",
              "      <th>2-PMS-135/00</th>\n",
              "      <th>2-EFM-102/15</th>\n",
              "      <th>2-EFM-106/15</th>\n",
              "      <th>2-EFM-155/18</th>\n",
              "      <th>2-PMS-129/10</th>\n",
              "      <th>2-PMS-142/19</th>\n",
              "      <th>2-EFM-119/15</th>\n",
              "      <th>2-EFM-140/19</th>\n",
              "      <th>2-EFM-151/15</th>\n",
              "      <th>2-EFM-115/15</th>\n",
              "      <th>2-EFM-201/15</th>\n",
              "      <th>2-EFM-147/15</th>\n",
              "      <th>2-PMS-123/10</th>\n",
              "      <th>2-EFM-218/16</th>\n",
              "      <th>2-PMS-109/15</th>\n",
              "      <th>2-PMS-118/10</th>\n",
              "      <th>2-EFM-103/00</th>\n",
              "      <th>2-PMS-212/15</th>\n",
              "      <th>2-MAT-114/15</th>\n",
              "      <th>2-EFM-217/11</th>\n",
              "      <th>2-EFM-236/15</th>\n",
              "      <th>2-EFM-117/12</th>\n",
              "      <th>2-EFM-152/15</th>\n",
              "      <th>2-EFM-113/18</th>\n",
              "      <th>2-EFM-105/00</th>\n",
              "      <th>2-EFM-238/17</th>\n",
              "      <th>2-EFM-125/00</th>\n",
              "      <th>2-EFM-237/15</th>\n",
              "    </tr>\n",
              "  </thead>\n",
              "  <tbody>\n",
              "    <tr>\n",
              "      <th>0</th>\n",
              "      <td>Student52</td>\n",
              "      <td>1.944310</td>\n",
              "      <td>1.241320</td>\n",
              "      <td>0.366756</td>\n",
              "      <td>1.765593</td>\n",
              "      <td>2.199624</td>\n",
              "      <td>0.682591</td>\n",
              "      <td>0.638815</td>\n",
              "      <td>0.452579</td>\n",
              "      <td>1.116184</td>\n",
              "      <td>2.302444</td>\n",
              "      <td>2.279900</td>\n",
              "      <td>0.592623</td>\n",
              "      <td>0.490768</td>\n",
              "      <td>2.116147</td>\n",
              "      <td>2.279250</td>\n",
              "      <td>1.524627</td>\n",
              "      <td>2.252470</td>\n",
              "      <td>1.101980</td>\n",
              "      <td>2.477753</td>\n",
              "      <td>0.439142</td>\n",
              "      <td>0.044723</td>\n",
              "      <td>0.382631</td>\n",
              "      <td>0.559449</td>\n",
              "      <td>0.879453</td>\n",
              "      <td>0.292048</td>\n",
              "      <td>2.029912</td>\n",
              "      <td>1.401969</td>\n",
              "      <td>1.797347</td>\n",
              "      <td>0.946733</td>\n",
              "      <td>0.392346</td>\n",
              "    </tr>\n",
              "    <tr>\n",
              "      <th>1</th>\n",
              "      <td>Student48</td>\n",
              "      <td>2.126406</td>\n",
              "      <td>1.049552</td>\n",
              "      <td>0.339840</td>\n",
              "      <td>1.534639</td>\n",
              "      <td>1.560919</td>\n",
              "      <td>0.593218</td>\n",
              "      <td>0.535104</td>\n",
              "      <td>0.387462</td>\n",
              "      <td>0.947264</td>\n",
              "      <td>1.607093</td>\n",
              "      <td>2.018166</td>\n",
              "      <td>0.141517</td>\n",
              "      <td>0.893468</td>\n",
              "      <td>1.909995</td>\n",
              "      <td>1.622985</td>\n",
              "      <td>1.737255</td>\n",
              "      <td>1.544119</td>\n",
              "      <td>0.970313</td>\n",
              "      <td>2.194683</td>\n",
              "      <td>0.371363</td>\n",
              "      <td>0.039856</td>\n",
              "      <td>0.836620</td>\n",
              "      <td>0.488495</td>\n",
              "      <td>0.757777</td>\n",
              "      <td>0.268660</td>\n",
              "      <td>1.809510</td>\n",
              "      <td>0.917652</td>\n",
              "      <td>1.159005</td>\n",
              "      <td>0.368124</td>\n",
              "      <td>0.359103</td>\n",
              "    </tr>\n",
              "    <tr>\n",
              "      <th>2</th>\n",
              "      <td>Student36</td>\n",
              "      <td>2.161607</td>\n",
              "      <td>1.069426</td>\n",
              "      <td>0.341198</td>\n",
              "      <td>1.968735</td>\n",
              "      <td>1.568893</td>\n",
              "      <td>0.603765</td>\n",
              "      <td>0.545800</td>\n",
              "      <td>0.394815</td>\n",
              "      <td>0.946869</td>\n",
              "      <td>1.622352</td>\n",
              "      <td>1.688587</td>\n",
              "      <td>0.141792</td>\n",
              "      <td>0.894311</td>\n",
              "      <td>1.511529</td>\n",
              "      <td>2.071530</td>\n",
              "      <td>1.747177</td>\n",
              "      <td>1.559133</td>\n",
              "      <td>0.975988</td>\n",
              "      <td>2.215569</td>\n",
              "      <td>0.384556</td>\n",
              "      <td>0.042314</td>\n",
              "      <td>0.833113</td>\n",
              "      <td>0.499485</td>\n",
              "      <td>1.185421</td>\n",
              "      <td>0.274628</td>\n",
              "      <td>1.461902</td>\n",
              "      <td>0.920510</td>\n",
              "      <td>1.170616</td>\n",
              "      <td>0.372043</td>\n",
              "      <td>0.367005</td>\n",
              "    </tr>\n",
              "    <tr>\n",
              "      <th>3</th>\n",
              "      <td>Student86</td>\n",
              "      <td>1.756246</td>\n",
              "      <td>1.535449</td>\n",
              "      <td>0.337905</td>\n",
              "      <td>1.584048</td>\n",
              "      <td>2.112466</td>\n",
              "      <td>0.620099</td>\n",
              "      <td>0.592334</td>\n",
              "      <td>0.404027</td>\n",
              "      <td>1.000615</td>\n",
              "      <td>2.087756</td>\n",
              "      <td>2.133976</td>\n",
              "      <td>0.134729</td>\n",
              "      <td>0.429666</td>\n",
              "      <td>1.766620</td>\n",
              "      <td>2.105165</td>\n",
              "      <td>1.387082</td>\n",
              "      <td>2.116254</td>\n",
              "      <td>1.397146</td>\n",
              "      <td>2.344901</td>\n",
              "      <td>0.404037</td>\n",
              "      <td>0.043698</td>\n",
              "      <td>0.341052</td>\n",
              "      <td>0.519539</td>\n",
              "      <td>0.805396</td>\n",
              "      <td>0.279392</td>\n",
              "      <td>1.508744</td>\n",
              "      <td>0.975668</td>\n",
              "      <td>1.249253</td>\n",
              "      <td>0.384928</td>\n",
              "      <td>0.365495</td>\n",
              "    </tr>\n",
              "    <tr>\n",
              "      <th>4</th>\n",
              "      <td>Student61</td>\n",
              "      <td>1.094617</td>\n",
              "      <td>1.105946</td>\n",
              "      <td>0.209732</td>\n",
              "      <td>1.395838</td>\n",
              "      <td>1.019490</td>\n",
              "      <td>0.384602</td>\n",
              "      <td>0.365624</td>\n",
              "      <td>0.250552</td>\n",
              "      <td>0.630796</td>\n",
              "      <td>1.057084</td>\n",
              "      <td>1.080266</td>\n",
              "      <td>0.085772</td>\n",
              "      <td>0.268838</td>\n",
              "      <td>0.957072</td>\n",
              "      <td>1.049859</td>\n",
              "      <td>1.260458</td>\n",
              "      <td>1.017085</td>\n",
              "      <td>0.621110</td>\n",
              "      <td>1.544726</td>\n",
              "      <td>0.256022</td>\n",
              "      <td>0.026655</td>\n",
              "      <td>0.213294</td>\n",
              "      <td>0.318639</td>\n",
              "      <td>0.499300</td>\n",
              "      <td>0.168609</td>\n",
              "      <td>0.925910</td>\n",
              "      <td>0.907089</td>\n",
              "      <td>0.769658</td>\n",
              "      <td>0.245457</td>\n",
              "      <td>0.223079</td>\n",
              "    </tr>\n",
              "    <tr>\n",
              "      <th>...</th>\n",
              "      <td>...</td>\n",
              "      <td>...</td>\n",
              "      <td>...</td>\n",
              "      <td>...</td>\n",
              "      <td>...</td>\n",
              "      <td>...</td>\n",
              "      <td>...</td>\n",
              "      <td>...</td>\n",
              "      <td>...</td>\n",
              "      <td>...</td>\n",
              "      <td>...</td>\n",
              "      <td>...</td>\n",
              "      <td>...</td>\n",
              "      <td>...</td>\n",
              "      <td>...</td>\n",
              "      <td>...</td>\n",
              "      <td>...</td>\n",
              "      <td>...</td>\n",
              "      <td>...</td>\n",
              "      <td>...</td>\n",
              "      <td>...</td>\n",
              "      <td>...</td>\n",
              "      <td>...</td>\n",
              "      <td>...</td>\n",
              "      <td>...</td>\n",
              "      <td>...</td>\n",
              "      <td>...</td>\n",
              "      <td>...</td>\n",
              "      <td>...</td>\n",
              "      <td>...</td>\n",
              "      <td>...</td>\n",
              "    </tr>\n",
              "    <tr>\n",
              "      <th>90</th>\n",
              "      <td>Student56</td>\n",
              "      <td>1.182938</td>\n",
              "      <td>0.764665</td>\n",
              "      <td>0.221789</td>\n",
              "      <td>1.076965</td>\n",
              "      <td>1.090443</td>\n",
              "      <td>0.411824</td>\n",
              "      <td>0.378411</td>\n",
              "      <td>0.272827</td>\n",
              "      <td>1.129649</td>\n",
              "      <td>1.138684</td>\n",
              "      <td>1.169791</td>\n",
              "      <td>0.100862</td>\n",
              "      <td>0.292596</td>\n",
              "      <td>1.035757</td>\n",
              "      <td>1.139437</td>\n",
              "      <td>1.327219</td>\n",
              "      <td>1.080594</td>\n",
              "      <td>0.668726</td>\n",
              "      <td>1.650292</td>\n",
              "      <td>0.269515</td>\n",
              "      <td>0.027287</td>\n",
              "      <td>0.228280</td>\n",
              "      <td>0.337480</td>\n",
              "      <td>0.524164</td>\n",
              "      <td>0.176682</td>\n",
              "      <td>1.377156</td>\n",
              "      <td>0.654271</td>\n",
              "      <td>0.832150</td>\n",
              "      <td>0.760858</td>\n",
              "      <td>0.242353</td>\n",
              "    </tr>\n",
              "    <tr>\n",
              "      <th>91</th>\n",
              "      <td>Student12</td>\n",
              "      <td>2.179491</td>\n",
              "      <td>1.139868</td>\n",
              "      <td>0.318812</td>\n",
              "      <td>1.580842</td>\n",
              "      <td>2.093559</td>\n",
              "      <td>0.602723</td>\n",
              "      <td>0.613470</td>\n",
              "      <td>0.396609</td>\n",
              "      <td>1.419045</td>\n",
              "      <td>1.671235</td>\n",
              "      <td>1.734241</td>\n",
              "      <td>0.132737</td>\n",
              "      <td>0.425069</td>\n",
              "      <td>1.536606</td>\n",
              "      <td>1.676679</td>\n",
              "      <td>1.801028</td>\n",
              "      <td>2.091960</td>\n",
              "      <td>0.987272</td>\n",
              "      <td>1.878662</td>\n",
              "      <td>0.878318</td>\n",
              "      <td>0.040249</td>\n",
              "      <td>0.331903</td>\n",
              "      <td>0.529536</td>\n",
              "      <td>0.792165</td>\n",
              "      <td>0.258280</td>\n",
              "      <td>1.464870</td>\n",
              "      <td>1.467118</td>\n",
              "      <td>1.625626</td>\n",
              "      <td>0.393203</td>\n",
              "      <td>0.349567</td>\n",
              "    </tr>\n",
              "    <tr>\n",
              "      <th>92</th>\n",
              "      <td>Student91</td>\n",
              "      <td>0.702376</td>\n",
              "      <td>0.444845</td>\n",
              "      <td>0.131668</td>\n",
              "      <td>1.051710</td>\n",
              "      <td>1.132714</td>\n",
              "      <td>0.247308</td>\n",
              "      <td>0.239629</td>\n",
              "      <td>0.158658</td>\n",
              "      <td>0.395059</td>\n",
              "      <td>0.664073</td>\n",
              "      <td>0.698816</td>\n",
              "      <td>0.055110</td>\n",
              "      <td>0.171669</td>\n",
              "      <td>0.606866</td>\n",
              "      <td>0.666908</td>\n",
              "      <td>0.546065</td>\n",
              "      <td>0.649818</td>\n",
              "      <td>0.404088</td>\n",
              "      <td>0.748893</td>\n",
              "      <td>0.161063</td>\n",
              "      <td>0.018108</td>\n",
              "      <td>0.134417</td>\n",
              "      <td>0.199969</td>\n",
              "      <td>0.315989</td>\n",
              "      <td>0.105396</td>\n",
              "      <td>0.595043</td>\n",
              "      <td>0.389600</td>\n",
              "      <td>0.811387</td>\n",
              "      <td>0.156618</td>\n",
              "      <td>0.139498</td>\n",
              "    </tr>\n",
              "    <tr>\n",
              "      <th>93</th>\n",
              "      <td>Student66</td>\n",
              "      <td>1.750469</td>\n",
              "      <td>1.549057</td>\n",
              "      <td>0.747482</td>\n",
              "      <td>1.995884</td>\n",
              "      <td>2.112751</td>\n",
              "      <td>0.627791</td>\n",
              "      <td>1.080697</td>\n",
              "      <td>0.899729</td>\n",
              "      <td>0.987539</td>\n",
              "      <td>1.676526</td>\n",
              "      <td>1.734914</td>\n",
              "      <td>0.139653</td>\n",
              "      <td>0.422058</td>\n",
              "      <td>1.528520</td>\n",
              "      <td>1.681129</td>\n",
              "      <td>1.378474</td>\n",
              "      <td>2.104370</td>\n",
              "      <td>1.016861</td>\n",
              "      <td>1.866501</td>\n",
              "      <td>0.412131</td>\n",
              "      <td>0.045035</td>\n",
              "      <td>0.344277</td>\n",
              "      <td>0.521488</td>\n",
              "      <td>0.814933</td>\n",
              "      <td>0.277098</td>\n",
              "      <td>1.942108</td>\n",
              "      <td>0.953793</td>\n",
              "      <td>1.240101</td>\n",
              "      <td>0.378128</td>\n",
              "      <td>0.366949</td>\n",
              "    </tr>\n",
              "    <tr>\n",
              "      <th>94</th>\n",
              "      <td>Student51</td>\n",
              "      <td>1.638923</td>\n",
              "      <td>1.041114</td>\n",
              "      <td>0.307474</td>\n",
              "      <td>1.462201</td>\n",
              "      <td>1.896501</td>\n",
              "      <td>0.564497</td>\n",
              "      <td>0.539015</td>\n",
              "      <td>0.372217</td>\n",
              "      <td>0.916658</td>\n",
              "      <td>1.979029</td>\n",
              "      <td>1.621496</td>\n",
              "      <td>0.128226</td>\n",
              "      <td>0.828007</td>\n",
              "      <td>1.431122</td>\n",
              "      <td>1.978737</td>\n",
              "      <td>1.266039</td>\n",
              "      <td>1.960047</td>\n",
              "      <td>0.929885</td>\n",
              "      <td>1.747430</td>\n",
              "      <td>0.370742</td>\n",
              "      <td>0.037800</td>\n",
              "      <td>0.337558</td>\n",
              "      <td>0.479094</td>\n",
              "      <td>0.736025</td>\n",
              "      <td>0.249771</td>\n",
              "      <td>1.373247</td>\n",
              "      <td>1.218620</td>\n",
              "      <td>1.562318</td>\n",
              "      <td>0.363461</td>\n",
              "      <td>0.335715</td>\n",
              "    </tr>\n",
              "  </tbody>\n",
              "</table>\n",
              "<p>95 rows × 31 columns</p>\n",
              "</div>"
            ],
            "text/plain": [
              "    StudentID  2-PMS-116/19  ...  2-EFM-125/00  2-EFM-237/15\n",
              "0   Student52      1.944310  ...      0.946733      0.392346\n",
              "1   Student48      2.126406  ...      0.368124      0.359103\n",
              "2   Student36      2.161607  ...      0.372043      0.367005\n",
              "3   Student86      1.756246  ...      0.384928      0.365495\n",
              "4   Student61      1.094617  ...      0.245457      0.223079\n",
              "..        ...           ...  ...           ...           ...\n",
              "90  Student56      1.182938  ...      0.760858      0.242353\n",
              "91  Student12      2.179491  ...      0.393203      0.349567\n",
              "92  Student91      0.702376  ...      0.156618      0.139498\n",
              "93  Student66      1.750469  ...      0.378128      0.366949\n",
              "94  Student51      1.638923  ...      0.363461      0.335715\n",
              "\n",
              "[95 rows x 31 columns]"
            ]
          },
          "metadata": {
            "tags": []
          },
          "execution_count": 18
        }
      ]
    },
    {
      "cell_type": "markdown",
      "metadata": {
        "id": "EoH34ggwNXWC"
      },
      "source": [
        "# BiRank"
      ]
    },
    {
      "cell_type": "code",
      "metadata": {
        "id": "byVTsK6pLc2T"
      },
      "source": [
        "# set alpha, beta\n",
        "alpha = 0.9\n",
        "beta = 0.9"
      ],
      "execution_count": 19,
      "outputs": []
    },
    {
      "cell_type": "code",
      "metadata": {
        "colab": {
          "base_uri": "https://localhost:8080/"
        },
        "id": "0lM3s8f0NZKV",
        "outputId": "e178ada8-cbf7-4fba-ad59-6cb049314750"
      },
      "source": [
        "# Calculate Inputs\n",
        "W, users, items =  gen_W(df_TRAIN['StudentID'], df_TRAIN['CourseCode'], df_TRAIN['CourseRating'])"
      ],
      "execution_count": 21,
      "outputs": [
        {
          "output_type": "stream",
          "text": [
            "Shape of W: (95, 30)\n"
          ],
          "name": "stdout"
        }
      ]
    },
    {
      "cell_type": "code",
      "metadata": {
        "colab": {
          "base_uri": "https://localhost:8080/"
        },
        "id": "17RdQAN5NpMh",
        "outputId": "b99faa98-e299-46d5-989c-13bce8d644a2"
      },
      "source": [
        "# calculate itemranks\n",
        "start_time = time.time()\n",
        "a = alpha\n",
        "b = beta\n",
        "BRs = []\n",
        "DOAs = []\n",
        "UserCounter = 0\n",
        "for user_name in users:\n",
        "    UserCounter +=  1\n",
        "    # set inital vector\n",
        "    v0 =  (W.toarray()[UserCounter-1,:])/(W.toarray()[UserCounter-1,:].sum())\n",
        "    # calculate ranks of items for a user\n",
        "    u, v = birank(W, v0=v0, alpha=a, beta=b, max_iter=200, tol=0.0001, verbose=False)\n",
        "    BR = v\n",
        "    # append\n",
        "    BRs.append(BR)\n",
        "    \n",
        "np.array(BRs).shape"
      ],
      "execution_count": 22,
      "outputs": [
        {
          "output_type": "execute_result",
          "data": {
            "text/plain": [
              "(95, 30)"
            ]
          },
          "metadata": {
            "tags": []
          },
          "execution_count": 22
        }
      ]
    },
    {
      "cell_type": "code",
      "metadata": {
        "colab": {
          "base_uri": "https://localhost:8080/",
          "height": 456
        },
        "id": "_UTt1R-cNrGR",
        "outputId": "97a4a9e9-94f4-4af0-e332-49658d3ab2ee"
      },
      "source": [
        "# put into dataframe\n",
        "df_BRs = pd.DataFrame(BRs)\n",
        "df_BRs.columns = items\n",
        "df_BRs['StudentID'] = users\n",
        "cols = list(df_BRs.columns)\n",
        "cols = [cols[-1]] + cols[:-1]\n",
        "df_BRs = df_BRs[cols]\n",
        "df_BRs"
      ],
      "execution_count": 23,
      "outputs": [
        {
          "output_type": "execute_result",
          "data": {
            "text/html": [
              "<div>\n",
              "<style scoped>\n",
              "    .dataframe tbody tr th:only-of-type {\n",
              "        vertical-align: middle;\n",
              "    }\n",
              "\n",
              "    .dataframe tbody tr th {\n",
              "        vertical-align: top;\n",
              "    }\n",
              "\n",
              "    .dataframe thead th {\n",
              "        text-align: right;\n",
              "    }\n",
              "</style>\n",
              "<table border=\"1\" class=\"dataframe\">\n",
              "  <thead>\n",
              "    <tr style=\"text-align: right;\">\n",
              "      <th></th>\n",
              "      <th>StudentID</th>\n",
              "      <th>2-PMS-135/00</th>\n",
              "      <th>2-PMS-118/10</th>\n",
              "      <th>2-EFM-115/15</th>\n",
              "      <th>2-EFM-117/12</th>\n",
              "      <th>2-PMS-142/19</th>\n",
              "      <th>2-PMS-116/19</th>\n",
              "      <th>2-EFM-152/15</th>\n",
              "      <th>2-PMS-129/10</th>\n",
              "      <th>2-EFM-103/00</th>\n",
              "      <th>2-EFM-140/19</th>\n",
              "      <th>2-EFM-147/15</th>\n",
              "      <th>2-EFM-218/16</th>\n",
              "      <th>2-EFM-102/15</th>\n",
              "      <th>2-PMS-123/10</th>\n",
              "      <th>2-EFM-106/15</th>\n",
              "      <th>2-EFM-201/15</th>\n",
              "      <th>2-EFM-151/15</th>\n",
              "      <th>2-EFM-119/15</th>\n",
              "      <th>2-PMS-109/15</th>\n",
              "      <th>2-EFM-236/15</th>\n",
              "      <th>2-EFM-113/18</th>\n",
              "      <th>2-EFM-155/18</th>\n",
              "      <th>2-EFM-215/17</th>\n",
              "      <th>2-EFM-237/15</th>\n",
              "      <th>2-PMS-212/15</th>\n",
              "      <th>2-EFM-105/00</th>\n",
              "      <th>2-EFM-238/17</th>\n",
              "      <th>2-EFM-125/00</th>\n",
              "      <th>2-EFM-217/11</th>\n",
              "      <th>2-MAT-114/15</th>\n",
              "    </tr>\n",
              "  </thead>\n",
              "  <tbody>\n",
              "    <tr>\n",
              "      <th>0</th>\n",
              "      <td>Student72</td>\n",
              "      <td>0.023382</td>\n",
              "      <td>0.032539</td>\n",
              "      <td>0.008700</td>\n",
              "      <td>0.022387</td>\n",
              "      <td>0.016463</td>\n",
              "      <td>0.033797</td>\n",
              "      <td>0.014313</td>\n",
              "      <td>0.018929</td>\n",
              "      <td>0.044997</td>\n",
              "      <td>0.042325</td>\n",
              "      <td>0.029972</td>\n",
              "      <td>0.039432</td>\n",
              "      <td>0.043767</td>\n",
              "      <td>0.043663</td>\n",
              "      <td>0.033343</td>\n",
              "      <td>0.017875</td>\n",
              "      <td>0.039914</td>\n",
              "      <td>0.024287</td>\n",
              "      <td>0.044802</td>\n",
              "      <td>0.017329</td>\n",
              "      <td>0.041829</td>\n",
              "      <td>0.029747</td>\n",
              "      <td>0.027753</td>\n",
              "      <td>0.015224</td>\n",
              "      <td>0.016291</td>\n",
              "      <td>0.022520</td>\n",
              "      <td>0.033812</td>\n",
              "      <td>0.014594</td>\n",
              "      <td>0.016252</td>\n",
              "      <td>0.004679</td>\n",
              "    </tr>\n",
              "    <tr>\n",
              "      <th>1</th>\n",
              "      <td>Student25</td>\n",
              "      <td>0.014211</td>\n",
              "      <td>0.035667</td>\n",
              "      <td>0.008023</td>\n",
              "      <td>0.021773</td>\n",
              "      <td>0.016056</td>\n",
              "      <td>0.033009</td>\n",
              "      <td>0.013817</td>\n",
              "      <td>0.031492</td>\n",
              "      <td>0.045787</td>\n",
              "      <td>0.033159</td>\n",
              "      <td>0.029644</td>\n",
              "      <td>0.029634</td>\n",
              "      <td>0.033930</td>\n",
              "      <td>0.033919</td>\n",
              "      <td>0.045549</td>\n",
              "      <td>0.016952</td>\n",
              "      <td>0.031401</td>\n",
              "      <td>0.035705</td>\n",
              "      <td>0.047112</td>\n",
              "      <td>0.017889</td>\n",
              "      <td>0.041352</td>\n",
              "      <td>0.019013</td>\n",
              "      <td>0.039828</td>\n",
              "      <td>0.014532</td>\n",
              "      <td>0.017018</td>\n",
              "      <td>0.023006</td>\n",
              "      <td>0.038936</td>\n",
              "      <td>0.014672</td>\n",
              "      <td>0.015018</td>\n",
              "      <td>0.004797</td>\n",
              "    </tr>\n",
              "    <tr>\n",
              "      <th>2</th>\n",
              "      <td>Student52</td>\n",
              "      <td>0.013666</td>\n",
              "      <td>0.023468</td>\n",
              "      <td>0.017839</td>\n",
              "      <td>0.021390</td>\n",
              "      <td>0.016016</td>\n",
              "      <td>0.032638</td>\n",
              "      <td>0.013682</td>\n",
              "      <td>0.018800</td>\n",
              "      <td>0.042416</td>\n",
              "      <td>0.042354</td>\n",
              "      <td>0.038237</td>\n",
              "      <td>0.029250</td>\n",
              "      <td>0.033654</td>\n",
              "      <td>0.042670</td>\n",
              "      <td>0.040703</td>\n",
              "      <td>0.017568</td>\n",
              "      <td>0.038324</td>\n",
              "      <td>0.024117</td>\n",
              "      <td>0.043666</td>\n",
              "      <td>0.017242</td>\n",
              "      <td>0.038860</td>\n",
              "      <td>0.018897</td>\n",
              "      <td>0.026697</td>\n",
              "      <td>0.014473</td>\n",
              "      <td>0.016119</td>\n",
              "      <td>0.029442</td>\n",
              "      <td>0.035867</td>\n",
              "      <td>0.025402</td>\n",
              "      <td>0.015427</td>\n",
              "      <td>0.004326</td>\n",
              "    </tr>\n",
              "    <tr>\n",
              "      <th>3</th>\n",
              "      <td>Student22</td>\n",
              "      <td>0.013503</td>\n",
              "      <td>0.022886</td>\n",
              "      <td>0.007814</td>\n",
              "      <td>0.033368</td>\n",
              "      <td>0.015732</td>\n",
              "      <td>0.044762</td>\n",
              "      <td>0.013694</td>\n",
              "      <td>0.031276</td>\n",
              "      <td>0.033165</td>\n",
              "      <td>0.031951</td>\n",
              "      <td>0.028488</td>\n",
              "      <td>0.028295</td>\n",
              "      <td>0.032798</td>\n",
              "      <td>0.045106</td>\n",
              "      <td>0.031505</td>\n",
              "      <td>0.016660</td>\n",
              "      <td>0.040774</td>\n",
              "      <td>0.023506</td>\n",
              "      <td>0.032929</td>\n",
              "      <td>0.017498</td>\n",
              "      <td>0.040406</td>\n",
              "      <td>0.018638</td>\n",
              "      <td>0.039362</td>\n",
              "      <td>0.014806</td>\n",
              "      <td>0.029138</td>\n",
              "      <td>0.021866</td>\n",
              "      <td>0.037865</td>\n",
              "      <td>0.013791</td>\n",
              "      <td>0.014763</td>\n",
              "      <td>0.004476</td>\n",
              "    </tr>\n",
              "    <tr>\n",
              "      <th>4</th>\n",
              "      <td>Student78</td>\n",
              "      <td>0.023012</td>\n",
              "      <td>0.022269</td>\n",
              "      <td>0.018131</td>\n",
              "      <td>0.019955</td>\n",
              "      <td>0.015320</td>\n",
              "      <td>0.041611</td>\n",
              "      <td>0.013082</td>\n",
              "      <td>0.017396</td>\n",
              "      <td>0.043069</td>\n",
              "      <td>0.030788</td>\n",
              "      <td>0.032949</td>\n",
              "      <td>0.037417</td>\n",
              "      <td>0.041969</td>\n",
              "      <td>0.031726</td>\n",
              "      <td>0.041503</td>\n",
              "      <td>0.029404</td>\n",
              "      <td>0.038435</td>\n",
              "      <td>0.022338</td>\n",
              "      <td>0.031604</td>\n",
              "      <td>0.016198</td>\n",
              "      <td>0.029099</td>\n",
              "      <td>0.018092</td>\n",
              "      <td>0.024802</td>\n",
              "      <td>0.014242</td>\n",
              "      <td>0.014979</td>\n",
              "      <td>0.021029</td>\n",
              "      <td>0.024689</td>\n",
              "      <td>0.013679</td>\n",
              "      <td>0.027856</td>\n",
              "      <td>0.004237</td>\n",
              "    </tr>\n",
              "    <tr>\n",
              "      <th>...</th>\n",
              "      <td>...</td>\n",
              "      <td>...</td>\n",
              "      <td>...</td>\n",
              "      <td>...</td>\n",
              "      <td>...</td>\n",
              "      <td>...</td>\n",
              "      <td>...</td>\n",
              "      <td>...</td>\n",
              "      <td>...</td>\n",
              "      <td>...</td>\n",
              "      <td>...</td>\n",
              "      <td>...</td>\n",
              "      <td>...</td>\n",
              "      <td>...</td>\n",
              "      <td>...</td>\n",
              "      <td>...</td>\n",
              "      <td>...</td>\n",
              "      <td>...</td>\n",
              "      <td>...</td>\n",
              "      <td>...</td>\n",
              "      <td>...</td>\n",
              "      <td>...</td>\n",
              "      <td>...</td>\n",
              "      <td>...</td>\n",
              "      <td>...</td>\n",
              "      <td>...</td>\n",
              "      <td>...</td>\n",
              "      <td>...</td>\n",
              "      <td>...</td>\n",
              "      <td>...</td>\n",
              "      <td>...</td>\n",
              "    </tr>\n",
              "    <tr>\n",
              "      <th>90</th>\n",
              "      <td>Student56</td>\n",
              "      <td>0.013507</td>\n",
              "      <td>0.022539</td>\n",
              "      <td>0.008795</td>\n",
              "      <td>0.020270</td>\n",
              "      <td>0.015418</td>\n",
              "      <td>0.031674</td>\n",
              "      <td>0.012770</td>\n",
              "      <td>0.017203</td>\n",
              "      <td>0.052638</td>\n",
              "      <td>0.031850</td>\n",
              "      <td>0.028182</td>\n",
              "      <td>0.049546</td>\n",
              "      <td>0.032597</td>\n",
              "      <td>0.032505</td>\n",
              "      <td>0.030707</td>\n",
              "      <td>0.016741</td>\n",
              "      <td>0.029631</td>\n",
              "      <td>0.046473</td>\n",
              "      <td>0.031899</td>\n",
              "      <td>0.016086</td>\n",
              "      <td>0.049108</td>\n",
              "      <td>0.018303</td>\n",
              "      <td>0.026308</td>\n",
              "      <td>0.013957</td>\n",
              "      <td>0.015485</td>\n",
              "      <td>0.021492</td>\n",
              "      <td>0.025545</td>\n",
              "      <td>0.039886</td>\n",
              "      <td>0.014889</td>\n",
              "      <td>0.004050</td>\n",
              "    </tr>\n",
              "    <tr>\n",
              "      <th>91</th>\n",
              "      <td>Student66</td>\n",
              "      <td>0.025643</td>\n",
              "      <td>0.022791</td>\n",
              "      <td>0.008063</td>\n",
              "      <td>0.021077</td>\n",
              "      <td>0.030246</td>\n",
              "      <td>0.031743</td>\n",
              "      <td>0.013404</td>\n",
              "      <td>0.032872</td>\n",
              "      <td>0.032644</td>\n",
              "      <td>0.031545</td>\n",
              "      <td>0.028020</td>\n",
              "      <td>0.028326</td>\n",
              "      <td>0.045035</td>\n",
              "      <td>0.032330</td>\n",
              "      <td>0.045485</td>\n",
              "      <td>0.016190</td>\n",
              "      <td>0.029800</td>\n",
              "      <td>0.022854</td>\n",
              "      <td>0.046824</td>\n",
              "      <td>0.016808</td>\n",
              "      <td>0.042923</td>\n",
              "      <td>0.018587</td>\n",
              "      <td>0.038093</td>\n",
              "      <td>0.014308</td>\n",
              "      <td>0.016047</td>\n",
              "      <td>0.021416</td>\n",
              "      <td>0.025554</td>\n",
              "      <td>0.013458</td>\n",
              "      <td>0.014768</td>\n",
              "      <td>0.004556</td>\n",
              "    </tr>\n",
              "    <tr>\n",
              "      <th>92</th>\n",
              "      <td>Student91</td>\n",
              "      <td>0.014838</td>\n",
              "      <td>0.025703</td>\n",
              "      <td>0.009130</td>\n",
              "      <td>0.022958</td>\n",
              "      <td>0.017250</td>\n",
              "      <td>0.035607</td>\n",
              "      <td>0.014417</td>\n",
              "      <td>0.021432</td>\n",
              "      <td>0.037151</td>\n",
              "      <td>0.035320</td>\n",
              "      <td>0.031653</td>\n",
              "      <td>0.031781</td>\n",
              "      <td>0.074227</td>\n",
              "      <td>0.036199</td>\n",
              "      <td>0.077510</td>\n",
              "      <td>0.018832</td>\n",
              "      <td>0.034267</td>\n",
              "      <td>0.025891</td>\n",
              "      <td>0.037154</td>\n",
              "      <td>0.018352</td>\n",
              "      <td>0.033229</td>\n",
              "      <td>0.020682</td>\n",
              "      <td>0.028629</td>\n",
              "      <td>0.015358</td>\n",
              "      <td>0.017895</td>\n",
              "      <td>0.024989</td>\n",
              "      <td>0.056984</td>\n",
              "      <td>0.015768</td>\n",
              "      <td>0.016413</td>\n",
              "      <td>0.005238</td>\n",
              "    </tr>\n",
              "    <tr>\n",
              "      <th>93</th>\n",
              "      <td>Student67</td>\n",
              "      <td>0.028085</td>\n",
              "      <td>0.036513</td>\n",
              "      <td>0.008543</td>\n",
              "      <td>0.022393</td>\n",
              "      <td>0.016340</td>\n",
              "      <td>0.033593</td>\n",
              "      <td>0.014638</td>\n",
              "      <td>0.018537</td>\n",
              "      <td>0.049733</td>\n",
              "      <td>0.046445</td>\n",
              "      <td>0.029533</td>\n",
              "      <td>0.043512</td>\n",
              "      <td>0.034201</td>\n",
              "      <td>0.048111</td>\n",
              "      <td>0.032537</td>\n",
              "      <td>0.017575</td>\n",
              "      <td>0.031453</td>\n",
              "      <td>0.024551</td>\n",
              "      <td>0.034377</td>\n",
              "      <td>0.017330</td>\n",
              "      <td>0.046679</td>\n",
              "      <td>0.019798</td>\n",
              "      <td>0.040829</td>\n",
              "      <td>0.015466</td>\n",
              "      <td>0.016056</td>\n",
              "      <td>0.022119</td>\n",
              "      <td>0.026880</td>\n",
              "      <td>0.014444</td>\n",
              "      <td>0.016096</td>\n",
              "      <td>0.004459</td>\n",
              "    </tr>\n",
              "    <tr>\n",
              "      <th>94</th>\n",
              "      <td>Student23</td>\n",
              "      <td>0.015519</td>\n",
              "      <td>0.026643</td>\n",
              "      <td>0.009873</td>\n",
              "      <td>0.024874</td>\n",
              "      <td>0.018080</td>\n",
              "      <td>0.037610</td>\n",
              "      <td>0.016771</td>\n",
              "      <td>0.020997</td>\n",
              "      <td>0.072300</td>\n",
              "      <td>0.074352</td>\n",
              "      <td>0.033877</td>\n",
              "      <td>0.034030</td>\n",
              "      <td>0.074643</td>\n",
              "      <td>0.038375</td>\n",
              "      <td>0.036802</td>\n",
              "      <td>0.020038</td>\n",
              "      <td>0.034992</td>\n",
              "      <td>0.027421</td>\n",
              "      <td>0.038528</td>\n",
              "      <td>0.019647</td>\n",
              "      <td>0.035264</td>\n",
              "      <td>0.022455</td>\n",
              "      <td>0.030641</td>\n",
              "      <td>0.016975</td>\n",
              "      <td>0.018375</td>\n",
              "      <td>0.025592</td>\n",
              "      <td>0.029848</td>\n",
              "      <td>0.016837</td>\n",
              "      <td>0.017673</td>\n",
              "      <td>0.005358</td>\n",
              "    </tr>\n",
              "  </tbody>\n",
              "</table>\n",
              "<p>95 rows × 31 columns</p>\n",
              "</div>"
            ],
            "text/plain": [
              "    StudentID  2-PMS-135/00  ...  2-EFM-217/11  2-MAT-114/15\n",
              "0   Student72      0.023382  ...      0.016252      0.004679\n",
              "1   Student25      0.014211  ...      0.015018      0.004797\n",
              "2   Student52      0.013666  ...      0.015427      0.004326\n",
              "3   Student22      0.013503  ...      0.014763      0.004476\n",
              "4   Student78      0.023012  ...      0.027856      0.004237\n",
              "..        ...           ...  ...           ...           ...\n",
              "90  Student56      0.013507  ...      0.014889      0.004050\n",
              "91  Student66      0.025643  ...      0.014768      0.004556\n",
              "92  Student91      0.014838  ...      0.016413      0.005238\n",
              "93  Student67      0.028085  ...      0.016096      0.004459\n",
              "94  Student23      0.015519  ...      0.017673      0.005358\n",
              "\n",
              "[95 rows x 31 columns]"
            ]
          },
          "metadata": {
            "tags": []
          },
          "execution_count": 23
        }
      ]
    },
    {
      "cell_type": "markdown",
      "metadata": {
        "id": "_aUiEcMrNuJG"
      },
      "source": [
        "# Data Preparation"
      ]
    },
    {
      "cell_type": "code",
      "metadata": {
        "colab": {
          "base_uri": "https://localhost:8080/",
          "height": 419
        },
        "id": "NWLZ_tSy0DOG",
        "outputId": "c207fd96-1f40-48af-dbdd-6e3a9f8ed2fb"
      },
      "source": [
        "# save pairs with label 1 - from network itemrank test pairs\n",
        "df_Label2 = df_TRAIN[['StudentID', 'CourseCode']].copy()\n",
        "df_Label2.insert(2, 'Label', 2)\n",
        "df_Label2"
      ],
      "execution_count": 24,
      "outputs": [
        {
          "output_type": "execute_result",
          "data": {
            "text/html": [
              "<div>\n",
              "<style scoped>\n",
              "    .dataframe tbody tr th:only-of-type {\n",
              "        vertical-align: middle;\n",
              "    }\n",
              "\n",
              "    .dataframe tbody tr th {\n",
              "        vertical-align: top;\n",
              "    }\n",
              "\n",
              "    .dataframe thead th {\n",
              "        text-align: right;\n",
              "    }\n",
              "</style>\n",
              "<table border=\"1\" class=\"dataframe\">\n",
              "  <thead>\n",
              "    <tr style=\"text-align: right;\">\n",
              "      <th></th>\n",
              "      <th>StudentID</th>\n",
              "      <th>CourseCode</th>\n",
              "      <th>Label</th>\n",
              "    </tr>\n",
              "  </thead>\n",
              "  <tbody>\n",
              "    <tr>\n",
              "      <th>1126</th>\n",
              "      <td>Student72</td>\n",
              "      <td>2-PMS-135/00</td>\n",
              "      <td>2</td>\n",
              "    </tr>\n",
              "    <tr>\n",
              "      <th>390</th>\n",
              "      <td>Student25</td>\n",
              "      <td>2-PMS-118/10</td>\n",
              "      <td>2</td>\n",
              "    </tr>\n",
              "    <tr>\n",
              "      <th>824</th>\n",
              "      <td>Student52</td>\n",
              "      <td>2-EFM-115/15</td>\n",
              "      <td>2</td>\n",
              "    </tr>\n",
              "    <tr>\n",
              "      <th>341</th>\n",
              "      <td>Student22</td>\n",
              "      <td>2-EFM-117/12</td>\n",
              "      <td>2</td>\n",
              "    </tr>\n",
              "    <tr>\n",
              "      <th>1213</th>\n",
              "      <td>Student78</td>\n",
              "      <td>2-PMS-135/00</td>\n",
              "      <td>2</td>\n",
              "    </tr>\n",
              "    <tr>\n",
              "      <th>...</th>\n",
              "      <td>...</td>\n",
              "      <td>...</td>\n",
              "      <td>...</td>\n",
              "    </tr>\n",
              "    <tr>\n",
              "      <th>265</th>\n",
              "      <td>Student17</td>\n",
              "      <td>2-EFM-106/15</td>\n",
              "      <td>2</td>\n",
              "    </tr>\n",
              "    <tr>\n",
              "      <th>898</th>\n",
              "      <td>Student57</td>\n",
              "      <td>2-PMS-109/15</td>\n",
              "      <td>2</td>\n",
              "    </tr>\n",
              "    <tr>\n",
              "      <th>1439</th>\n",
              "      <td>Student93</td>\n",
              "      <td>2-EFM-215/17</td>\n",
              "      <td>2</td>\n",
              "    </tr>\n",
              "    <tr>\n",
              "      <th>434</th>\n",
              "      <td>Student28</td>\n",
              "      <td>2-PMS-123/10</td>\n",
              "      <td>2</td>\n",
              "    </tr>\n",
              "    <tr>\n",
              "      <th>110</th>\n",
              "      <td>Student6</td>\n",
              "      <td>2-EFM-119/15</td>\n",
              "      <td>2</td>\n",
              "    </tr>\n",
              "  </tbody>\n",
              "</table>\n",
              "<p>800 rows × 3 columns</p>\n",
              "</div>"
            ],
            "text/plain": [
              "      StudentID    CourseCode  Label\n",
              "1126  Student72  2-PMS-135/00      2\n",
              "390   Student25  2-PMS-118/10      2\n",
              "824   Student52  2-EFM-115/15      2\n",
              "341   Student22  2-EFM-117/12      2\n",
              "1213  Student78  2-PMS-135/00      2\n",
              "...         ...           ...    ...\n",
              "265   Student17  2-EFM-106/15      2\n",
              "898   Student57  2-PMS-109/15      2\n",
              "1439  Student93  2-EFM-215/17      2\n",
              "434   Student28  2-PMS-123/10      2\n",
              "110    Student6  2-EFM-119/15      2\n",
              "\n",
              "[800 rows x 3 columns]"
            ]
          },
          "metadata": {
            "tags": []
          },
          "execution_count": 24
        }
      ]
    },
    {
      "cell_type": "code",
      "metadata": {
        "colab": {
          "base_uri": "https://localhost:8080/",
          "height": 419
        },
        "id": "mTmnkhh5wk_V",
        "outputId": "cb684ef1-2619-4eee-e30d-45125ed1ec1b"
      },
      "source": [
        "# save pairs with label 1 - from network itemrank test pairs\n",
        "df_Label1 = df_TEST[['StudentID', 'CourseCode']].copy()\n",
        "df_Label1.insert(2, 'Label', 1)\n",
        "df_Label1"
      ],
      "execution_count": 25,
      "outputs": [
        {
          "output_type": "execute_result",
          "data": {
            "text/html": [
              "<div>\n",
              "<style scoped>\n",
              "    .dataframe tbody tr th:only-of-type {\n",
              "        vertical-align: middle;\n",
              "    }\n",
              "\n",
              "    .dataframe tbody tr th {\n",
              "        vertical-align: top;\n",
              "    }\n",
              "\n",
              "    .dataframe thead th {\n",
              "        text-align: right;\n",
              "    }\n",
              "</style>\n",
              "<table border=\"1\" class=\"dataframe\">\n",
              "  <thead>\n",
              "    <tr style=\"text-align: right;\">\n",
              "      <th></th>\n",
              "      <th>StudentID</th>\n",
              "      <th>CourseCode</th>\n",
              "      <th>Label</th>\n",
              "    </tr>\n",
              "  </thead>\n",
              "  <tbody>\n",
              "    <tr>\n",
              "      <th>510</th>\n",
              "      <td>Student33</td>\n",
              "      <td>2-EFM-113/18</td>\n",
              "      <td>1</td>\n",
              "    </tr>\n",
              "    <tr>\n",
              "      <th>40</th>\n",
              "      <td>Student2</td>\n",
              "      <td>2-EFM-119/15</td>\n",
              "      <td>1</td>\n",
              "    </tr>\n",
              "    <tr>\n",
              "      <th>1023</th>\n",
              "      <td>Student65</td>\n",
              "      <td>2-EFM-218/16</td>\n",
              "      <td>1</td>\n",
              "    </tr>\n",
              "    <tr>\n",
              "      <th>276</th>\n",
              "      <td>Student18</td>\n",
              "      <td>2-EFM-236/15</td>\n",
              "      <td>1</td>\n",
              "    </tr>\n",
              "    <tr>\n",
              "      <th>339</th>\n",
              "      <td>Student22</td>\n",
              "      <td>2-EFM-103/00</td>\n",
              "      <td>1</td>\n",
              "    </tr>\n",
              "    <tr>\n",
              "      <th>...</th>\n",
              "      <td>...</td>\n",
              "      <td>...</td>\n",
              "      <td>...</td>\n",
              "    </tr>\n",
              "    <tr>\n",
              "      <th>715</th>\n",
              "      <td>Student45</td>\n",
              "      <td>2-EFM-140/19</td>\n",
              "      <td>1</td>\n",
              "    </tr>\n",
              "    <tr>\n",
              "      <th>905</th>\n",
              "      <td>Student58</td>\n",
              "      <td>2-EFM-102/15</td>\n",
              "      <td>1</td>\n",
              "    </tr>\n",
              "    <tr>\n",
              "      <th>1096</th>\n",
              "      <td>Student70</td>\n",
              "      <td>2-EFM-151/15</td>\n",
              "      <td>1</td>\n",
              "    </tr>\n",
              "    <tr>\n",
              "      <th>235</th>\n",
              "      <td>Student15</td>\n",
              "      <td>2-EFM-125/00</td>\n",
              "      <td>1</td>\n",
              "    </tr>\n",
              "    <tr>\n",
              "      <th>1061</th>\n",
              "      <td>Student68</td>\n",
              "      <td>2-PMS-135/00</td>\n",
              "      <td>1</td>\n",
              "    </tr>\n",
              "  </tbody>\n",
              "</table>\n",
              "<p>673 rows × 3 columns</p>\n",
              "</div>"
            ],
            "text/plain": [
              "      StudentID    CourseCode  Label\n",
              "510   Student33  2-EFM-113/18      1\n",
              "40     Student2  2-EFM-119/15      1\n",
              "1023  Student65  2-EFM-218/16      1\n",
              "276   Student18  2-EFM-236/15      1\n",
              "339   Student22  2-EFM-103/00      1\n",
              "...         ...           ...    ...\n",
              "715   Student45  2-EFM-140/19      1\n",
              "905   Student58  2-EFM-102/15      1\n",
              "1096  Student70  2-EFM-151/15      1\n",
              "235   Student15  2-EFM-125/00      1\n",
              "1061  Student68  2-PMS-135/00      1\n",
              "\n",
              "[673 rows x 3 columns]"
            ]
          },
          "metadata": {
            "tags": []
          },
          "execution_count": 25
        }
      ]
    },
    {
      "cell_type": "code",
      "metadata": {
        "id": "r1PLtd6j7wLK"
      },
      "source": [
        "# select label 0 connections \n",
        "# generate 3000 random \n",
        "random.seed(30)\n",
        "df_Label0 = pd.DataFrame(index=range(3000), columns=['StudentID', 'CourseCode'])\n",
        "for i in range(3000):    \n",
        "    df_Label0['StudentID'][i] = random.choice(list(df_Label1['StudentID'].unique()))\n",
        "    df_Label0['CourseCode'][i]= random.choice(list(df_Label1['CourseCode'].unique()))"
      ],
      "execution_count": 26,
      "outputs": []
    },
    {
      "cell_type": "code",
      "metadata": {
        "colab": {
          "base_uri": "https://localhost:8080/"
        },
        "id": "fQ62W26w_ioh",
        "outputId": "479daee1-9348-45c0-b2b5-790f856892a0"
      },
      "source": [
        "# drop duplicates\n",
        "df_Label0 = df_Label0.drop_duplicates()\n",
        "df_Label0.shape"
      ],
      "execution_count": 27,
      "outputs": [
        {
          "output_type": "execute_result",
          "data": {
            "text/plain": [
              "(1818, 2)"
            ]
          },
          "metadata": {
            "tags": []
          },
          "execution_count": 27
        }
      ]
    },
    {
      "cell_type": "code",
      "metadata": {
        "colab": {
          "base_uri": "https://localhost:8080/",
          "height": 419
        },
        "id": "JHs769jb_tKK",
        "outputId": "4e48c206-4655-4e95-b0d8-3fc8a26fe295"
      },
      "source": [
        "# drop pairs that already exists\n",
        "\n",
        "# create dataframe with existing pairs\n",
        "df_exist = df2[['StudentID', 'CourseCode']]\n",
        "df_exist.insert(2, 'Label2', 2)\n",
        "# left join to labeled0\n",
        "df_Label0 = df_Label0.join(df_exist.set_index(['StudentID', 'CourseCode']), on= ['StudentID', 'CourseCode'], how='left')\n",
        "# remove existing pair\n",
        "df_Label0 = df_Label0[['StudentID', 'CourseCode']].loc[~(df_Label0['Label2']==2)]\n",
        "# add label 0\n",
        "df_Label0.insert(2, 'Label', 0)\n",
        "df_Label0"
      ],
      "execution_count": 28,
      "outputs": [
        {
          "output_type": "execute_result",
          "data": {
            "text/html": [
              "<div>\n",
              "<style scoped>\n",
              "    .dataframe tbody tr th:only-of-type {\n",
              "        vertical-align: middle;\n",
              "    }\n",
              "\n",
              "    .dataframe tbody tr th {\n",
              "        vertical-align: top;\n",
              "    }\n",
              "\n",
              "    .dataframe thead th {\n",
              "        text-align: right;\n",
              "    }\n",
              "</style>\n",
              "<table border=\"1\" class=\"dataframe\">\n",
              "  <thead>\n",
              "    <tr style=\"text-align: right;\">\n",
              "      <th></th>\n",
              "      <th>StudentID</th>\n",
              "      <th>CourseCode</th>\n",
              "      <th>Label</th>\n",
              "    </tr>\n",
              "  </thead>\n",
              "  <tbody>\n",
              "    <tr>\n",
              "      <th>0</th>\n",
              "      <td>Student91</td>\n",
              "      <td>2-PMS-129/10</td>\n",
              "      <td>0</td>\n",
              "    </tr>\n",
              "    <tr>\n",
              "      <th>1</th>\n",
              "      <td>Student56</td>\n",
              "      <td>2-PMS-123/10</td>\n",
              "      <td>0</td>\n",
              "    </tr>\n",
              "    <tr>\n",
              "      <th>3</th>\n",
              "      <td>Student48</td>\n",
              "      <td>2-PMS-142/19</td>\n",
              "      <td>0</td>\n",
              "    </tr>\n",
              "    <tr>\n",
              "      <th>5</th>\n",
              "      <td>Student52</td>\n",
              "      <td>2-EFM-237/15</td>\n",
              "      <td>0</td>\n",
              "    </tr>\n",
              "    <tr>\n",
              "      <th>6</th>\n",
              "      <td>Student27</td>\n",
              "      <td>2-EFM-152/15</td>\n",
              "      <td>0</td>\n",
              "    </tr>\n",
              "    <tr>\n",
              "      <th>...</th>\n",
              "      <td>...</td>\n",
              "      <td>...</td>\n",
              "      <td>...</td>\n",
              "    </tr>\n",
              "    <tr>\n",
              "      <th>2971</th>\n",
              "      <td>Student63</td>\n",
              "      <td>2-EFM-237/15</td>\n",
              "      <td>0</td>\n",
              "    </tr>\n",
              "    <tr>\n",
              "      <th>2973</th>\n",
              "      <td>Student50</td>\n",
              "      <td>2-EFM-155/18</td>\n",
              "      <td>0</td>\n",
              "    </tr>\n",
              "    <tr>\n",
              "      <th>2988</th>\n",
              "      <td>Student27</td>\n",
              "      <td>2-EFM-115/15</td>\n",
              "      <td>0</td>\n",
              "    </tr>\n",
              "    <tr>\n",
              "      <th>2992</th>\n",
              "      <td>Student6</td>\n",
              "      <td>2-PMS-135/00</td>\n",
              "      <td>0</td>\n",
              "    </tr>\n",
              "    <tr>\n",
              "      <th>2999</th>\n",
              "      <td>Student67</td>\n",
              "      <td>2-EFM-105/00</td>\n",
              "      <td>0</td>\n",
              "    </tr>\n",
              "  </tbody>\n",
              "</table>\n",
              "<p>905 rows × 3 columns</p>\n",
              "</div>"
            ],
            "text/plain": [
              "      StudentID    CourseCode  Label\n",
              "0     Student91  2-PMS-129/10      0\n",
              "1     Student56  2-PMS-123/10      0\n",
              "3     Student48  2-PMS-142/19      0\n",
              "5     Student52  2-EFM-237/15      0\n",
              "6     Student27  2-EFM-152/15      0\n",
              "...         ...           ...    ...\n",
              "2971  Student63  2-EFM-237/15      0\n",
              "2973  Student50  2-EFM-155/18      0\n",
              "2988  Student27  2-EFM-115/15      0\n",
              "2992   Student6  2-PMS-135/00      0\n",
              "2999  Student67  2-EFM-105/00      0\n",
              "\n",
              "[905 rows x 3 columns]"
            ]
          },
          "metadata": {
            "tags": []
          },
          "execution_count": 28
        }
      ]
    },
    {
      "cell_type": "code",
      "metadata": {
        "colab": {
          "base_uri": "https://localhost:8080/",
          "height": 419
        },
        "id": "trUMJ2-JB0HB",
        "outputId": "9d165f90-a8e5-446a-91f6-94b3b91aca49"
      },
      "source": [
        "# put them together\n",
        "df_Labeled_Final = pd.concat([df_Label1, df_Label0, df_Label2])\n",
        "df_Labeled_Final"
      ],
      "execution_count": 29,
      "outputs": [
        {
          "output_type": "execute_result",
          "data": {
            "text/html": [
              "<div>\n",
              "<style scoped>\n",
              "    .dataframe tbody tr th:only-of-type {\n",
              "        vertical-align: middle;\n",
              "    }\n",
              "\n",
              "    .dataframe tbody tr th {\n",
              "        vertical-align: top;\n",
              "    }\n",
              "\n",
              "    .dataframe thead th {\n",
              "        text-align: right;\n",
              "    }\n",
              "</style>\n",
              "<table border=\"1\" class=\"dataframe\">\n",
              "  <thead>\n",
              "    <tr style=\"text-align: right;\">\n",
              "      <th></th>\n",
              "      <th>StudentID</th>\n",
              "      <th>CourseCode</th>\n",
              "      <th>Label</th>\n",
              "    </tr>\n",
              "  </thead>\n",
              "  <tbody>\n",
              "    <tr>\n",
              "      <th>510</th>\n",
              "      <td>Student33</td>\n",
              "      <td>2-EFM-113/18</td>\n",
              "      <td>1</td>\n",
              "    </tr>\n",
              "    <tr>\n",
              "      <th>40</th>\n",
              "      <td>Student2</td>\n",
              "      <td>2-EFM-119/15</td>\n",
              "      <td>1</td>\n",
              "    </tr>\n",
              "    <tr>\n",
              "      <th>1023</th>\n",
              "      <td>Student65</td>\n",
              "      <td>2-EFM-218/16</td>\n",
              "      <td>1</td>\n",
              "    </tr>\n",
              "    <tr>\n",
              "      <th>276</th>\n",
              "      <td>Student18</td>\n",
              "      <td>2-EFM-236/15</td>\n",
              "      <td>1</td>\n",
              "    </tr>\n",
              "    <tr>\n",
              "      <th>339</th>\n",
              "      <td>Student22</td>\n",
              "      <td>2-EFM-103/00</td>\n",
              "      <td>1</td>\n",
              "    </tr>\n",
              "    <tr>\n",
              "      <th>...</th>\n",
              "      <td>...</td>\n",
              "      <td>...</td>\n",
              "      <td>...</td>\n",
              "    </tr>\n",
              "    <tr>\n",
              "      <th>265</th>\n",
              "      <td>Student17</td>\n",
              "      <td>2-EFM-106/15</td>\n",
              "      <td>2</td>\n",
              "    </tr>\n",
              "    <tr>\n",
              "      <th>898</th>\n",
              "      <td>Student57</td>\n",
              "      <td>2-PMS-109/15</td>\n",
              "      <td>2</td>\n",
              "    </tr>\n",
              "    <tr>\n",
              "      <th>1439</th>\n",
              "      <td>Student93</td>\n",
              "      <td>2-EFM-215/17</td>\n",
              "      <td>2</td>\n",
              "    </tr>\n",
              "    <tr>\n",
              "      <th>434</th>\n",
              "      <td>Student28</td>\n",
              "      <td>2-PMS-123/10</td>\n",
              "      <td>2</td>\n",
              "    </tr>\n",
              "    <tr>\n",
              "      <th>110</th>\n",
              "      <td>Student6</td>\n",
              "      <td>2-EFM-119/15</td>\n",
              "      <td>2</td>\n",
              "    </tr>\n",
              "  </tbody>\n",
              "</table>\n",
              "<p>2378 rows × 3 columns</p>\n",
              "</div>"
            ],
            "text/plain": [
              "      StudentID    CourseCode  Label\n",
              "510   Student33  2-EFM-113/18      1\n",
              "40     Student2  2-EFM-119/15      1\n",
              "1023  Student65  2-EFM-218/16      1\n",
              "276   Student18  2-EFM-236/15      1\n",
              "339   Student22  2-EFM-103/00      1\n",
              "...         ...           ...    ...\n",
              "265   Student17  2-EFM-106/15      2\n",
              "898   Student57  2-PMS-109/15      2\n",
              "1439  Student93  2-EFM-215/17      2\n",
              "434   Student28  2-PMS-123/10      2\n",
              "110    Student6  2-EFM-119/15      2\n",
              "\n",
              "[2378 rows x 3 columns]"
            ]
          },
          "metadata": {
            "tags": []
          },
          "execution_count": 29
        }
      ]
    },
    {
      "cell_type": "code",
      "metadata": {
        "id": "1rm2vutzCPti"
      },
      "source": [
        "df_Labeled = df_Labeled_Final.copy()"
      ],
      "execution_count": 30,
      "outputs": []
    },
    {
      "cell_type": "code",
      "metadata": {
        "id": "_k2EnmjmB6DH"
      },
      "source": [
        "# add IR to labeled pairs\n",
        "ITMS = df_IRs.columns.tolist()\n",
        "USRS = df_IRs['StudentID'].tolist()\n",
        "hodnoty = []\n",
        "ir = 0\n",
        "for i in range(len(df_Labeled)):\n",
        "    if (df_Labeled['CourseCode'].values[i] in ITMS) and (df_Labeled['StudentID'].values[i] in USRS):\n",
        "        ir = df_IRs[df_Labeled['CourseCode'].values[i]].loc[df_IRs['StudentID'] == df_Labeled['StudentID'].values[i]].values[0]\n",
        "        hodnoty.append(ir) \n",
        "    else:\n",
        "        hodnoty.append('NX')\n",
        "\n",
        "# removes pairs we didn't get ir\n",
        "df_Labeled['IR'] = hodnoty\n",
        "df_Labeled = df_Labeled.loc[~(df_Labeled['IR'] == 'NX')]"
      ],
      "execution_count": 31,
      "outputs": []
    },
    {
      "cell_type": "code",
      "metadata": {
        "id": "wO92iWanCKsq"
      },
      "source": [
        "# add BR to labeled pairs\n",
        "ITMS = df_BRs.columns.tolist()\n",
        "USRS = df_BRs['StudentID'].tolist()\n",
        "hodnoty = []\n",
        "br = 0\n",
        "for i in range(len(df_Labeled)):\n",
        "    if (df_Labeled['CourseCode'].values[i] in ITMS) and (df_Labeled['StudentID'].values[i] in USRS):\n",
        "        br = df_BRs[df_Labeled['CourseCode'].values[i]].loc[df_BRs['StudentID'] == df_Labeled['StudentID'].values[i]].values[0]\n",
        "        hodnoty.append(br) \n",
        "    else:\n",
        "        hodnoty.append('NX')\n",
        "# removes pairs we didn't get br\n",
        "df_Labeled['BR'] = hodnoty\n",
        "df_Labeled = df_Labeled.loc[~(df_Labeled['BR'] == 'NX')]"
      ],
      "execution_count": 32,
      "outputs": []
    },
    {
      "cell_type": "code",
      "metadata": {
        "colab": {
          "base_uri": "https://localhost:8080/",
          "height": 419
        },
        "id": "vmXEmxawOCAC",
        "outputId": "c06d36d7-bded-4b4b-d28e-1c75f58641ff"
      },
      "source": [
        "df_Labeled"
      ],
      "execution_count": 33,
      "outputs": [
        {
          "output_type": "execute_result",
          "data": {
            "text/html": [
              "<div>\n",
              "<style scoped>\n",
              "    .dataframe tbody tr th:only-of-type {\n",
              "        vertical-align: middle;\n",
              "    }\n",
              "\n",
              "    .dataframe tbody tr th {\n",
              "        vertical-align: top;\n",
              "    }\n",
              "\n",
              "    .dataframe thead th {\n",
              "        text-align: right;\n",
              "    }\n",
              "</style>\n",
              "<table border=\"1\" class=\"dataframe\">\n",
              "  <thead>\n",
              "    <tr style=\"text-align: right;\">\n",
              "      <th></th>\n",
              "      <th>StudentID</th>\n",
              "      <th>CourseCode</th>\n",
              "      <th>Label</th>\n",
              "      <th>IR</th>\n",
              "      <th>BR</th>\n",
              "    </tr>\n",
              "  </thead>\n",
              "  <tbody>\n",
              "    <tr>\n",
              "      <th>510</th>\n",
              "      <td>Student33</td>\n",
              "      <td>2-EFM-113/18</td>\n",
              "      <td>1</td>\n",
              "      <td>0.831227</td>\n",
              "      <td>0.031359</td>\n",
              "    </tr>\n",
              "    <tr>\n",
              "      <th>40</th>\n",
              "      <td>Student2</td>\n",
              "      <td>2-EFM-119/15</td>\n",
              "      <td>1</td>\n",
              "      <td>0.791337</td>\n",
              "      <td>0.022972</td>\n",
              "    </tr>\n",
              "    <tr>\n",
              "      <th>1023</th>\n",
              "      <td>Student65</td>\n",
              "      <td>2-EFM-218/16</td>\n",
              "      <td>1</td>\n",
              "      <td>0.396043</td>\n",
              "      <td>0.025513</td>\n",
              "    </tr>\n",
              "    <tr>\n",
              "      <th>276</th>\n",
              "      <td>Student18</td>\n",
              "      <td>2-EFM-236/15</td>\n",
              "      <td>1</td>\n",
              "      <td>0.548885</td>\n",
              "      <td>0.018756</td>\n",
              "    </tr>\n",
              "    <tr>\n",
              "      <th>339</th>\n",
              "      <td>Student22</td>\n",
              "      <td>2-EFM-103/00</td>\n",
              "      <td>1</td>\n",
              "      <td>1.905492</td>\n",
              "      <td>0.033165</td>\n",
              "    </tr>\n",
              "    <tr>\n",
              "      <th>...</th>\n",
              "      <td>...</td>\n",
              "      <td>...</td>\n",
              "      <td>...</td>\n",
              "      <td>...</td>\n",
              "      <td>...</td>\n",
              "    </tr>\n",
              "    <tr>\n",
              "      <th>265</th>\n",
              "      <td>Student17</td>\n",
              "      <td>2-EFM-106/15</td>\n",
              "      <td>2</td>\n",
              "      <td>2.152228</td>\n",
              "      <td>0.043297</td>\n",
              "    </tr>\n",
              "    <tr>\n",
              "      <th>898</th>\n",
              "      <td>Student57</td>\n",
              "      <td>2-PMS-109/15</td>\n",
              "      <td>2</td>\n",
              "      <td>2.196383</td>\n",
              "      <td>0.047957</td>\n",
              "    </tr>\n",
              "    <tr>\n",
              "      <th>1439</th>\n",
              "      <td>Student93</td>\n",
              "      <td>2-EFM-215/17</td>\n",
              "      <td>2</td>\n",
              "      <td>1.138143</td>\n",
              "      <td>0.049599</td>\n",
              "    </tr>\n",
              "    <tr>\n",
              "      <th>434</th>\n",
              "      <td>Student28</td>\n",
              "      <td>2-PMS-123/10</td>\n",
              "      <td>2</td>\n",
              "      <td>2.254703</td>\n",
              "      <td>0.044713</td>\n",
              "    </tr>\n",
              "    <tr>\n",
              "      <th>110</th>\n",
              "      <td>Student6</td>\n",
              "      <td>2-EFM-119/15</td>\n",
              "      <td>2</td>\n",
              "      <td>1.460468</td>\n",
              "      <td>0.035409</td>\n",
              "    </tr>\n",
              "  </tbody>\n",
              "</table>\n",
              "<p>2378 rows × 5 columns</p>\n",
              "</div>"
            ],
            "text/plain": [
              "      StudentID    CourseCode  Label        IR        BR\n",
              "510   Student33  2-EFM-113/18      1  0.831227  0.031359\n",
              "40     Student2  2-EFM-119/15      1  0.791337  0.022972\n",
              "1023  Student65  2-EFM-218/16      1  0.396043  0.025513\n",
              "276   Student18  2-EFM-236/15      1  0.548885  0.018756\n",
              "339   Student22  2-EFM-103/00      1  1.905492  0.033165\n",
              "...         ...           ...    ...       ...       ...\n",
              "265   Student17  2-EFM-106/15      2  2.152228  0.043297\n",
              "898   Student57  2-PMS-109/15      2  2.196383  0.047957\n",
              "1439  Student93  2-EFM-215/17      2  1.138143  0.049599\n",
              "434   Student28  2-PMS-123/10      2  2.254703  0.044713\n",
              "110    Student6  2-EFM-119/15      2  1.460468  0.035409\n",
              "\n",
              "[2378 rows x 5 columns]"
            ]
          },
          "metadata": {
            "tags": []
          },
          "execution_count": 33
        }
      ]
    },
    {
      "cell_type": "markdown",
      "metadata": {
        "id": "QrkJMb_h1KCr"
      },
      "source": [
        "# Visualization"
      ]
    },
    {
      "cell_type": "code",
      "metadata": {
        "id": "yFhL9oSCA47r",
        "colab": {
          "base_uri": "https://localhost:8080/",
          "height": 386
        },
        "outputId": "e5ff6d7a-0af9-49da-aa95-e6937c07d281"
      },
      "source": [
        "print('alpha is '+str(alpha))\n",
        "plt.figure(figsize=(14, 5)) \n",
        "\n",
        "plt.subplot(1,2,1)\n",
        "sns.boxenplot(x=df_Labeled['Label'], y=df_Labeled['IR'],showfliers = False, width=0.4)\n",
        "plt.title('ItemRank - ' + r'$\\alpha =$' + str(alpha))\n",
        "\n",
        "plt.subplot(1,2,2)\n",
        "sns.boxenplot(x=df_Labeled['Label'], y=df_Labeled['BR'],showfliers = False, width=0.4)\n",
        "plt.title('BiRank - ' + r'$\\alpha,\\beta =$'+ str(alpha))\n",
        "\n",
        "plt.show()\n",
        "plt.tight_layout"
      ],
      "execution_count": 34,
      "outputs": [
        {
          "output_type": "stream",
          "text": [
            "alpha is 0.9\n"
          ],
          "name": "stdout"
        },
        {
          "output_type": "display_data",
          "data": {
            "image/png": "[encoded data removed]",
            "text/plain": [
              "<Figure size 1008x360 with 2 Axes>"
            ]
          },
          "metadata": {
            "tags": [],
            "needs_background": "light"
          }
        },
        {
          "output_type": "execute_result",
          "data": {
            "text/plain": [
              "<function matplotlib.pyplot.tight_layout>"
            ]
          },
          "metadata": {
            "tags": []
          },
          "execution_count": 34
        }
      ]
    },
    {
      "cell_type": "code",
      "metadata": {
        "colab": {
          "base_uri": "https://localhost:8080/",
          "height": 419
        },
        "id": "sqqcrjTYDo0C",
        "outputId": "c29bf5fa-47e6-4505-e47d-9d40f5dd4886"
      },
      "source": [
        "random.seed(30)\n",
        "df = shuffle(df_Labeled, random_state=0)\n",
        "df"
      ],
      "execution_count": 35,
      "outputs": [
        {
          "output_type": "execute_result",
          "data": {
            "text/html": [
              "<div>\n",
              "<style scoped>\n",
              "    .dataframe tbody tr th:only-of-type {\n",
              "        vertical-align: middle;\n",
              "    }\n",
              "\n",
              "    .dataframe tbody tr th {\n",
              "        vertical-align: top;\n",
              "    }\n",
              "\n",
              "    .dataframe thead th {\n",
              "        text-align: right;\n",
              "    }\n",
              "</style>\n",
              "<table border=\"1\" class=\"dataframe\">\n",
              "  <thead>\n",
              "    <tr style=\"text-align: right;\">\n",
              "      <th></th>\n",
              "      <th>StudentID</th>\n",
              "      <th>CourseCode</th>\n",
              "      <th>Label</th>\n",
              "      <th>IR</th>\n",
              "      <th>BR</th>\n",
              "    </tr>\n",
              "  </thead>\n",
              "  <tbody>\n",
              "    <tr>\n",
              "      <th>481</th>\n",
              "      <td>Student88</td>\n",
              "      <td>2-EFM-238/17</td>\n",
              "      <td>0</td>\n",
              "      <td>0.870490</td>\n",
              "      <td>0.027965</td>\n",
              "    </tr>\n",
              "    <tr>\n",
              "      <th>52</th>\n",
              "      <td>Student3</td>\n",
              "      <td>2-EFM-102/15</td>\n",
              "      <td>1</td>\n",
              "      <td>1.707378</td>\n",
              "      <td>0.032893</td>\n",
              "    </tr>\n",
              "    <tr>\n",
              "      <th>269</th>\n",
              "      <td>Student17</td>\n",
              "      <td>2-PMS-116/19</td>\n",
              "      <td>1</td>\n",
              "      <td>1.827602</td>\n",
              "      <td>0.031980</td>\n",
              "    </tr>\n",
              "    <tr>\n",
              "      <th>229</th>\n",
              "      <td>Student15</td>\n",
              "      <td>2-EFM-215/17</td>\n",
              "      <td>1</td>\n",
              "      <td>1.213952</td>\n",
              "      <td>0.029308</td>\n",
              "    </tr>\n",
              "    <tr>\n",
              "      <th>386</th>\n",
              "      <td>Student25</td>\n",
              "      <td>2-EFM-119/15</td>\n",
              "      <td>2</td>\n",
              "      <td>1.429672</td>\n",
              "      <td>0.035705</td>\n",
              "    </tr>\n",
              "    <tr>\n",
              "      <th>...</th>\n",
              "      <td>...</td>\n",
              "      <td>...</td>\n",
              "      <td>...</td>\n",
              "      <td>...</td>\n",
              "      <td>...</td>\n",
              "    </tr>\n",
              "    <tr>\n",
              "      <th>833</th>\n",
              "      <td>Student15</td>\n",
              "      <td>2-EFM-238/17</td>\n",
              "      <td>0</td>\n",
              "      <td>1.315193</td>\n",
              "      <td>0.028335</td>\n",
              "    </tr>\n",
              "    <tr>\n",
              "      <th>577</th>\n",
              "      <td>Student37</td>\n",
              "      <td>2-EFM-103/00</td>\n",
              "      <td>2</td>\n",
              "      <td>2.342168</td>\n",
              "      <td>0.046808</td>\n",
              "    </tr>\n",
              "    <tr>\n",
              "      <th>181</th>\n",
              "      <td>Student51</td>\n",
              "      <td>2-EFM-236/15</td>\n",
              "      <td>0</td>\n",
              "      <td>0.479094</td>\n",
              "      <td>0.017980</td>\n",
              "    </tr>\n",
              "    <tr>\n",
              "      <th>329</th>\n",
              "      <td>Student7</td>\n",
              "      <td>2-MAT-114/15</td>\n",
              "      <td>0</td>\n",
              "      <td>0.012957</td>\n",
              "      <td>0.005173</td>\n",
              "    </tr>\n",
              "    <tr>\n",
              "      <th>793</th>\n",
              "      <td>Student50</td>\n",
              "      <td>2-PMS-116/19</td>\n",
              "      <td>2</td>\n",
              "      <td>2.043060</td>\n",
              "      <td>0.051284</td>\n",
              "    </tr>\n",
              "  </tbody>\n",
              "</table>\n",
              "<p>2378 rows × 5 columns</p>\n",
              "</div>"
            ],
            "text/plain": [
              "     StudentID    CourseCode  Label        IR        BR\n",
              "481  Student88  2-EFM-238/17      0  0.870490  0.027965\n",
              "52    Student3  2-EFM-102/15      1  1.707378  0.032893\n",
              "269  Student17  2-PMS-116/19      1  1.827602  0.031980\n",
              "229  Student15  2-EFM-215/17      1  1.213952  0.029308\n",
              "386  Student25  2-EFM-119/15      2  1.429672  0.035705\n",
              "..         ...           ...    ...       ...       ...\n",
              "833  Student15  2-EFM-238/17      0  1.315193  0.028335\n",
              "577  Student37  2-EFM-103/00      2  2.342168  0.046808\n",
              "181  Student51  2-EFM-236/15      0  0.479094  0.017980\n",
              "329   Student7  2-MAT-114/15      0  0.012957  0.005173\n",
              "793  Student50  2-PMS-116/19      2  2.043060  0.051284\n",
              "\n",
              "[2378 rows x 5 columns]"
            ]
          },
          "metadata": {
            "tags": []
          },
          "execution_count": 35
        }
      ]
    },
    {
      "cell_type": "markdown",
      "metadata": {
        "id": "wGIAnQDpC9SS"
      },
      "source": [
        "# ML models"
      ]
    },
    {
      "cell_type": "code",
      "metadata": {
        "colab": {
          "base_uri": "https://localhost:8080/"
        },
        "id": "4S36vtnL0Xsu",
        "outputId": "f8435e73-2f40-408e-db81-c029a502f546"
      },
      "source": [
        "print(df.shape)\n",
        "df2 = df.loc[df['Label'] != 2]\n",
        "print(df2.shape)"
      ],
      "execution_count": 36,
      "outputs": [
        {
          "output_type": "stream",
          "text": [
            "(2378, 5)\n",
            "(1578, 5)\n"
          ],
          "name": "stdout"
        }
      ]
    },
    {
      "cell_type": "code",
      "metadata": {
        "colab": {
          "base_uri": "https://localhost:8080/"
        },
        "id": "Wkmu5WxJDhGI",
        "outputId": "af74d014-bef9-46e4-d962-b54c8b9b13d8"
      },
      "source": [
        "print(len(df2.loc[df2['Label'] == 1]))\n",
        "print(len(df2.loc[df2['Label'] == 0]))"
      ],
      "execution_count": 37,
      "outputs": [
        {
          "output_type": "stream",
          "text": [
            "673\n",
            "905\n"
          ],
          "name": "stdout"
        }
      ]
    },
    {
      "cell_type": "code",
      "metadata": {
        "id": "cxYZrZQxFeKZ",
        "colab": {
          "base_uri": "https://localhost:8080/"
        },
        "outputId": "467360ed-dbb6-4796-b8fb-fe8d38878286"
      },
      "source": [
        "# # create X\n",
        "# X = np.array(df2['IR']).reshape(-1, 1)\n",
        "# X.shape\n",
        "\n",
        "# create X\n",
        "X = np.array(df2['BR']).reshape(-1, 1)\n",
        "X.shape\n",
        "\n",
        "# # create X\n",
        "# X = np.array(df2[['IR','BR']])\n",
        "# X.shape\n",
        "\n",
        "# scaler = MinMaxScaler()\n",
        "# X = scaler.fit_transform(X)"
      ],
      "execution_count": null,
      "outputs": [
        {
          "output_type": "execute_result",
          "data": {
            "text/plain": [
              "(1578, 1)"
            ]
          },
          "metadata": {
            "tags": []
          },
          "execution_count": 39
        }
      ]
    },
    {
      "cell_type": "code",
      "metadata": {
        "colab": {
          "base_uri": "https://localhost:8080/"
        },
        "id": "cOK8ASFGFelI",
        "outputId": "b4749795-9c8a-4cf7-e569-e6a7e4833d4e"
      },
      "source": [
        "# create y\n",
        "y = np.array(df2['Label'])\n",
        "y.shape"
      ],
      "execution_count": 39,
      "outputs": [
        {
          "output_type": "execute_result",
          "data": {
            "text/plain": [
              "(1578,)"
            ]
          },
          "metadata": {
            "tags": []
          },
          "execution_count": 39
        }
      ]
    },
    {
      "cell_type": "code",
      "metadata": {
        "id": "BdkSPGS0FgZ4",
        "colab": {
          "base_uri": "https://localhost:8080/"
        },
        "outputId": "e3bc6fb2-094b-43e1-dfec-eca97bc2bdce"
      },
      "source": [
        "# divide data into training and test split\n",
        "X_train, X_test, y_train, y_test = train_test_split(X, y, test_size=0.25, random_state=15, stratify=y)\n",
        "\n",
        "print(X_train.shape)\n",
        "print(X_test.shape)\n",
        "# check for distribution of y\n",
        "print(sum(y_train)/len(y_train))\n",
        "print(sum(y_test)/len(y_test))"
      ],
      "execution_count": null,
      "outputs": [
        {
          "output_type": "stream",
          "text": [
            "(1183, 1)\n",
            "(395, 1)\n",
            "0.4268808114961961\n",
            "0.4253164556962025\n"
          ],
          "name": "stdout"
        }
      ]
    },
    {
      "cell_type": "markdown",
      "metadata": {
        "id": "WhbZ62fX6yjK"
      },
      "source": [
        "## LR"
      ]
    },
    {
      "cell_type": "code",
      "metadata": {
        "colab": {
          "base_uri": "https://localhost:8080/"
        },
        "id": "8tFBInKww2qY",
        "outputId": "64996ace-05c2-4a66-da12-e3ebd75eea84"
      },
      "source": [
        "# Grid Search for optimal parameters with CV\n",
        "# round1\n",
        "parameter_grid = {\n",
        "              'C': [0.01,0.1,1,10,25,50,75,100,200,500,1000,2000]\n",
        "}\n",
        "\n",
        "# round2\n",
        "# parameter_grid = {\n",
        "#               'C':[800,850,900,1000,1100]\n",
        "\n",
        "# }\n",
        "\n",
        "grid = GridSearchCV(\n",
        "    estimator=LogisticRegression(),\n",
        "    param_grid=parameter_grid,verbose=2, n_jobs=10, cv = 5\n",
        ")\n",
        "\n",
        "grid.fit(X_train, y_train)\n",
        "print(\"Best accuracy: %f with params %s\" % (grid.best_score_, grid.best_params_))"
      ],
      "execution_count": null,
      "outputs": [
        {
          "output_type": "stream",
          "text": [
            "Fitting 5 folds for each of 12 candidates, totalling 60 fits\n"
          ],
          "name": "stdout"
        },
        {
          "output_type": "stream",
          "text": [
            "[Parallel(n_jobs=10)]: Using backend LokyBackend with 10 concurrent workers.\n",
            "[Parallel(n_jobs=10)]: Done  21 tasks      | elapsed:    4.4s\n"
          ],
          "name": "stderr"
        },
        {
          "output_type": "stream",
          "text": [
            "Best accuracy: 0.774312 with params {'C': 75}\n"
          ],
          "name": "stdout"
        },
        {
          "output_type": "stream",
          "text": [
            "[Parallel(n_jobs=10)]: Done  60 out of  60 | elapsed:    5.8s finished\n"
          ],
          "name": "stderr"
        }
      ]
    },
    {
      "cell_type": "code",
      "metadata": {
        "colab": {
          "base_uri": "https://localhost:8080/"
        },
        "id": "tnwHT82TF2gH",
        "outputId": "c7c9765b-a5f3-42ba-fee8-511351fa3b6b"
      },
      "source": [
        "# model training and fitting\n",
        "model_LR = LogisticRegression(C =75)\n",
        "model_LR.fit(X_train, y_train)\n",
        "print(\"Traning accuracy for Linear Regression: {}\".format(model_LR.score(X_train, y_train)))"
      ],
      "execution_count": null,
      "outputs": [
        {
          "output_type": "stream",
          "text": [
            "Traning accuracy for Linear Regression: 0.7726120033812341\n"
          ],
          "name": "stdout"
        }
      ]
    },
    {
      "cell_type": "code",
      "metadata": {
        "colab": {
          "base_uri": "https://localhost:8080/",
          "height": 350
        },
        "id": "JazZv9GWF9iH",
        "outputId": "0c502545-5aa0-44ca-c9d1-2ff6d19cae9d"
      },
      "source": [
        "# TEST DATA\n",
        "# score\n",
        "print('Test score '+str(model_LR.score(X_test, y_test) ))\n",
        "# confusion matrix\n",
        "plot_confusion_matrix(model_LR,\n",
        "                      X_test,\n",
        "                      y_test,\n",
        "                      values_format='d',\n",
        "                      display_labels=['0','1'])\n",
        "\n",
        "# Specificity and sensitivity\n",
        "tn, fp, fn, tp = confusion_matrix(y_test, model_LR.predict(X_test)).ravel()\n",
        "specificity = tn / (tn+fp)\n",
        "sensitivity = tp / (tp+fn)\n",
        "print('Sensitivity = '+str(sensitivity))\n",
        "print('Specificity = '+str(specificity))\n",
        "\n",
        "# ROC AUC\n",
        "print('Logistic Regression: ROC AUC = %.3f' % (roc_auc_score(y_test, model_LR.predict_proba(X_test)[:, 1])))"
      ],
      "execution_count": null,
      "outputs": [
        {
          "output_type": "stream",
          "text": [
            "Test score 0.8202531645569621\n",
            "Sensitivity = 0.7380952380952381\n",
            "Specificity = 0.8810572687224669\n",
            "Logistic Regression: ROC AUC = 0.883\n"
          ],
          "name": "stdout"
        },
        {
          "output_type": "display_data",
          "data": {
            "image/png": "[encoded data removed]",
            "text/plain": [
              "<Figure size 432x288 with 2 Axes>"
            ]
          },
          "metadata": {
            "tags": [],
            "needs_background": "light"
          }
        }
      ]
    },
    {
      "cell_type": "markdown",
      "metadata": {
        "id": "ToVNwRarG7fb"
      },
      "source": [
        "## SVM"
      ]
    },
    {
      "cell_type": "code",
      "metadata": {
        "colab": {
          "base_uri": "https://localhost:8080/"
        },
        "id": "iveSIGNYu-0w",
        "outputId": "bba1b813-621e-4a16-8cc9-5621f19c4e12"
      },
      "source": [
        "# Grid Search for optimal parameters with CV\n",
        "pipe_classifier = Pipeline([('scaler',  StandardScaler()),\n",
        "            ('SVC', svm.SVC())])\n",
        "parameter_grid = [{\n",
        "              'SVC__C': [0.1, 0.5, 1], \n",
        "              'SVC__kernel': ['rbf', 'linear'],\n",
        "              'SVC__gamma': [0.01,0.1,'auto',10]\n",
        "}]\n",
        "\n",
        "\n",
        "grid = GridSearchCV (estimator = pipe_classifier,\n",
        "                               param_grid = parameter_grid,\n",
        "                               scoring='roc_auc',cv = 5, verbose=2, n_jobs=10)\n",
        "grid.fit(X_train, y_train)\n",
        "print(\"Best score AUC: %f with params %s\" % (grid.best_score_, grid.best_params_))"
      ],
      "execution_count": null,
      "outputs": [
        {
          "output_type": "stream",
          "text": [
            "Fitting 5 folds for each of 24 candidates, totalling 120 fits\n"
          ],
          "name": "stdout"
        },
        {
          "output_type": "stream",
          "text": [
            "[Parallel(n_jobs=10)]: Using backend LokyBackend with 10 concurrent workers.\n",
            "[Parallel(n_jobs=10)]: Done  22 tasks      | elapsed:    0.7s\n"
          ],
          "name": "stderr"
        },
        {
          "output_type": "stream",
          "text": [
            "Best score AUC: 0.831478 with params {'SVC__C': 0.1, 'SVC__gamma': 0.01, 'SVC__kernel': 'rbf'}\n"
          ],
          "name": "stdout"
        },
        {
          "output_type": "stream",
          "text": [
            "[Parallel(n_jobs=10)]: Done 120 out of 120 | elapsed:    2.5s finished\n"
          ],
          "name": "stderr"
        }
      ]
    },
    {
      "cell_type": "code",
      "metadata": {
        "colab": {
          "base_uri": "https://localhost:8080/"
        },
        "id": "Ruufa3vRHpIS",
        "outputId": "7662b04d-d9f8-4632-de8c-284f50aa3bb4"
      },
      "source": [
        "# model training and fitting\n",
        "svc = make_pipeline(StandardScaler(), svm.SVC(C=1, gamma = 0.01, kernel='rbf', probability=True))\n",
        "svc.fit(X_train, y_train)\n",
        "print(\"Traning accuracy for SVC: {}\".format(svc.score(X_train, y_train)))"
      ],
      "execution_count": null,
      "outputs": [
        {
          "output_type": "stream",
          "text": [
            "Traning accuracy for SVC: 0.7692307692307693\n"
          ],
          "name": "stdout"
        }
      ]
    },
    {
      "cell_type": "code",
      "metadata": {
        "colab": {
          "base_uri": "https://localhost:8080/",
          "height": 350
        },
        "id": "y3LBfoqEHtFS",
        "outputId": "7629e6c7-eca8-48a1-d845-1cbcc7d68584"
      },
      "source": [
        "# TEST DATA\n",
        "# score\n",
        "print('Testing accuracy for SVC: '+str(svc.score(X_test, y_test) ))\n",
        "# confusion matrix\n",
        "# confusion matrix\n",
        "plot_confusion_matrix(model_LR,\n",
        "                      X_test,\n",
        "                      y_test,\n",
        "                      values_format='d',\n",
        "                      display_labels=['0','1'])\n",
        "\n",
        "# Specificity and sensitivity\n",
        "tn, fp, fn, tp = confusion_matrix(y_test, svc.predict(X_test)).ravel()\n",
        "specificity = tn / (tn+fp)\n",
        "sensitivity = tp / (tp+fn)\n",
        "print('Sensitivity = '+str(sensitivity))\n",
        "print('Specificity = '+str(specificity))\n",
        "\n",
        "# ROC AUC\n",
        "print('SVC: ROC AUC = %.3f' % (roc_auc_score(y_test, svc.predict_proba(X_test)[:, 1])))"
      ],
      "execution_count": null,
      "outputs": [
        {
          "output_type": "stream",
          "text": [
            "Testing accuracy for SVC: 0.8202531645569621\n",
            "Sensitivity = 0.7797619047619048\n",
            "Specificity = 0.8502202643171806\n",
            "SVC: ROC AUC = 0.882\n"
          ],
          "name": "stdout"
        },
        {
          "output_type": "display_data",
          "data": {
            "image/png": "[encoded data removed]",
            "text/plain": [
              "<Figure size 432x288 with 2 Axes>"
            ]
          },
          "metadata": {
            "tags": [],
            "needs_background": "light"
          }
        }
      ]
    },
    {
      "cell_type": "markdown",
      "metadata": {
        "id": "pw5VPeeQIWuV"
      },
      "source": [
        "## RFC"
      ]
    },
    {
      "cell_type": "code",
      "metadata": {
        "colab": {
          "base_uri": "https://localhost:8080/"
        },
        "id": "xNqo4hDAxly3",
        "outputId": "49a874ed-529f-4d1d-b68c-3228c0ba081b"
      },
      "source": [
        "# Grid Search for optimal parameters with CV\n",
        "# round1\n",
        "parameter_grid = {\n",
        "              'n_estimators': [10,25,50,75,100], \n",
        "              'max_depth': [1,2,3,4,5]\n",
        "}\n",
        "\n",
        "grid = GridSearchCV(\n",
        "    estimator=RandomForestClassifier(),\n",
        "    param_grid=parameter_grid,\n",
        "    scoring='roc_auc', verbose=2, n_jobs=10, cv = 5\n",
        ")\n",
        "\n",
        "grid.fit(X_train, y_train)\n",
        "print(\"Best score AUC: %f with params %s\" % (grid.best_score_, grid.best_params_))"
      ],
      "execution_count": null,
      "outputs": [
        {
          "output_type": "stream",
          "text": [
            "Fitting 5 folds for each of 25 candidates, totalling 125 fits\n"
          ],
          "name": "stdout"
        },
        {
          "output_type": "stream",
          "text": [
            "[Parallel(n_jobs=10)]: Using backend LokyBackend with 10 concurrent workers.\n",
            "[Parallel(n_jobs=10)]: Done  21 tasks      | elapsed:    2.3s\n"
          ],
          "name": "stderr"
        },
        {
          "output_type": "stream",
          "text": [
            "Best score AUC: 0.832917 with params {'max_depth': 2, 'n_estimators': 50}\n"
          ],
          "name": "stdout"
        },
        {
          "output_type": "stream",
          "text": [
            "[Parallel(n_jobs=10)]: Done 125 out of 125 | elapsed:   12.3s finished\n"
          ],
          "name": "stderr"
        }
      ]
    },
    {
      "cell_type": "code",
      "metadata": {
        "colab": {
          "base_uri": "https://localhost:8080/"
        },
        "id": "SzPYXPonIj3s",
        "outputId": "83766a18-222b-4c76-b361-e60ee28037dc"
      },
      "source": [
        "# training and fitting\n",
        "rfc = RandomForestClassifier(n_estimators=100, max_depth=3)\n",
        "rfc.fit(X_train, y_train)\n",
        "print(\"Traning accuracy for Random Forest: {}\".format(rfc.score(X_train, y_train)))"
      ],
      "execution_count": null,
      "outputs": [
        {
          "output_type": "stream",
          "text": [
            "Traning accuracy for Random Forest: 0.8030431107354185\n"
          ],
          "name": "stdout"
        }
      ]
    },
    {
      "cell_type": "code",
      "metadata": {
        "colab": {
          "base_uri": "https://localhost:8080/",
          "height": 350
        },
        "id": "3AjZcWnBIleb",
        "outputId": "21eed780-829e-4244-ba05-ddb65e68a2bd"
      },
      "source": [
        "# TEST DATA\n",
        "# score\n",
        "print('Testing accuracy for RFC: '+str(rfc.score(X_test, y_test) ))\n",
        "# confusion matrix\n",
        "plot_confusion_matrix(model_LR,\n",
        "                      X_test,\n",
        "                      y_test,\n",
        "                      values_format='d',\n",
        "                      display_labels=['0','1'])\n",
        "\n",
        "# Specificity and sensitivity\n",
        "tn, fp, fn, tp = confusion_matrix(y_test, rfc.predict(X_test)).ravel()\n",
        "specificity = tn / (tn+fp)\n",
        "sensitivity = tp / (tp+fn)\n",
        "print('Sensitivity = '+str(sensitivity))\n",
        "print('Specificity = '+str(specificity))\n",
        "\n",
        "# ROC AUC\n",
        "print('RFC: ROC AUC = %.3f' % (roc_auc_score(y_test, rfc.predict_proba(X_test)[:, 1])))"
      ],
      "execution_count": null,
      "outputs": [
        {
          "output_type": "stream",
          "text": [
            "Testing accuracy for RFC: 0.8075949367088607\n",
            "Sensitivity = 0.7380952380952381\n",
            "Specificity = 0.8590308370044053\n",
            "RFC: ROC AUC = 0.880\n"
          ],
          "name": "stdout"
        },
        {
          "output_type": "display_data",
          "data": {
            "image/png": "[encoded data removed]",
            "text/plain": [
              "<Figure size 432x288 with 2 Axes>"
            ]
          },
          "metadata": {
            "tags": [],
            "needs_background": "light"
          }
        }
      ]
    },
    {
      "cell_type": "markdown",
      "metadata": {
        "id": "UNOkjIEAIUTf"
      },
      "source": [
        "## XGBOOST"
      ]
    },
    {
      "cell_type": "code",
      "metadata": {
        "id": "O3D0ffXtYl0a",
        "colab": {
          "base_uri": "https://localhost:8080/"
        },
        "outputId": "02fde087-0215-4854-fbf6-6649eb3ed44a"
      },
      "source": [
        "# Grid Search for optimal parameters with CV\n",
        "# round1\n",
        "parameter_grid = {\n",
        "              'learning_rate': [0.1, 0.5, 1], \n",
        "              'max_depth': [2,3,4,5,6],\n",
        "              'gamma': [0, 1, 5],\n",
        "              'reg_lambda': [0, 1.0, 10.0],\n",
        "}\n",
        "\n",
        "grid = GridSearchCV(\n",
        "    estimator=xgb.XGBClassifier(objective='binary:logistic',\n",
        "                                seed=15,\n",
        "                                ),\n",
        "    param_grid=parameter_grid,\n",
        "    scoring='roc_auc', verbose=2, n_jobs=10, cv = 5\n",
        ")\n",
        "\n",
        "grid.fit(X_train, y_train)\n",
        "print(\"Best score AUC: %f with params %s\" % (grid.best_score_, grid.best_params_))"
      ],
      "execution_count": null,
      "outputs": [
        {
          "output_type": "stream",
          "text": [
            "Fitting 5 folds for each of 135 candidates, totalling 675 fits\n"
          ],
          "name": "stdout"
        },
        {
          "output_type": "stream",
          "text": [
            "[Parallel(n_jobs=10)]: Using backend LokyBackend with 10 concurrent workers.\n",
            "[Parallel(n_jobs=10)]: Done  21 tasks      | elapsed:    3.0s\n",
            "[Parallel(n_jobs=10)]: Done 142 tasks      | elapsed:    8.0s\n",
            "[Parallel(n_jobs=10)]: Done 345 tasks      | elapsed:   15.9s\n",
            "[Parallel(n_jobs=10)]: Done 628 tasks      | elapsed:   26.3s\n"
          ],
          "name": "stderr"
        },
        {
          "output_type": "stream",
          "text": [
            "Best score AUC: 0.833362 with params {'gamma': 1, 'learning_rate': 1, 'max_depth': 3, 'reg_lambda': 10.0}\n"
          ],
          "name": "stdout"
        },
        {
          "output_type": "stream",
          "text": [
            "[Parallel(n_jobs=10)]: Done 675 out of 675 | elapsed:   28.0s finished\n"
          ],
          "name": "stderr"
        }
      ]
    },
    {
      "cell_type": "code",
      "metadata": {
        "colab": {
          "base_uri": "https://localhost:8080/"
        },
        "id": "g6BmvJaEIAJS",
        "outputId": "a55bedfc-32b9-438c-eb87-ec23773f7b8b"
      },
      "source": [
        "# model training and fitting\n",
        "xgbc = xgb.XGBClassifier(seed=15, objective='binary:logistic',                      \n",
        "                            gamma=5, learning_rate=0.1, max_depth=2, reg_lambda=1.0)\n",
        "xgbc.fit(X_train, y_train)\n",
        "print(\"Traning accuracy for XGBoost: {}\".format(xgbc.score(X_train, y_train)))"
      ],
      "execution_count": null,
      "outputs": [
        {
          "output_type": "stream",
          "text": [
            "Traning accuracy for XGBoost: 0.775993237531699\n"
          ],
          "name": "stdout"
        }
      ]
    },
    {
      "cell_type": "code",
      "metadata": {
        "colab": {
          "base_uri": "https://localhost:8080/",
          "height": 350
        },
        "id": "PW4fHJLmCWrZ",
        "outputId": "c4b9d514-e4f6-4683-d891-31e4b0be6e9b"
      },
      "source": [
        "# TEST DATA\n",
        "# score\n",
        "print('Testing accuracy for RFC: '+str(xgbc.score(X_test, y_test) ))\n",
        "# confusion matrix\n",
        "plot_confusion_matrix(model_LR,\n",
        "                      X_test,\n",
        "                      y_test,\n",
        "                      values_format='d',\n",
        "                      display_labels=['0','1'])\n",
        "\n",
        "# Specificity and sensitivity\n",
        "tn, fp, fn, tp = confusion_matrix(y_test, xgbc.predict(X_test)).ravel()\n",
        "specificity = tn / (tn+fp)\n",
        "sensitivity = tp / (tp+fn)\n",
        "print('Sensitivity = '+str(sensitivity))\n",
        "print('Specificity = '+str(specificity))\n",
        "\n",
        "# ROC AUC\n",
        "print('XGB: ROC AUC = %.3f' % (roc_auc_score(y_test, xgbc.predict_proba(X_test)[:, 1])))"
      ],
      "execution_count": null,
      "outputs": [
        {
          "output_type": "stream",
          "text": [
            "Testing accuracy for RFC: 0.810126582278481\n",
            "Sensitivity = 0.7023809523809523\n",
            "Specificity = 0.8898678414096917\n",
            "XGB: ROC AUC = 0.882\n"
          ],
          "name": "stdout"
        },
        {
          "output_type": "display_data",
          "data": {
            "image/png": "[encoded data removed]",
            "text/plain": [
              "<Figure size 432x288 with 2 Axes>"
            ]
          },
          "metadata": {
            "tags": [],
            "needs_background": "light"
          }
        }
      ]
    },
    {
      "cell_type": "markdown",
      "metadata": {
        "id": "96ktpq8K03S3"
      },
      "source": [
        "## Final Models"
      ]
    },
    {
      "cell_type": "code",
      "metadata": {
        "id": "EfL-gWgR6j7G"
      },
      "source": [
        "# create y\n",
        "y = np.array(df2['Label'])\n",
        "y.shape"
      ],
      "execution_count": null,
      "outputs": []
    },
    {
      "cell_type": "code",
      "metadata": {
        "colab": {
          "base_uri": "https://localhost:8080/"
        },
        "id": "-uzYg4cN06fO",
        "outputId": "09fe11a4-9cbd-4da9-85b5-fce997a40952"
      },
      "source": [
        "# all data\n",
        "X = np.array(df2['IR']).reshape(-1, 1)\n",
        "X.shape\n",
        "\n",
        "# model training\n",
        "model_IR = LogisticRegression(C = 10)\n",
        "# Fit model\n",
        "model_IR.fit(X, y)"
      ],
      "execution_count": 40,
      "outputs": [
        {
          "output_type": "execute_result",
          "data": {
            "text/plain": [
              "LogisticRegression(C=10, class_weight=None, dual=False, fit_intercept=True,\n",
              "                   intercept_scaling=1, l1_ratio=None, max_iter=100,\n",
              "                   multi_class='auto', n_jobs=None, penalty='l2',\n",
              "                   random_state=None, solver='lbfgs', tol=0.0001, verbose=0,\n",
              "                   warm_start=False)"
            ]
          },
          "metadata": {
            "tags": []
          },
          "execution_count": 40
        }
      ]
    },
    {
      "cell_type": "code",
      "metadata": {
        "colab": {
          "base_uri": "https://localhost:8080/"
        },
        "id": "EA5yAuiS1BZy",
        "outputId": "efc30e5a-69bc-43be-ccca-54d884960337"
      },
      "source": [
        "# all data\n",
        "X = np.array(df2['BR']).reshape(-1, 1)\n",
        "X.shape\n",
        "\n",
        "# model training\n",
        "model_BR = LogisticRegression(C = 75)\n",
        "# Fit model\n",
        "model_BR.fit(X, y)"
      ],
      "execution_count": 41,
      "outputs": [
        {
          "output_type": "execute_result",
          "data": {
            "text/plain": [
              "LogisticRegression(C=75, class_weight=None, dual=False, fit_intercept=True,\n",
              "                   intercept_scaling=1, l1_ratio=None, max_iter=100,\n",
              "                   multi_class='auto', n_jobs=None, penalty='l2',\n",
              "                   random_state=None, solver='lbfgs', tol=0.0001, verbose=0,\n",
              "                   warm_start=False)"
            ]
          },
          "metadata": {
            "tags": []
          },
          "execution_count": 41
        }
      ]
    },
    {
      "cell_type": "markdown",
      "metadata": {
        "id": "Dm92oSYGeLCY"
      },
      "source": [
        "# Course recommendations"
      ]
    },
    {
      "cell_type": "code",
      "metadata": {
        "id": "hy3bAmlHC7jw",
        "colab": {
          "base_uri": "https://localhost:8080/",
          "height": 436
        },
        "outputId": "c355ba02-7323-4ba0-f4b0-2aea863f8668"
      },
      "source": [
        "# Load data again\n",
        "df_students = pd.read_csv('COURSES_data.csv', encoding='utf-16') \n",
        "df_subjects = df_students[['CourseName', 'CourseCode']].drop_duplicates()\n",
        "print(df_subjects.shape)\n",
        "df_students"
      ],
      "execution_count": 43,
      "outputs": [
        {
          "output_type": "stream",
          "text": [
            "(30, 2)\n"
          ],
          "name": "stdout"
        },
        {
          "output_type": "execute_result",
          "data": {
            "text/html": [
              "<div>\n",
              "<style scoped>\n",
              "    .dataframe tbody tr th:only-of-type {\n",
              "        vertical-align: middle;\n",
              "    }\n",
              "\n",
              "    .dataframe tbody tr th {\n",
              "        vertical-align: top;\n",
              "    }\n",
              "\n",
              "    .dataframe thead th {\n",
              "        text-align: right;\n",
              "    }\n",
              "</style>\n",
              "<table border=\"1\" class=\"dataframe\">\n",
              "  <thead>\n",
              "    <tr style=\"text-align: right;\">\n",
              "      <th></th>\n",
              "      <th>CourseName</th>\n",
              "      <th>CourseCode</th>\n",
              "      <th>CourseRating</th>\n",
              "      <th>StudentID</th>\n",
              "    </tr>\n",
              "  </thead>\n",
              "  <tbody>\n",
              "    <tr>\n",
              "      <th>0</th>\n",
              "      <td>Multivariate statistical analyses</td>\n",
              "      <td>2-EFM-151/15</td>\n",
              "      <td>4.12</td>\n",
              "      <td>Student0</td>\n",
              "    </tr>\n",
              "    <tr>\n",
              "      <th>1</th>\n",
              "      <td>Principles of mathematical modelling in scienc...</td>\n",
              "      <td>2-EFM-152/15</td>\n",
              "      <td>4.00</td>\n",
              "      <td>Student0</td>\n",
              "    </tr>\n",
              "    <tr>\n",
              "      <th>2</th>\n",
              "      <td>Modelling biological processes</td>\n",
              "      <td>2-EFM-236/15</td>\n",
              "      <td>4.11</td>\n",
              "      <td>Student0</td>\n",
              "    </tr>\n",
              "    <tr>\n",
              "      <th>3</th>\n",
              "      <td>Macroeconomic development and economic policie...</td>\n",
              "      <td>2-EFM-218/16</td>\n",
              "      <td>4.67</td>\n",
              "      <td>Student0</td>\n",
              "    </tr>\n",
              "    <tr>\n",
              "      <th>4</th>\n",
              "      <td>Time series analysis</td>\n",
              "      <td>2-EFM-102/15</td>\n",
              "      <td>4.59</td>\n",
              "      <td>Student0</td>\n",
              "    </tr>\n",
              "    <tr>\n",
              "      <th>...</th>\n",
              "      <td>...</td>\n",
              "      <td>...</td>\n",
              "      <td>...</td>\n",
              "      <td>...</td>\n",
              "    </tr>\n",
              "    <tr>\n",
              "      <th>1468</th>\n",
              "      <td>Integral transforms and special functions</td>\n",
              "      <td>2-MAT-114/15</td>\n",
              "      <td>4.83</td>\n",
              "      <td>Student94</td>\n",
              "    </tr>\n",
              "    <tr>\n",
              "      <th>1469</th>\n",
              "      <td>Modelling biological processes</td>\n",
              "      <td>2-EFM-236/15</td>\n",
              "      <td>4.50</td>\n",
              "      <td>Student94</td>\n",
              "    </tr>\n",
              "    <tr>\n",
              "      <th>1470</th>\n",
              "      <td>Digital signal processing</td>\n",
              "      <td>2-EFM-237/15</td>\n",
              "      <td>4.58</td>\n",
              "      <td>Student94</td>\n",
              "    </tr>\n",
              "    <tr>\n",
              "      <th>1471</th>\n",
              "      <td>Nonparametric statistic</td>\n",
              "      <td>2-PMS-212/15</td>\n",
              "      <td>4.80</td>\n",
              "      <td>Student94</td>\n",
              "    </tr>\n",
              "    <tr>\n",
              "      <th>1472</th>\n",
              "      <td>Stochastic optimization methods</td>\n",
              "      <td>2-PMS-129/10</td>\n",
              "      <td>5.00</td>\n",
              "      <td>Student94</td>\n",
              "    </tr>\n",
              "  </tbody>\n",
              "</table>\n",
              "<p>1473 rows × 4 columns</p>\n",
              "</div>"
            ],
            "text/plain": [
              "                                             CourseName  ...  StudentID\n",
              "0                     Multivariate statistical analyses  ...   Student0\n",
              "1     Principles of mathematical modelling in scienc...  ...   Student0\n",
              "2                        Modelling biological processes  ...   Student0\n",
              "3     Macroeconomic development and economic policie...  ...   Student0\n",
              "4                                  Time series analysis  ...   Student0\n",
              "...                                                 ...  ...        ...\n",
              "1468          Integral transforms and special functions  ...  Student94\n",
              "1469                     Modelling biological processes  ...  Student94\n",
              "1470                          Digital signal processing  ...  Student94\n",
              "1471                            Nonparametric statistic  ...  Student94\n",
              "1472                    Stochastic optimization methods  ...  Student94\n",
              "\n",
              "[1473 rows x 4 columns]"
            ]
          },
          "metadata": {
            "tags": []
          },
          "execution_count": 43
        }
      ]
    },
    {
      "cell_type": "code",
      "metadata": {
        "colab": {
          "base_uri": "https://localhost:8080/",
          "height": 516
        },
        "id": "XtiAgxk7RUCE",
        "outputId": "65e0535d-8714-4e0c-9fbd-cc7880aef1bc"
      },
      "source": [
        "# enrollment distribution\n",
        "data = df_students[['CourseName','StudentID']]\n",
        "data = data.groupby(['CourseName']).size().reset_index(name='Count')\n",
        "data.sort_values(by=['Count'], inplace=True)\n",
        "\n",
        "names = list(data['CourseName'])\n",
        "values = list(data['Count'])\n",
        "\n",
        "plt.figure(figsize=(6, 8)) \n",
        "colors = ['red','red', 'blue', 'blue', 'blue', 'blue', 'red', 'red',\n",
        "          'red', 'red', 'blue', 'blue', 'blue', 'blue', 'blue','green',\n",
        "          'red', 'red', 'blue','green','green', 'red','green',\n",
        "          'blue','blue', 'red', 'red','green', 'blue', 'red']\n",
        "plt.barh(names, values, color= colors[::-1])\n",
        "plt.title('Course popularity')"
      ],
      "execution_count": 44,
      "outputs": [
        {
          "output_type": "execute_result",
          "data": {
            "text/plain": [
              "Text(0.5, 1.0, 'Course popularity')"
            ]
          },
          "metadata": {
            "tags": []
          },
          "execution_count": 44
        },
        {
          "output_type": "display_data",
          "data": {
            "image/png": "[encoded data removed]",
            "text/plain": [
              "<Figure size 432x576 with 1 Axes>"
            ]
          },
          "metadata": {
            "tags": [],
            "needs_background": "light"
          }
        }
      ]
    },
    {
      "cell_type": "code",
      "metadata": {
        "colab": {
          "base_uri": "https://localhost:8080/",
          "height": 466
        },
        "id": "GzO9uwmqZe1j",
        "outputId": "6cdacafe-f497-402f-e84f-55a9803cfd89"
      },
      "source": [
        "# Dominance of subjects\n",
        "data2 = df_students[['CourseName','StudentID']].loc[df_students['CourseName'].isin(names[-9:])]\n",
        "data2 = data2.drop_duplicates()\n",
        "data2 = data2.groupby(['StudentID']).size().reset_index(name='NumberOfCourses')\n",
        "plt.hist(data2['NumberOfCourses'])\n",
        "plt.xlabel('Number of Courses')\n",
        "plt.ylabel('Students')\n",
        "data2.groupby(['NumberOfCourses']).size().reset_index(name='NumberOfStudents')"
      ],
      "execution_count": 45,
      "outputs": [
        {
          "output_type": "execute_result",
          "data": {
            "text/html": [
              "<div>\n",
              "<style scoped>\n",
              "    .dataframe tbody tr th:only-of-type {\n",
              "        vertical-align: middle;\n",
              "    }\n",
              "\n",
              "    .dataframe tbody tr th {\n",
              "        vertical-align: top;\n",
              "    }\n",
              "\n",
              "    .dataframe thead th {\n",
              "        text-align: right;\n",
              "    }\n",
              "</style>\n",
              "<table border=\"1\" class=\"dataframe\">\n",
              "  <thead>\n",
              "    <tr style=\"text-align: right;\">\n",
              "      <th></th>\n",
              "      <th>NumberOfCourses</th>\n",
              "      <th>NumberOfStudents</th>\n",
              "    </tr>\n",
              "  </thead>\n",
              "  <tbody>\n",
              "    <tr>\n",
              "      <th>0</th>\n",
              "      <td>1</td>\n",
              "      <td>1</td>\n",
              "    </tr>\n",
              "    <tr>\n",
              "      <th>1</th>\n",
              "      <td>5</td>\n",
              "      <td>1</td>\n",
              "    </tr>\n",
              "    <tr>\n",
              "      <th>2</th>\n",
              "      <td>7</td>\n",
              "      <td>17</td>\n",
              "    </tr>\n",
              "    <tr>\n",
              "      <th>3</th>\n",
              "      <td>8</td>\n",
              "      <td>34</td>\n",
              "    </tr>\n",
              "    <tr>\n",
              "      <th>4</th>\n",
              "      <td>9</td>\n",
              "      <td>42</td>\n",
              "    </tr>\n",
              "  </tbody>\n",
              "</table>\n",
              "</div>"
            ],
            "text/plain": [
              "   NumberOfCourses  NumberOfStudents\n",
              "0                1                 1\n",
              "1                5                 1\n",
              "2                7                17\n",
              "3                8                34\n",
              "4                9                42"
            ]
          },
          "metadata": {
            "tags": []
          },
          "execution_count": 45
        },
        {
          "output_type": "display_data",
          "data": {
            "image/png": "[encoded data removed]",
            "text/plain": [
              "<Figure size 432x288 with 1 Axes>"
            ]
          },
          "metadata": {
            "tags": [],
            "needs_background": "light"
          }
        }
      ]
    },
    {
      "cell_type": "markdown",
      "metadata": {
        "id": "fDRUKvIV7JJs"
      },
      "source": [
        "## Student selection"
      ]
    },
    {
      "cell_type": "code",
      "metadata": {
        "id": "kI7bJKoSiJQ-"
      },
      "source": [
        "# FIRST EXAMPLE\n",
        "# students name\n",
        "name = ['Average Joe']\n",
        "# students code\n",
        "id = ['Student99']\n",
        "# rating\n",
        "rtg = 4\n",
        "\n",
        "# subject until now\n",
        "subjects = ['2-PMS-116/19','2-EFM-151/15','2-EFM-236/15','2-PMS-129/10', '2-EFM-147/15','2-EFM-215/17']\n",
        "subjects2 = ['Cluster analysis and data classification','Multivariate statistical analyses', 'Modelling biological processes', 'Stochastic optimization methods', 'Optimal control classes','Quantitative methods in risk management']"
      ],
      "execution_count": 48,
      "outputs": []
    },
    {
      "cell_type": "code",
      "metadata": {
        "id": "l_2k47sYUh5_"
      },
      "source": [
        "# SECOND EXAMPLE\n",
        "# students name\n",
        "name = ['Plain Jane']\n",
        "# students code\n",
        "id = ['Student99']\n",
        "# rating\n",
        "rtg = 4\n",
        "\n",
        "# subject until now\n",
        "subjects = ['2-EFM-102/15','2-EFM-119/15','2-EFM-103/00','2-EFM-140/19', '2-PMS-129/10','2-EFM-215/17' ]\n",
        "subjects2 = ['Time series analysis','Dynamic macroeconomics', 'Stochastic methods of operational analysis', 'Databases - SQL', 'Stochastic optimization methods','Quantitative methods in risk management']"
      ],
      "execution_count": 56,
      "outputs": []
    },
    {
      "cell_type": "markdown",
      "metadata": {
        "id": "xrsHp_DU7Xqz"
      },
      "source": [
        "After one is selected, add him to network"
      ]
    },
    {
      "cell_type": "code",
      "metadata": {
        "id": "gts7XFJEjQeY",
        "colab": {
          "base_uri": "https://localhost:8080/",
          "height": 235
        },
        "outputId": "3120a878-57a4-4814-f471-a32d18010550"
      },
      "source": [
        "# create DF\n",
        "df_P = pd.DataFrame()\n",
        "df_P['StudentID'] = pd.Series([id[0] for x in range(len(subjects))])\n",
        "df_P.insert(1, 'CourseCode', subjects)\n",
        "df_P.insert(2, 'CourseRating', rtg)\n",
        "df_P"
      ],
      "execution_count": 57,
      "outputs": [
        {
          "output_type": "execute_result",
          "data": {
            "text/html": [
              "<div>\n",
              "<style scoped>\n",
              "    .dataframe tbody tr th:only-of-type {\n",
              "        vertical-align: middle;\n",
              "    }\n",
              "\n",
              "    .dataframe tbody tr th {\n",
              "        vertical-align: top;\n",
              "    }\n",
              "\n",
              "    .dataframe thead th {\n",
              "        text-align: right;\n",
              "    }\n",
              "</style>\n",
              "<table border=\"1\" class=\"dataframe\">\n",
              "  <thead>\n",
              "    <tr style=\"text-align: right;\">\n",
              "      <th></th>\n",
              "      <th>StudentID</th>\n",
              "      <th>CourseCode</th>\n",
              "      <th>CourseRating</th>\n",
              "    </tr>\n",
              "  </thead>\n",
              "  <tbody>\n",
              "    <tr>\n",
              "      <th>0</th>\n",
              "      <td>Student99</td>\n",
              "      <td>2-EFM-102/15</td>\n",
              "      <td>4</td>\n",
              "    </tr>\n",
              "    <tr>\n",
              "      <th>1</th>\n",
              "      <td>Student99</td>\n",
              "      <td>2-EFM-119/15</td>\n",
              "      <td>4</td>\n",
              "    </tr>\n",
              "    <tr>\n",
              "      <th>2</th>\n",
              "      <td>Student99</td>\n",
              "      <td>2-EFM-103/00</td>\n",
              "      <td>4</td>\n",
              "    </tr>\n",
              "    <tr>\n",
              "      <th>3</th>\n",
              "      <td>Student99</td>\n",
              "      <td>2-EFM-140/19</td>\n",
              "      <td>4</td>\n",
              "    </tr>\n",
              "    <tr>\n",
              "      <th>4</th>\n",
              "      <td>Student99</td>\n",
              "      <td>2-PMS-129/10</td>\n",
              "      <td>4</td>\n",
              "    </tr>\n",
              "    <tr>\n",
              "      <th>5</th>\n",
              "      <td>Student99</td>\n",
              "      <td>2-EFM-215/17</td>\n",
              "      <td>4</td>\n",
              "    </tr>\n",
              "  </tbody>\n",
              "</table>\n",
              "</div>"
            ],
            "text/plain": [
              "   StudentID    CourseCode  CourseRating\n",
              "0  Student99  2-EFM-102/15             4\n",
              "1  Student99  2-EFM-119/15             4\n",
              "2  Student99  2-EFM-103/00             4\n",
              "3  Student99  2-EFM-140/19             4\n",
              "4  Student99  2-PMS-129/10             4\n",
              "5  Student99  2-EFM-215/17             4"
            ]
          },
          "metadata": {
            "tags": []
          },
          "execution_count": 57
        }
      ]
    },
    {
      "cell_type": "code",
      "metadata": {
        "id": "Kz3YYaZHoiOP",
        "colab": {
          "base_uri": "https://localhost:8080/",
          "height": 419
        },
        "outputId": "4c8a7fb1-c8ea-4254-9966-763f3e20d1fd"
      },
      "source": [
        "# Concatenate dataframes\n",
        "df_students = df_students[['StudentID' ,'CourseCode','CourseRating']]\n",
        "df_new = pd.concat([df_P, df_students[['StudentID' ,'CourseCode','CourseRating']]])\n",
        "df_new"
      ],
      "execution_count": 58,
      "outputs": [
        {
          "output_type": "execute_result",
          "data": {
            "text/html": [
              "<div>\n",
              "<style scoped>\n",
              "    .dataframe tbody tr th:only-of-type {\n",
              "        vertical-align: middle;\n",
              "    }\n",
              "\n",
              "    .dataframe tbody tr th {\n",
              "        vertical-align: top;\n",
              "    }\n",
              "\n",
              "    .dataframe thead th {\n",
              "        text-align: right;\n",
              "    }\n",
              "</style>\n",
              "<table border=\"1\" class=\"dataframe\">\n",
              "  <thead>\n",
              "    <tr style=\"text-align: right;\">\n",
              "      <th></th>\n",
              "      <th>StudentID</th>\n",
              "      <th>CourseCode</th>\n",
              "      <th>CourseRating</th>\n",
              "    </tr>\n",
              "  </thead>\n",
              "  <tbody>\n",
              "    <tr>\n",
              "      <th>0</th>\n",
              "      <td>Student99</td>\n",
              "      <td>2-EFM-102/15</td>\n",
              "      <td>4.00</td>\n",
              "    </tr>\n",
              "    <tr>\n",
              "      <th>1</th>\n",
              "      <td>Student99</td>\n",
              "      <td>2-EFM-119/15</td>\n",
              "      <td>4.00</td>\n",
              "    </tr>\n",
              "    <tr>\n",
              "      <th>2</th>\n",
              "      <td>Student99</td>\n",
              "      <td>2-EFM-103/00</td>\n",
              "      <td>4.00</td>\n",
              "    </tr>\n",
              "    <tr>\n",
              "      <th>3</th>\n",
              "      <td>Student99</td>\n",
              "      <td>2-EFM-140/19</td>\n",
              "      <td>4.00</td>\n",
              "    </tr>\n",
              "    <tr>\n",
              "      <th>4</th>\n",
              "      <td>Student99</td>\n",
              "      <td>2-PMS-129/10</td>\n",
              "      <td>4.00</td>\n",
              "    </tr>\n",
              "    <tr>\n",
              "      <th>...</th>\n",
              "      <td>...</td>\n",
              "      <td>...</td>\n",
              "      <td>...</td>\n",
              "    </tr>\n",
              "    <tr>\n",
              "      <th>1468</th>\n",
              "      <td>Student94</td>\n",
              "      <td>2-MAT-114/15</td>\n",
              "      <td>4.83</td>\n",
              "    </tr>\n",
              "    <tr>\n",
              "      <th>1469</th>\n",
              "      <td>Student94</td>\n",
              "      <td>2-EFM-236/15</td>\n",
              "      <td>4.50</td>\n",
              "    </tr>\n",
              "    <tr>\n",
              "      <th>1470</th>\n",
              "      <td>Student94</td>\n",
              "      <td>2-EFM-237/15</td>\n",
              "      <td>4.58</td>\n",
              "    </tr>\n",
              "    <tr>\n",
              "      <th>1471</th>\n",
              "      <td>Student94</td>\n",
              "      <td>2-PMS-212/15</td>\n",
              "      <td>4.80</td>\n",
              "    </tr>\n",
              "    <tr>\n",
              "      <th>1472</th>\n",
              "      <td>Student94</td>\n",
              "      <td>2-PMS-129/10</td>\n",
              "      <td>5.00</td>\n",
              "    </tr>\n",
              "  </tbody>\n",
              "</table>\n",
              "<p>1479 rows × 3 columns</p>\n",
              "</div>"
            ],
            "text/plain": [
              "      StudentID    CourseCode  CourseRating\n",
              "0     Student99  2-EFM-102/15          4.00\n",
              "1     Student99  2-EFM-119/15          4.00\n",
              "2     Student99  2-EFM-103/00          4.00\n",
              "3     Student99  2-EFM-140/19          4.00\n",
              "4     Student99  2-PMS-129/10          4.00\n",
              "...         ...           ...           ...\n",
              "1468  Student94  2-MAT-114/15          4.83\n",
              "1469  Student94  2-EFM-236/15          4.50\n",
              "1470  Student94  2-EFM-237/15          4.58\n",
              "1471  Student94  2-PMS-212/15          4.80\n",
              "1472  Student94  2-PMS-129/10          5.00\n",
              "\n",
              "[1479 rows x 3 columns]"
            ]
          },
          "metadata": {
            "tags": []
          },
          "execution_count": 58
        }
      ]
    },
    {
      "cell_type": "markdown",
      "metadata": {
        "id": "zLCNpmGQ3WJX"
      },
      "source": [
        "## ItemRank based recommendation"
      ]
    },
    {
      "cell_type": "code",
      "metadata": {
        "colab": {
          "base_uri": "https://localhost:8080/",
          "height": 827
        },
        "id": "a_Yd0QvngHMo",
        "outputId": "3e91c681-3dac-4ba4-d894-baeac67e625e"
      },
      "source": [
        "#### Calculate ItemRank ####\n",
        "\n",
        "# set hyper-parameter\n",
        "alpha = 0.9\n",
        "\n",
        "np_data = np.array(df_new)\n",
        "print(np_data.shape)\n",
        "\n",
        "# generate object\n",
        "item_rank = ItemRank(np_data)\n",
        "item_rank.generate_graph()\n",
        "item_rank.generate_coef_from_graph()\n",
        "print(item_rank.correlation_matrix.shape)\n",
        "\n",
        "# calculate itemranks\n",
        "IRs = []\n",
        "DOAs = []\n",
        "UserCounter = 0\n",
        "user_name = 'Student99'\n",
        "UserCounter +=  1\n",
        "d = item_rank.generate_d(user_name=user_name)\n",
        "IR = np.ones(len(item_rank.movie_names))\n",
        "old_IR = IR\n",
        "converged = False\n",
        "counter = 0\n",
        "while not converged:\n",
        "  counter += 1\n",
        "  old_IR = IR\n",
        "  IR = item_rank.item_rank(alpha , IR , d)\n",
        "  converged = (old_IR - IR < 0.0001).all()\n",
        "IRs.append(IR)\n",
        "np.array(IRs).shape\n",
        "\n",
        "################################################################################\n",
        "#### Insert into DataFrame ####\n",
        "df_pred_IR = pd.DataFrame(np.transpose(IRs), columns=['IR'])\n",
        "df_pred_IR['CourseCode'] =  item_rank.movie_names\n",
        "# filter subject we have already enrolled to\n",
        "df_pred_IR = df_pred_IR.loc[~df_pred_IR['CourseCode'].isin(subjects)]\n",
        "df_pred_IR.shape\n",
        "\n",
        "#### Make Prediction ####\n",
        "# add probabilities from model\n",
        "df_pred_IR['Prediction'] = model_IR.predict_proba(np.array(df_pred_IR['IR']).reshape(-1,1))[:,1]\n",
        "# join names of subjects\n",
        "df_pred_IR = df_pred_IR.join(df_subjects.set_index(['CourseCode']), on= ['CourseCode'], how='left')\n",
        "#order by probability\n",
        "df_pred_IR.sort_values(by='Prediction', ascending=False, inplace=True)\n",
        "df_pred_IR"
      ],
      "execution_count": 59,
      "outputs": [
        {
          "output_type": "stream",
          "text": [
            "(1479, 3)\n",
            "(30, 30)\n"
          ],
          "name": "stdout"
        },
        {
          "output_type": "execute_result",
          "data": {
            "text/html": [
              "<div>\n",
              "<style scoped>\n",
              "    .dataframe tbody tr th:only-of-type {\n",
              "        vertical-align: middle;\n",
              "    }\n",
              "\n",
              "    .dataframe tbody tr th {\n",
              "        vertical-align: top;\n",
              "    }\n",
              "\n",
              "    .dataframe thead th {\n",
              "        text-align: right;\n",
              "    }\n",
              "</style>\n",
              "<table border=\"1\" class=\"dataframe\">\n",
              "  <thead>\n",
              "    <tr style=\"text-align: right;\">\n",
              "      <th></th>\n",
              "      <th>IR</th>\n",
              "      <th>CourseCode</th>\n",
              "      <th>Prediction</th>\n",
              "      <th>CourseName</th>\n",
              "    </tr>\n",
              "  </thead>\n",
              "  <tbody>\n",
              "    <tr>\n",
              "      <th>0</th>\n",
              "      <td>1.385571</td>\n",
              "      <td>2-PMS-116/19</td>\n",
              "      <td>0.764314</td>\n",
              "      <td>Cluster analysis and data classification</td>\n",
              "    </tr>\n",
              "    <tr>\n",
              "      <th>10</th>\n",
              "      <td>1.340559</td>\n",
              "      <td>2-EFM-151/15</td>\n",
              "      <td>0.741416</td>\n",
              "      <td>Multivariate statistical analyses</td>\n",
              "    </tr>\n",
              "    <tr>\n",
              "      <th>16</th>\n",
              "      <td>1.328521</td>\n",
              "      <td>2-PMS-109/15</td>\n",
              "      <td>0.735052</td>\n",
              "      <td>Computer statistics</td>\n",
              "    </tr>\n",
              "    <tr>\n",
              "      <th>4</th>\n",
              "      <td>1.244499</td>\n",
              "      <td>2-EFM-106/15</td>\n",
              "      <td>0.687949</td>\n",
              "      <td>Financial derivatives</td>\n",
              "    </tr>\n",
              "    <tr>\n",
              "      <th>14</th>\n",
              "      <td>1.191337</td>\n",
              "      <td>2-PMS-123/10</td>\n",
              "      <td>0.655909</td>\n",
              "      <td>Stochastic simulation methods</td>\n",
              "    </tr>\n",
              "    <tr>\n",
              "      <th>13</th>\n",
              "      <td>1.143695</td>\n",
              "      <td>2-EFM-147/15</td>\n",
              "      <td>0.625927</td>\n",
              "      <td>Optimal control classes</td>\n",
              "    </tr>\n",
              "    <tr>\n",
              "      <th>25</th>\n",
              "      <td>0.976042</td>\n",
              "      <td>2-EFM-113/18</td>\n",
              "      <td>0.514031</td>\n",
              "      <td>Databases and data analysis</td>\n",
              "    </tr>\n",
              "    <tr>\n",
              "      <th>27</th>\n",
              "      <td>0.912545</td>\n",
              "      <td>2-EFM-238/17</td>\n",
              "      <td>0.470642</td>\n",
              "      <td>Political economics</td>\n",
              "    </tr>\n",
              "    <tr>\n",
              "      <th>15</th>\n",
              "      <td>0.904575</td>\n",
              "      <td>2-EFM-218/16</td>\n",
              "      <td>0.465213</td>\n",
              "      <td>Macroeconomic development and economic policie...</td>\n",
              "    </tr>\n",
              "    <tr>\n",
              "      <th>26</th>\n",
              "      <td>0.755937</td>\n",
              "      <td>2-EFM-105/00</td>\n",
              "      <td>0.366793</td>\n",
              "      <td>Theory of non-cooperative games</td>\n",
              "    </tr>\n",
              "    <tr>\n",
              "      <th>18</th>\n",
              "      <td>0.672024</td>\n",
              "      <td>2-PMS-118/10</td>\n",
              "      <td>0.315278</td>\n",
              "      <td>Markov processes (1)</td>\n",
              "    </tr>\n",
              "    <tr>\n",
              "      <th>23</th>\n",
              "      <td>0.559495</td>\n",
              "      <td>2-EFM-117/12</td>\n",
              "      <td>0.252863</td>\n",
              "      <td>Convex optimization</td>\n",
              "    </tr>\n",
              "    <tr>\n",
              "      <th>22</th>\n",
              "      <td>0.447467</td>\n",
              "      <td>2-EFM-236/15</td>\n",
              "      <td>0.199428</td>\n",
              "      <td>Modelling biological processes</td>\n",
              "    </tr>\n",
              "    <tr>\n",
              "      <th>5</th>\n",
              "      <td>0.399777</td>\n",
              "      <td>2-EFM-155/18</td>\n",
              "      <td>0.179411</td>\n",
              "      <td>Social network analysis</td>\n",
              "    </tr>\n",
              "    <tr>\n",
              "      <th>28</th>\n",
              "      <td>0.369162</td>\n",
              "      <td>2-EFM-125/00</td>\n",
              "      <td>0.167411</td>\n",
              "      <td>Economics of information</td>\n",
              "    </tr>\n",
              "    <tr>\n",
              "      <th>29</th>\n",
              "      <td>0.319972</td>\n",
              "      <td>2-EFM-237/15</td>\n",
              "      <td>0.149483</td>\n",
              "      <td>Digital signal processing</td>\n",
              "    </tr>\n",
              "    <tr>\n",
              "      <th>19</th>\n",
              "      <td>0.315472</td>\n",
              "      <td>2-PMS-212/15</td>\n",
              "      <td>0.147925</td>\n",
              "      <td>Nonparametric statistic</td>\n",
              "    </tr>\n",
              "    <tr>\n",
              "      <th>12</th>\n",
              "      <td>0.283474</td>\n",
              "      <td>2-EFM-201/15</td>\n",
              "      <td>0.137228</td>\n",
              "      <td>Insurance theory</td>\n",
              "    </tr>\n",
              "    <tr>\n",
              "      <th>7</th>\n",
              "      <td>0.273727</td>\n",
              "      <td>2-PMS-142/19</td>\n",
              "      <td>0.134101</td>\n",
              "      <td>Data dimensionality reduction</td>\n",
              "    </tr>\n",
              "    <tr>\n",
              "      <th>3</th>\n",
              "      <td>0.263599</td>\n",
              "      <td>2-PMS-135/00</td>\n",
              "      <td>0.130917</td>\n",
              "      <td>Pensions and pension funds</td>\n",
              "    </tr>\n",
              "    <tr>\n",
              "      <th>24</th>\n",
              "      <td>0.206098</td>\n",
              "      <td>2-EFM-152/15</td>\n",
              "      <td>0.114034</td>\n",
              "      <td>Principles of mathematical modelling in scienc...</td>\n",
              "    </tr>\n",
              "    <tr>\n",
              "      <th>21</th>\n",
              "      <td>0.189502</td>\n",
              "      <td>2-EFM-217/11</td>\n",
              "      <td>0.109527</td>\n",
              "      <td>Insurance theory classes</td>\n",
              "    </tr>\n",
              "    <tr>\n",
              "      <th>11</th>\n",
              "      <td>0.125493</td>\n",
              "      <td>2-EFM-115/15</td>\n",
              "      <td>0.093579</td>\n",
              "      <td>Economics seminar</td>\n",
              "    </tr>\n",
              "    <tr>\n",
              "      <th>20</th>\n",
              "      <td>0.091241</td>\n",
              "      <td>2-MAT-114/15</td>\n",
              "      <td>0.085928</td>\n",
              "      <td>Integral transforms and special functions</td>\n",
              "    </tr>\n",
              "  </tbody>\n",
              "</table>\n",
              "</div>"
            ],
            "text/plain": [
              "          IR  ...                                         CourseName\n",
              "0   1.385571  ...           Cluster analysis and data classification\n",
              "10  1.340559  ...                  Multivariate statistical analyses\n",
              "16  1.328521  ...                                Computer statistics\n",
              "4   1.244499  ...                              Financial derivatives\n",
              "14  1.191337  ...                      Stochastic simulation methods\n",
              "13  1.143695  ...                            Optimal control classes\n",
              "25  0.976042  ...                        Databases and data analysis\n",
              "27  0.912545  ...                                Political economics\n",
              "15  0.904575  ...  Macroeconomic development and economic policie...\n",
              "26  0.755937  ...                    Theory of non-cooperative games\n",
              "18  0.672024  ...                               Markov processes (1)\n",
              "23  0.559495  ...                                Convex optimization\n",
              "22  0.447467  ...                     Modelling biological processes\n",
              "5   0.399777  ...                            Social network analysis\n",
              "28  0.369162  ...                           Economics of information\n",
              "29  0.319972  ...                          Digital signal processing\n",
              "19  0.315472  ...                            Nonparametric statistic\n",
              "12  0.283474  ...                                   Insurance theory\n",
              "7   0.273727  ...                      Data dimensionality reduction\n",
              "3   0.263599  ...                         Pensions and pension funds\n",
              "24  0.206098  ...  Principles of mathematical modelling in scienc...\n",
              "21  0.189502  ...                           Insurance theory classes\n",
              "11  0.125493  ...                                  Economics seminar\n",
              "20  0.091241  ...          Integral transforms and special functions\n",
              "\n",
              "[24 rows x 4 columns]"
            ]
          },
          "metadata": {
            "tags": []
          },
          "execution_count": 59
        }
      ]
    },
    {
      "cell_type": "markdown",
      "metadata": {
        "id": "pivN4Ch6w6YB"
      },
      "source": [
        "## BiRank based recommendation"
      ]
    },
    {
      "cell_type": "code",
      "metadata": {
        "id": "U82UbrRJ0K81",
        "colab": {
          "base_uri": "https://localhost:8080/",
          "height": 810
        },
        "outputId": "f89fde03-3b07-49e3-8a1e-3e16d836ad88"
      },
      "source": [
        "#### Calculate BiRank ####\n",
        "\n",
        "# set hyper-parameters\n",
        "a = 0.9\n",
        "b = 0.9\n",
        "\n",
        "# Calculate Inputs\n",
        "W, users, items =  gen_W(df_new['StudentID'], df_new['CourseCode'], df_new['CourseRating'])\n",
        "\n",
        "# calculate Birank score\n",
        "start_time = time.time()\n",
        "BRs = []\n",
        "DOAs = []\n",
        "user_name = 'Student99'\n",
        "UserCounter = users.tolist().index(user_name)\n",
        "# set inital vector\n",
        "v0 = (W.toarray()[UserCounter,:])/(W.toarray()[UserCounter,:].sum())\n",
        "# calculate ranks of items for a user\n",
        "u, v = birank(W, v0=v0, alpha=a, beta=b, max_iter=200, tol=0.0001, verbose=False)\n",
        "BR = v\n",
        "# append\n",
        "BRs.append(BR)\n",
        "np.array(BRs).shape\n",
        "\n",
        "################################################################################\n",
        "#### Insert into DataFrame ####\n",
        "df_pred_BR = pd.DataFrame(np.transpose(BRs), columns=['BR'])\n",
        "df_pred_BR['CourseCode'] =  items\n",
        "# filter subject we have already enrolled to\n",
        "df_pred_BR = df_pred_BR.loc[~df_pred_BR['CourseCode'].isin(subjects)]\n",
        "df_pred_BR.shape\n",
        "\n",
        "#### Make Prediction ####\n",
        "# add probabilities from model\n",
        "df_pred_BR['Prediction'] = model_BR.predict_proba(np.array(df_pred_BR['BR']).reshape(-1,1))[:,1]\n",
        "# join names of subjects\n",
        "df_pred_BR = df_pred_BR.join(df_subjects.set_index(['CourseCode']), on= ['CourseCode'], how='left')\n",
        "#order by probability\n",
        "df_pred_BR.sort_values(by='Prediction', ascending=False, inplace=True)\n",
        "df_pred_BR"
      ],
      "execution_count": 60,
      "outputs": [
        {
          "output_type": "stream",
          "text": [
            "Shape of W: (96, 30)\n"
          ],
          "name": "stdout"
        },
        {
          "output_type": "execute_result",
          "data": {
            "text/html": [
              "<div>\n",
              "<style scoped>\n",
              "    .dataframe tbody tr th:only-of-type {\n",
              "        vertical-align: middle;\n",
              "    }\n",
              "\n",
              "    .dataframe tbody tr th {\n",
              "        vertical-align: top;\n",
              "    }\n",
              "\n",
              "    .dataframe thead th {\n",
              "        text-align: right;\n",
              "    }\n",
              "</style>\n",
              "<table border=\"1\" class=\"dataframe\">\n",
              "  <thead>\n",
              "    <tr style=\"text-align: right;\">\n",
              "      <th></th>\n",
              "      <th>BR</th>\n",
              "      <th>CourseCode</th>\n",
              "      <th>Prediction</th>\n",
              "      <th>CourseName</th>\n",
              "    </tr>\n",
              "  </thead>\n",
              "  <tbody>\n",
              "    <tr>\n",
              "      <th>12</th>\n",
              "      <td>0.036526</td>\n",
              "      <td>2-PMS-109/15</td>\n",
              "      <td>0.751262</td>\n",
              "      <td>Computer statistics</td>\n",
              "    </tr>\n",
              "    <tr>\n",
              "      <th>13</th>\n",
              "      <td>0.035199</td>\n",
              "      <td>2-PMS-116/19</td>\n",
              "      <td>0.724820</td>\n",
              "      <td>Cluster analysis and data classification</td>\n",
              "    </tr>\n",
              "    <tr>\n",
              "      <th>6</th>\n",
              "      <td>0.033376</td>\n",
              "      <td>2-EFM-151/15</td>\n",
              "      <td>0.685817</td>\n",
              "      <td>Multivariate statistical analyses</td>\n",
              "    </tr>\n",
              "    <tr>\n",
              "      <th>20</th>\n",
              "      <td>0.033295</td>\n",
              "      <td>2-PMS-123/10</td>\n",
              "      <td>0.684014</td>\n",
              "      <td>Stochastic simulation methods</td>\n",
              "    </tr>\n",
              "    <tr>\n",
              "      <th>10</th>\n",
              "      <td>0.033264</td>\n",
              "      <td>2-EFM-106/15</td>\n",
              "      <td>0.683334</td>\n",
              "      <td>Financial derivatives</td>\n",
              "    </tr>\n",
              "    <tr>\n",
              "      <th>11</th>\n",
              "      <td>0.030316</td>\n",
              "      <td>2-EFM-147/15</td>\n",
              "      <td>0.614263</td>\n",
              "      <td>Optimal control classes</td>\n",
              "    </tr>\n",
              "    <tr>\n",
              "      <th>15</th>\n",
              "      <td>0.029222</td>\n",
              "      <td>2-EFM-113/18</td>\n",
              "      <td>0.587219</td>\n",
              "      <td>Databases and data analysis</td>\n",
              "    </tr>\n",
              "    <tr>\n",
              "      <th>9</th>\n",
              "      <td>0.028874</td>\n",
              "      <td>2-EFM-218/16</td>\n",
              "      <td>0.578521</td>\n",
              "      <td>Macroeconomic development and economic policie...</td>\n",
              "    </tr>\n",
              "    <tr>\n",
              "      <th>16</th>\n",
              "      <td>0.027707</td>\n",
              "      <td>2-EFM-238/17</td>\n",
              "      <td>0.548932</td>\n",
              "      <td>Political economics</td>\n",
              "    </tr>\n",
              "    <tr>\n",
              "      <th>17</th>\n",
              "      <td>0.023807</td>\n",
              "      <td>2-EFM-105/00</td>\n",
              "      <td>0.448797</td>\n",
              "      <td>Theory of non-cooperative games</td>\n",
              "    </tr>\n",
              "    <tr>\n",
              "      <th>19</th>\n",
              "      <td>0.023138</td>\n",
              "      <td>2-PMS-118/10</td>\n",
              "      <td>0.431799</td>\n",
              "      <td>Markov processes (1)</td>\n",
              "    </tr>\n",
              "    <tr>\n",
              "      <th>18</th>\n",
              "      <td>0.021524</td>\n",
              "      <td>2-EFM-117/12</td>\n",
              "      <td>0.391528</td>\n",
              "      <td>Convex optimization</td>\n",
              "    </tr>\n",
              "    <tr>\n",
              "      <th>8</th>\n",
              "      <td>0.019607</td>\n",
              "      <td>2-EFM-236/15</td>\n",
              "      <td>0.345596</td>\n",
              "      <td>Modelling biological processes</td>\n",
              "    </tr>\n",
              "    <tr>\n",
              "      <th>25</th>\n",
              "      <td>0.019020</td>\n",
              "      <td>2-EFM-155/18</td>\n",
              "      <td>0.332040</td>\n",
              "      <td>Social network analysis</td>\n",
              "    </tr>\n",
              "    <tr>\n",
              "      <th>21</th>\n",
              "      <td>0.017060</td>\n",
              "      <td>2-EFM-125/00</td>\n",
              "      <td>0.288849</td>\n",
              "      <td>Economics of information</td>\n",
              "    </tr>\n",
              "    <tr>\n",
              "      <th>22</th>\n",
              "      <td>0.016957</td>\n",
              "      <td>2-PMS-212/15</td>\n",
              "      <td>0.286682</td>\n",
              "      <td>Nonparametric statistic</td>\n",
              "    </tr>\n",
              "    <tr>\n",
              "      <th>23</th>\n",
              "      <td>0.016715</td>\n",
              "      <td>2-EFM-237/15</td>\n",
              "      <td>0.281617</td>\n",
              "      <td>Digital signal processing</td>\n",
              "    </tr>\n",
              "    <tr>\n",
              "      <th>14</th>\n",
              "      <td>0.016013</td>\n",
              "      <td>2-EFM-201/15</td>\n",
              "      <td>0.267198</td>\n",
              "      <td>Insurance theory</td>\n",
              "    </tr>\n",
              "    <tr>\n",
              "      <th>26</th>\n",
              "      <td>0.015347</td>\n",
              "      <td>2-PMS-142/19</td>\n",
              "      <td>0.253973</td>\n",
              "      <td>Data dimensionality reduction</td>\n",
              "    </tr>\n",
              "    <tr>\n",
              "      <th>27</th>\n",
              "      <td>0.014862</td>\n",
              "      <td>2-PMS-135/00</td>\n",
              "      <td>0.244620</td>\n",
              "      <td>Pensions and pension funds</td>\n",
              "    </tr>\n",
              "    <tr>\n",
              "      <th>28</th>\n",
              "      <td>0.013277</td>\n",
              "      <td>2-EFM-217/11</td>\n",
              "      <td>0.215714</td>\n",
              "      <td>Insurance theory classes</td>\n",
              "    </tr>\n",
              "    <tr>\n",
              "      <th>7</th>\n",
              "      <td>0.013274</td>\n",
              "      <td>2-EFM-152/15</td>\n",
              "      <td>0.215668</td>\n",
              "      <td>Principles of mathematical modelling in scienc...</td>\n",
              "    </tr>\n",
              "    <tr>\n",
              "      <th>29</th>\n",
              "      <td>0.010877</td>\n",
              "      <td>2-EFM-115/15</td>\n",
              "      <td>0.176805</td>\n",
              "      <td>Economics seminar</td>\n",
              "    </tr>\n",
              "    <tr>\n",
              "      <th>24</th>\n",
              "      <td>0.008900</td>\n",
              "      <td>2-MAT-114/15</td>\n",
              "      <td>0.149063</td>\n",
              "      <td>Integral transforms and special functions</td>\n",
              "    </tr>\n",
              "  </tbody>\n",
              "</table>\n",
              "</div>"
            ],
            "text/plain": [
              "          BR  ...                                         CourseName\n",
              "12  0.036526  ...                                Computer statistics\n",
              "13  0.035199  ...           Cluster analysis and data classification\n",
              "6   0.033376  ...                  Multivariate statistical analyses\n",
              "20  0.033295  ...                      Stochastic simulation methods\n",
              "10  0.033264  ...                              Financial derivatives\n",
              "11  0.030316  ...                            Optimal control classes\n",
              "15  0.029222  ...                        Databases and data analysis\n",
              "9   0.028874  ...  Macroeconomic development and economic policie...\n",
              "16  0.027707  ...                                Political economics\n",
              "17  0.023807  ...                    Theory of non-cooperative games\n",
              "19  0.023138  ...                               Markov processes (1)\n",
              "18  0.021524  ...                                Convex optimization\n",
              "8   0.019607  ...                     Modelling biological processes\n",
              "25  0.019020  ...                            Social network analysis\n",
              "21  0.017060  ...                           Economics of information\n",
              "22  0.016957  ...                            Nonparametric statistic\n",
              "23  0.016715  ...                          Digital signal processing\n",
              "14  0.016013  ...                                   Insurance theory\n",
              "26  0.015347  ...                      Data dimensionality reduction\n",
              "27  0.014862  ...                         Pensions and pension funds\n",
              "28  0.013277  ...                           Insurance theory classes\n",
              "7   0.013274  ...  Principles of mathematical modelling in scienc...\n",
              "29  0.010877  ...                                  Economics seminar\n",
              "24  0.008900  ...          Integral transforms and special functions\n",
              "\n",
              "[24 rows x 4 columns]"
            ]
          },
          "metadata": {
            "tags": []
          },
          "execution_count": 60
        }
      ]
    },
    {
      "cell_type": "markdown",
      "metadata": {
        "id": "_xHIV8uqR76B"
      },
      "source": [
        "## Visualize"
      ]
    },
    {
      "cell_type": "code",
      "metadata": {
        "id": "R-rK7Ui93CZU",
        "colab": {
          "base_uri": "https://localhost:8080/",
          "height": 298
        },
        "outputId": "4c7395f8-8465-4972-d475-b5c25750e040"
      },
      "source": [
        "# plot probabilities\n",
        "plt.figure(figsize=(8, 4)) \n",
        "x = np.arange(1, 25, 1)\n",
        "y = df_pred_BR['Prediction'][::-1]\n",
        "y2 = df_pred_IR['Prediction'][::-1]\n",
        "plt.plot(x,y)\n",
        "plt.plot(x,y2)\n",
        "plt.plot([15.5, 15.5], [0.35, 0.55])\n",
        "plt.ylim(0,1)\n",
        "plt.xlim(1,24)\n",
        "plt.ylabel('Probability')\n",
        "plt.title('Probability evolution')\n",
        "plt.legend(['BiRank','ItemRank'])"
      ],
      "execution_count": 62,
      "outputs": [
        {
          "output_type": "execute_result",
          "data": {
            "text/plain": [
              "<matplotlib.legend.Legend at 0x7efec2196110>"
            ]
          },
          "metadata": {
            "tags": []
          },
          "execution_count": 62
        },
        {
          "output_type": "display_data",
          "data": {
            "image/png": "[encoded data removed]",
            "text/plain": [
              "<Figure size 576x288 with 1 Axes>"
            ]
          },
          "metadata": {
            "tags": [],
            "needs_background": "light"
          }
        }
      ]
    }
  ]
}