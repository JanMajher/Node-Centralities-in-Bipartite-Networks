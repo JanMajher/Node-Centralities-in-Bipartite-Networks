{
  "nbformat": 4,
  "nbformat_minor": 0,
  "metadata": {
    "colab": {
      "name": "Ranking_NBA_players.ipynb",
      "provenance": [],
      "collapsed_sections": [],
      "toc_visible": true
    },
    "kernelspec": {
      "name": "python3",
      "display_name": "Python 3"
    }
  },
  "cells": [
    {
      "cell_type": "markdown",
      "metadata": {
        "id": "x78jZ2hU6skY"
      },
      "source": [
        "# Imports"
      ]
    },
    {
      "cell_type": "code",
      "metadata": {
        "id": "fUlpFtnnwzFK"
      },
      "source": [
        "# import libraries\n",
        "import pandas as pd\n",
        "import numpy as np\n",
        "import scipy as sp\n",
        "import networkx as nx\n",
        "import matplotlib.pyplot as plt\n",
        "\n",
        "from AEW import AEW\n",
        "from AEW import AEW_hist\n",
        "from AEW import generate_W\n",
        "\n",
        "from pandas import DataFrame\n",
        "from numpy import linalg as LA\n",
        "from scipy import sparse\n",
        "from networkx.algorithms.bipartite import biadjacency_matrix\n",
        "from networkx.algorithms import bipartite"
      ],
      "execution_count": 2,
      "outputs": []
    },
    {
      "cell_type": "code",
      "metadata": {
        "id": "byYeB_F-nivP"
      },
      "source": [
        "# import data\n",
        "df_players = pd.read_excel('players.xlsx')\n",
        "df_lineups = pd.read_excel('lineups.xlsx')"
      ],
      "execution_count": 7,
      "outputs": []
    },
    {
      "cell_type": "markdown",
      "metadata": {
        "id": "k-049nD-w3ls"
      },
      "source": [
        "# Graph analysis"
      ]
    },
    {
      "cell_type": "code",
      "metadata": {
        "colab": {
          "base_uri": "https://localhost:8080/",
          "height": 374
        },
        "id": "lSSP8W_Vw3Ej",
        "outputId": "c09c43da-adcd-463f-8bd0-60a71927a078"
      },
      "source": [
        "# create simple bipartite network\n",
        "B_discon = nx.Graph()\n",
        "Nodes_1_discon = [\"A\", \"B\", \"C\", \"D\"]\n",
        "Nodes_2_discon  = [1, 2]\n",
        "B_discon.add_nodes_from(Nodes_1_discon , bipartite=0)\n",
        "B_discon.add_nodes_from(Nodes_2_discon  , bipartite=1)\n",
        "B_discon.add_edges_from([(\"A\", 1), (\"B\", 2), (\"C\", 2), (\"D\", 2)])\n",
        "B_discon[Nodes_1_discon[0]][Nodes_2_discon [0]]['weight'] = 140.8\n",
        "B_discon[Nodes_1_discon[1]][Nodes_2_discon [1]]['weight'] = 98\n",
        "B_discon[Nodes_1_discon[2]][Nodes_2_discon [1]]['weight'] = 96.1\n",
        "B_discon[Nodes_1_discon[3]][Nodes_2_discon [1]]['weight'] = 108.8\n",
        "nx.is_bipartite(B_discon)\n",
        "\n",
        "# Plot\n",
        "plt.figure(figsize=(8, 6)) \n",
        "\n",
        "color = bipartite.color(B_discon)\n",
        "color_dict = {0:'#EDFF00FF',1:'#00A4CCFF'}\n",
        "color_list = [color_dict[i[1]] for i in B_discon.nodes.data('bipartite')]\n",
        "pos = {1: (0, 0.7), 2: (0, 0.5), 'A': (0.6, 0.7), 'B': (0.6, 0.55), 'C': (0.6, 0.4), 'D': (0.6, 0.25)}\n",
        "labels = nx.get_edge_attributes(B_discon,'weight')\n",
        "nx.draw_networkx(B_discon, pos=pos, node_size=[800,800,800,800,800,800],font_size = 14, node_color=color_list, edge_color='#FF3EA5FF')\n",
        "nx.draw_networkx_nodes(B_discon, pos=pos, nodelist= [1,2], node_size=[800,800], node_color=color_list[4:6], label='Players')\n",
        "nx.draw_networkx_nodes(B_discon, pos=pos, nodelist= ['A','B','C','D'], node_size=[800,800,800,800], node_color=color_list[0:4], label='Lineups')\n",
        "nx.draw_networkx_edge_labels(B_discon, pos=pos, edge_labels=labels,font_size = 14) \n",
        "plt.legend(scatterpoints = 1,prop={'size': 14})\n",
        "\n",
        "plt.show()\n",
        "plt.tight_layout"
      ],
      "execution_count": 4,
      "outputs": [
        {
          "output_type": "display_data",
          "data": {
            "image/png": "[encoded data removed]",
            "text/plain": [
              "<Figure size 576x432 with 1 Axes>"
            ]
          },
          "metadata": {
            "tags": []
          }
        },
        {
          "output_type": "execute_result",
          "data": {
            "text/plain": [
              "<function matplotlib.pyplot.tight_layout>"
            ]
          },
          "metadata": {
            "tags": []
          },
          "execution_count": 4
        }
      ]
    },
    {
      "cell_type": "code",
      "metadata": {
        "colab": {
          "base_uri": "https://localhost:8080/",
          "height": 374
        },
        "id": "TAaSBB3-xaX5",
        "outputId": "382f008a-592c-4620-87d7-9462b06c4ddb"
      },
      "source": [
        "# create simple bipartite network\n",
        "B_discon = nx.Graph()\n",
        "Nodes_1_discon = [\"E\", \"F\"]\n",
        "Nodes_2_discon = [3, 4, 5]\n",
        "B_discon.add_nodes_from(Nodes_1_discon , bipartite=0)\n",
        "B_discon.add_nodes_from(Nodes_2_discon  , bipartite=1)\n",
        "B_discon.add_edges_from([(\"E\", 3), (\"E\", 4), (\"E\", 5), (\"F\", 3), (\"F\", 4), (\"F\", 5)])\n",
        "B_discon[Nodes_1_discon[0]][Nodes_2_discon [0]]['weight'] = 106.9\n",
        "B_discon[Nodes_1_discon[1]][Nodes_2_discon [0]]['weight'] = 100\n",
        "B_discon[Nodes_1_discon[0]][Nodes_2_discon [1]]['weight'] = 106.9\n",
        "B_discon[Nodes_1_discon[1]][Nodes_2_discon [1]]['weight'] = 100\n",
        "B_discon[Nodes_1_discon[0]][Nodes_2_discon [2]]['weight'] = 106.9\n",
        "B_discon[Nodes_1_discon[1]][Nodes_2_discon [2]]['weight'] = 100\n",
        "nx.is_bipartite(B_discon)\n",
        "\n",
        "# Plot\n",
        "plt.figure(figsize=(8, 6)) \n",
        "\n",
        "color = bipartite.color(B_discon)\n",
        "color_dict = {0:'#EDFF00FF',1:'#00A4CCFF'}\n",
        "color_list = [color_dict[i[1]] for i in B_discon.nodes.data('bipartite')]\n",
        "pos = {3: (0, 0.7), 4: (0, 0.6), 5: (0, 0.5), 'E': (0.6, 0.7), 'F': (0.6, 0.55)}\n",
        "labels = nx.get_edge_attributes(B_discon,'weight')\n",
        "nx.draw_networkx(B_discon, pos=pos, node_size=[800,800,800,800,800],font_size = 14, node_color=color_list, edge_color='#FF3EA5FF')\n",
        "nx.draw_networkx_nodes(B_discon, pos=pos, nodelist= [3,4,5], node_size=[800,800,800], node_color=color_list[2:5], label='Players')\n",
        "nx.draw_networkx_nodes(B_discon, pos=pos, nodelist= ['E','F'], node_size=[800,800], node_color=color_list[0:2], label='Lineups')\n",
        "nx.draw_networkx_edge_labels(B_discon, pos=pos, edge_labels=labels,font_size = 14) \n",
        "plt.legend(scatterpoints = 1,prop={'size': 14})\n",
        "\n",
        "plt.show()\n",
        "plt.tight_layout"
      ],
      "execution_count": 5,
      "outputs": [
        {
          "output_type": "display_data",
          "data": {
            "image/png": "[encoded data removed]",
            "text/plain": [
              "<Figure size 576x432 with 1 Axes>"
            ]
          },
          "metadata": {
            "tags": []
          }
        },
        {
          "output_type": "execute_result",
          "data": {
            "text/plain": [
              "<function matplotlib.pyplot.tight_layout>"
            ]
          },
          "metadata": {
            "tags": []
          },
          "execution_count": 5
        }
      ]
    },
    {
      "cell_type": "markdown",
      "metadata": {
        "id": "3gr4lCl-6jlC"
      },
      "source": [
        "# Players ranking"
      ]
    },
    {
      "cell_type": "markdown",
      "metadata": {
        "id": "azdwESYf79MF"
      },
      "source": [
        "## OR and PPG"
      ]
    },
    {
      "cell_type": "code",
      "metadata": {
        "id": "ltTGcbjA7sfG"
      },
      "source": [
        "# Inputs for algorithm\n",
        "# players\n",
        "players = df_players['PLAYER']\n",
        "players_names = df_players['PLAYER_FULL_NAME']\n",
        "\n",
        "# lineups \n",
        "lineups = df_lineups[\"LINEUP\"]\n",
        "ratings = df_lineups[\"OFFRTG\"]\n",
        "\n",
        "# set initial vector for players\n",
        "u0_tmp = np.array(df_players['PPG'])\n",
        "u0 = u0_tmp/u0_tmp.sum()"
      ],
      "execution_count": 8,
      "outputs": []
    },
    {
      "cell_type": "code",
      "metadata": {
        "colab": {
          "base_uri": "https://localhost:8080/"
        },
        "id": "OA2tgIaLAwgV",
        "outputId": "ab541622-5f56-4131-c843-442b7ba9652a"
      },
      "source": [
        "# Generate W\n",
        "W = generate_W(players, lineups, ratings)\n",
        "\n",
        "# Calculate AEW scores ( alpha is for players)\n",
        "u_OR ,v = AEW(W=W, u0=u0, alpha=0.6, beta=0.6, verbose=True)"
      ],
      "execution_count": 9,
      "outputs": [
        {
          "output_type": "stream",
          "text": [
            "Shape of W: (117, 59)\n",
            "Iteration : 0; top error: 0.26861170945099705; bottom error: 0.08862121126478337\n",
            "Iteration : 1; top error: 0.040223561927187; bottom error: 0.037553082902811064\n",
            "Iteration : 2; top error: 0.023639495612711926; bottom error: 0.016517313686161585\n",
            "Iteration : 3; top error: 0.010983395526120524; bottom error: 0.010438547369266114\n",
            "Iteration : 4; top error: 0.007835397278202007; bottom error: 0.005584964576109861\n",
            "Iteration : 5; top error: 0.003693009678048706; bottom error: 0.003649820722844194\n",
            "Iteration : 6; top error: 0.00284595312537023; bottom error: 0.0020080258665087416\n",
            "Iteration : 7; top error: 0.0013218496617478912; bottom error: 0.001353141171705893\n",
            "Iteration : 8; top error: 0.0010844894223782666; bottom error: 0.0007491515385240066\n",
            "Iteration : 9; top error: 0.0004897933714750036; bottom error: 0.0005226200681926647\n",
            "Iteration : 10; top error: 0.00042931456254493476; bottom error: 0.000286399036966695\n",
            "Iteration : 11; top error: 0.00018846159067334228; bottom error: 0.00020777105313932523\n",
            "Iteration : 12; top error: 0.00017695518868610267; bottom error: 0.00011105783865932722\n",
            "Iteration : 13; top error: 7.307127414663732e-05; bottom error: 8.526653466458048e-05\n"
          ],
          "name": "stdout"
        }
      ]
    },
    {
      "cell_type": "code",
      "metadata": {
        "id": "Ry2kOJeLN-VT",
        "colab": {
          "base_uri": "https://localhost:8080/",
          "height": 148
        },
        "outputId": "b64b7d14-89da-423d-d646-02c07c6276d5"
      },
      "source": [
        "# Scores for all iterations for two players\n",
        "# all iterations\n",
        "U,V = AEW_hist(W=W, u0=u0, alpha=0.6, beta=0.6, max_iter= 20)\n",
        "\n",
        "# get indices\n",
        "df_players.loc[df_players['PLAYER_FULL_NAME'].isin(['Russell Westbrook','Tyler Herro'])]"
      ],
      "execution_count": 15,
      "outputs": [
        {
          "output_type": "execute_result",
          "data": {
            "text/html": [
              "<div>\n",
              "<style scoped>\n",
              "    .dataframe tbody tr th:only-of-type {\n",
              "        vertical-align: middle;\n",
              "    }\n",
              "\n",
              "    .dataframe tbody tr th {\n",
              "        vertical-align: top;\n",
              "    }\n",
              "\n",
              "    .dataframe thead th {\n",
              "        text-align: right;\n",
              "    }\n",
              "</style>\n",
              "<table border=\"1\" class=\"dataframe\">\n",
              "  <thead>\n",
              "    <tr style=\"text-align: right;\">\n",
              "      <th></th>\n",
              "      <th>PLAYER</th>\n",
              "      <th>PLAYER_FULL_NAME</th>\n",
              "      <th>Age</th>\n",
              "      <th>Tm</th>\n",
              "      <th>G</th>\n",
              "      <th>GS</th>\n",
              "      <th>MPG</th>\n",
              "      <th>MP</th>\n",
              "      <th>FG</th>\n",
              "      <th>FGA</th>\n",
              "      <th>FG%</th>\n",
              "      <th>3P</th>\n",
              "      <th>3PA</th>\n",
              "      <th>3P%</th>\n",
              "      <th>2P</th>\n",
              "      <th>2PA</th>\n",
              "      <th>2P%</th>\n",
              "      <th>eFG%</th>\n",
              "      <th>FT</th>\n",
              "      <th>FTA</th>\n",
              "      <th>FT%</th>\n",
              "      <th>ORB</th>\n",
              "      <th>DRB</th>\n",
              "      <th>TRB</th>\n",
              "      <th>AST</th>\n",
              "      <th>STL</th>\n",
              "      <th>BLK</th>\n",
              "      <th>TOV</th>\n",
              "      <th>PF</th>\n",
              "      <th>PPG</th>\n",
              "      <th>PER</th>\n",
              "      <th>TS%</th>\n",
              "      <th>3PAr</th>\n",
              "      <th>FTr</th>\n",
              "      <th>ORB%</th>\n",
              "      <th>DRB%</th>\n",
              "      <th>TRB%</th>\n",
              "      <th>AST%</th>\n",
              "      <th>STL%</th>\n",
              "      <th>BLK%</th>\n",
              "      <th>TOV%</th>\n",
              "      <th>USG%</th>\n",
              "      <th>OWS</th>\n",
              "      <th>OWS/48</th>\n",
              "      <th>DWS</th>\n",
              "      <th>DWS/48</th>\n",
              "      <th>WS</th>\n",
              "      <th>WS/48</th>\n",
              "      <th>OBPM</th>\n",
              "      <th>DBPM</th>\n",
              "      <th>BPM</th>\n",
              "    </tr>\n",
              "  </thead>\n",
              "  <tbody>\n",
              "    <tr>\n",
              "      <th>66</th>\n",
              "      <td>.T. Herro</td>\n",
              "      <td>Tyler Herro</td>\n",
              "      <td>20</td>\n",
              "      <td>MIA</td>\n",
              "      <td>21</td>\n",
              "      <td>5</td>\n",
              "      <td>33.6</td>\n",
              "      <td>706</td>\n",
              "      <td>5.7</td>\n",
              "      <td>13.2</td>\n",
              "      <td>0.433</td>\n",
              "      <td>2.3</td>\n",
              "      <td>6.1</td>\n",
              "      <td>0.375</td>\n",
              "      <td>3.4</td>\n",
              "      <td>7.1</td>\n",
              "      <td>0.483</td>\n",
              "      <td>0.52</td>\n",
              "      <td>2.2</td>\n",
              "      <td>2.6</td>\n",
              "      <td>0.870</td>\n",
              "      <td>0.3</td>\n",
              "      <td>4.8</td>\n",
              "      <td>5.1</td>\n",
              "      <td>3.7</td>\n",
              "      <td>0.4</td>\n",
              "      <td>0.1</td>\n",
              "      <td>2.0</td>\n",
              "      <td>1.5</td>\n",
              "      <td>16.0</td>\n",
              "      <td>12.9</td>\n",
              "      <td>0.557</td>\n",
              "      <td>0.462</td>\n",
              "      <td>0.195</td>\n",
              "      <td>1.2</td>\n",
              "      <td>15.8</td>\n",
              "      <td>8.7</td>\n",
              "      <td>17.9</td>\n",
              "      <td>0.6</td>\n",
              "      <td>0.3</td>\n",
              "      <td>12.3</td>\n",
              "      <td>22.0</td>\n",
              "      <td>0.3</td>\n",
              "      <td>0.020397</td>\n",
              "      <td>0.5</td>\n",
              "      <td>0.033994</td>\n",
              "      <td>0.8</td>\n",
              "      <td>0.053</td>\n",
              "      <td>0.6</td>\n",
              "      <td>-0.8</td>\n",
              "      <td>-0.2</td>\n",
              "    </tr>\n",
              "    <tr>\n",
              "      <th>76</th>\n",
              "      <td>.R. Westbrook</td>\n",
              "      <td>Russell Westbrook</td>\n",
              "      <td>31</td>\n",
              "      <td>HOU</td>\n",
              "      <td>8</td>\n",
              "      <td>8</td>\n",
              "      <td>32.8</td>\n",
              "      <td>262</td>\n",
              "      <td>7.4</td>\n",
              "      <td>17.5</td>\n",
              "      <td>0.421</td>\n",
              "      <td>1.0</td>\n",
              "      <td>4.1</td>\n",
              "      <td>0.242</td>\n",
              "      <td>6.4</td>\n",
              "      <td>13.4</td>\n",
              "      <td>0.477</td>\n",
              "      <td>0.45</td>\n",
              "      <td>2.1</td>\n",
              "      <td>4.0</td>\n",
              "      <td>0.531</td>\n",
              "      <td>1.4</td>\n",
              "      <td>5.6</td>\n",
              "      <td>7.0</td>\n",
              "      <td>4.6</td>\n",
              "      <td>1.5</td>\n",
              "      <td>0.3</td>\n",
              "      <td>3.8</td>\n",
              "      <td>2.9</td>\n",
              "      <td>17.9</td>\n",
              "      <td>12.1</td>\n",
              "      <td>0.464</td>\n",
              "      <td>0.236</td>\n",
              "      <td>0.229</td>\n",
              "      <td>4.5</td>\n",
              "      <td>20.2</td>\n",
              "      <td>11.9</td>\n",
              "      <td>25.8</td>\n",
              "      <td>2.2</td>\n",
              "      <td>0.8</td>\n",
              "      <td>16.3</td>\n",
              "      <td>31.5</td>\n",
              "      <td>-0.7</td>\n",
              "      <td>-0.128244</td>\n",
              "      <td>0.4</td>\n",
              "      <td>0.073282</td>\n",
              "      <td>-0.2</td>\n",
              "      <td>-0.043</td>\n",
              "      <td>-1.9</td>\n",
              "      <td>-1.2</td>\n",
              "      <td>-3.2</td>\n",
              "    </tr>\n",
              "  </tbody>\n",
              "</table>\n",
              "</div>"
            ],
            "text/plain": [
              "           PLAYER   PLAYER_FULL_NAME  Age   Tm   G  ...   WS  WS/48  OBPM  DBPM  BPM\n",
              "66      .T. Herro        Tyler Herro   20  MIA  21  ...  0.8  0.053   0.6  -0.8 -0.2\n",
              "76  .R. Westbrook  Russell Westbrook   31  HOU   8  ... -0.2 -0.043  -1.9  -1.2 -3.2\n",
              "\n",
              "[2 rows x 51 columns]"
            ]
          },
          "metadata": {
            "tags": []
          },
          "execution_count": 15
        }
      ]
    },
    {
      "cell_type": "code",
      "metadata": {
        "colab": {
          "base_uri": "https://localhost:8080/",
          "height": 296
        },
        "id": "6jJau3IgRuFc",
        "outputId": "389c836f-8e64-41f6-c6b7-43d9fdd3a729"
      },
      "source": [
        "# plot 20 iterations\n",
        "plt.figure(figsize=(8, 4)) \n",
        "x = np.arange(0, 21, 1)\n",
        "y = U[:,66] # Tyler Herro\n",
        "y2 = U[:,76] # Russell Westbrook\n",
        "plt.plot(x,y)\n",
        "plt.plot(x,y2)\n",
        "\n",
        "plt.xlim(0,20)\n",
        "plt.xticks(np.arange(0, 21, step=1)) \n",
        "plt.ylabel('AEW score')\n",
        "plt.xlabel('Iteration')\n",
        "plt.legend(['Tyler Herro','Russell Westbrook'])"
      ],
      "execution_count": 16,
      "outputs": [
        {
          "output_type": "execute_result",
          "data": {
            "text/plain": [
              "<matplotlib.legend.Legend at 0x7fe380571cd0>"
            ]
          },
          "metadata": {
            "tags": []
          },
          "execution_count": 16
        },
        {
          "output_type": "display_data",
          "data": {
            "image/png": "[encoded data removed]",
            "text/plain": [
              "<Figure size 576x288 with 1 Axes>"
            ]
          },
          "metadata": {
            "tags": [],
            "needs_background": "light"
          }
        }
      ]
    },
    {
      "cell_type": "markdown",
      "metadata": {
        "id": "PCQy_wDXR5lf"
      },
      "source": [
        "## PT48 and PPG + ORB + AST "
      ]
    },
    {
      "cell_type": "code",
      "metadata": {
        "id": "a3nCmzd0IcnA"
      },
      "source": [
        "# Point per 48minutes\n",
        "lineups_PT48 = df_lineups[[\"LINEUP\", \"PTS\", \"MIN\"]]\n",
        "lineups_PT48[\"PT48\"] = (df_lineups[\"PTS\"]/df_lineups[\"MIN\"])*48\n",
        "lineups_PT48.head()"
      ],
      "execution_count": null,
      "outputs": []
    },
    {
      "cell_type": "code",
      "metadata": {
        "id": "kJwBq_NdRmC9"
      },
      "source": [
        "# Inputs for Algorithm\n",
        "# players\n",
        "players = df_players['PLAYER']\n",
        "players_names = df_players['PLAYER_FULL_NAME']\n",
        "\n",
        "# lineups \n",
        "lineups = lineups_PT48[\"LINEUP\"]\n",
        "ratings = lineups_PT48[\"PT48\"]\n",
        "\n",
        "# set initial vector for players\n",
        "u0_tmp = np.array(df_players['PPG'] + df_players['ORB']+ df_players['AST'])\n",
        "u0 = u0_tmp/u0_tmp.sum()"
      ],
      "execution_count": 18,
      "outputs": []
    },
    {
      "cell_type": "code",
      "metadata": {
        "id": "C7nZXBd9JMAp",
        "colab": {
          "base_uri": "https://localhost:8080/"
        },
        "outputId": "bf5e7f3d-ee08-4754-a644-db13f075e63b"
      },
      "source": [
        "# Generate W\n",
        "W = generate_W(players, lineups, ratings)\n",
        "\n",
        "# Calculate AEW scores ( alpha is for players)\n",
        "u_PT48, v = AEW(W=W, u0=u0, alpha=0.5, beta=0.5)"
      ],
      "execution_count": 19,
      "outputs": [
        {
          "output_type": "stream",
          "text": [
            "Shape of W: (117, 59)\n"
          ],
          "name": "stdout"
        }
      ]
    },
    {
      "cell_type": "markdown",
      "metadata": {
        "id": "2Yt8rYr9RvQ9"
      },
      "source": [
        "## DR and STL + BLK "
      ]
    },
    {
      "cell_type": "markdown",
      "metadata": {
        "id": "wWYHmMvVkz22"
      },
      "source": [
        "$$ Z = mean(X) + (mean(X) - X)$$"
      ]
    },
    {
      "cell_type": "code",
      "metadata": {
        "id": "4buRO-S1JN_g"
      },
      "source": [
        "# DR rescale\n",
        "lineups_DR = df_lineups[['LINEUP','DEFRTG']]\n",
        "lineups_DR['MEAN'] = np.mean(lineups_DR['DEFRTG'])\n",
        "lineups_DR['DEFRTG_RESCALED'] = lineups_DR['MEAN'] + (lineups_DR['MEAN'] - lineups_DR['DEFRTG'])\n",
        "lineups_DR.head()"
      ],
      "execution_count": null,
      "outputs": []
    },
    {
      "cell_type": "code",
      "metadata": {
        "id": "sO9LgwikdCE4"
      },
      "source": [
        "# Inputs for Algorithm\n",
        "# players\n",
        "players = df_players['PLAYER']\n",
        "players_names = df_players['PLAYER_FULL_NAME']\n",
        "\n",
        "# lineups \n",
        "lineups = lineups_DR[\"LINEUP\"]\n",
        "ratings = lineups_DR[\"DEFRTG_RESCALED\"]\n",
        "\n",
        "# set initial vector for players\n",
        "u0_tmp = np.array(df_players['STL'] + df_players['BLK'])\n",
        "u0 = u0_tmp/u0_tmp.sum()"
      ],
      "execution_count": 22,
      "outputs": []
    },
    {
      "cell_type": "code",
      "metadata": {
        "id": "b6h14xepdUB_",
        "colab": {
          "base_uri": "https://localhost:8080/"
        },
        "outputId": "f606db98-e38c-49e8-f2c4-0e0c4d7a189e"
      },
      "source": [
        "# Generate W\n",
        "W = generate_W(players, lineups, ratings)\n",
        "\n",
        "# Calculate AEW scores ( alpha is for players)\n",
        "u_DR, v = AEW(W=W, u0=u0, alpha=0.5, beta=0.5)"
      ],
      "execution_count": 23,
      "outputs": [
        {
          "output_type": "stream",
          "text": [
            "Shape of W: (117, 59)\n"
          ],
          "name": "stdout"
        }
      ]
    },
    {
      "cell_type": "markdown",
      "metadata": {
        "id": "AG2K7bpRdktU"
      },
      "source": [
        "## NETR and PER"
      ]
    },
    {
      "cell_type": "markdown",
      "metadata": {
        "id": "9MqMyzLkkvkj"
      },
      "source": [
        "$$ Z = (b-a)\\frac{X - min(X)}{max(X) - min(X)} + a$$"
      ]
    },
    {
      "cell_type": "code",
      "metadata": {
        "id": "1dPU4I00daA_"
      },
      "source": [
        "# Net Rating Rescaling\n",
        "lineups_NETRTG = df_lineups[[\"LINEUP\", \"NETRTG\"]]\n",
        "lineups_NETRTG = df_lineups[[\"LINEUP\", \"NETRTG\"]]\n",
        "lineups_NETRTG['NETRTG_RESCALED'] = (130-80)*((lineups_NETRTG['NETRTG'] - min(lineups_NETRTG['NETRTG'])) / (max(lineups_NETRTG['NETRTG'])- min(lineups_NETRTG['NETRTG']))) + 80\n",
        "lineups_NETRTG.head()"
      ],
      "execution_count": null,
      "outputs": []
    },
    {
      "cell_type": "code",
      "metadata": {
        "id": "eHOHPsYzdz2P"
      },
      "source": [
        "# Inputs for Algorithm\n",
        "\n",
        "# players\n",
        "players = df_players['PLAYER']\n",
        "players_names = df_players['PLAYER_FULL_NAME']\n",
        "\n",
        "# lineups \n",
        "lineups = lineups_NETRTG[\"LINEUP\"]\n",
        "ratings = lineups_NETRTG[\"NETRTG_RESCALED\"]\n",
        "\n",
        "# set initial vector for players\n",
        "u0_tmp = np.array(df_players['PER'])\n",
        "u0 = u0_tmp/u0_tmp.sum()"
      ],
      "execution_count": 26,
      "outputs": []
    },
    {
      "cell_type": "code",
      "metadata": {
        "id": "ZCmkh5D5eAHN",
        "colab": {
          "base_uri": "https://localhost:8080/"
        },
        "outputId": "ca39ecef-5cab-4807-a9ba-cb47a3ca1ccc"
      },
      "source": [
        "# Generate W\n",
        "W = generate_W(players, lineups, ratings)\n",
        "\n",
        "# Calculate AEW scores ( alpha is for players)\n",
        "u_NR,v = AEW(W=W, u0=u0, alpha=0.5, beta=0.5)"
      ],
      "execution_count": 27,
      "outputs": [
        {
          "output_type": "stream",
          "text": [
            "Shape of W: (117, 59)\n"
          ],
          "name": "stdout"
        }
      ]
    },
    {
      "cell_type": "markdown",
      "metadata": {
        "id": "_C9Q0VLkewYW"
      },
      "source": [
        "## Results"
      ]
    },
    {
      "cell_type": "code",
      "metadata": {
        "id": "KJB54oqgek7B"
      },
      "source": [
        "# Display results with names\n",
        "# set it None to display all rows in the dataframe\n",
        "pd.set_option('display.max_rows', None)\n",
        "\n",
        "# select ranking\n",
        "u = u_NR # u_OR/PT48/DR/NR\n",
        "\n",
        "# append names to scores\n",
        "Birank_u = {}   \n",
        "keys_u = players\n",
        "values_u = u\n",
        "for k in range(len(keys_u)):\n",
        "    Birank_u[keys_u[k]] = values_u[k]\n",
        "Birank_u = sorted(Birank_u.items(), key=lambda x: x[1], reverse=True)\n",
        "\n",
        "# result for players\n",
        "Birank_u\n",
        "results = pd.DataFrame.from_dict(Birank_u)\n",
        "results.columns = ['Player','Score']\n",
        "results"
      ],
      "execution_count": null,
      "outputs": []
    }
  ]
}