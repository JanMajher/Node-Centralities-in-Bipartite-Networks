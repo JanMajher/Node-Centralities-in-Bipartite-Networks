{
  "nbformat": 4,
  "nbformat_minor": 0,
  "metadata": {
    "colab": {
      "name": "Artists_Recommendation",
      "provenance": [],
      "collapsed_sections": [],
      "toc_visible": true
    },
    "kernelspec": {
      "name": "python3",
      "display_name": "Python 3"
    }
  },
  "cells": [
    {
      "cell_type": "markdown",
      "metadata": {
        "id": "0BHQJ3CDaBAG"
      },
      "source": [
        "# Imports"
      ]
    },
    {
      "cell_type": "code",
      "metadata": {
        "id": "1Cjy-t1laL7d"
      },
      "source": [
        "# import libraries\n",
        "import matplotlib.pyplot as plt\n",
        "import numpy as np\n",
        "import time\n",
        "import pandas as pd\n",
        "import random\n",
        "\n",
        "from sklearn.utils import shuffle\n",
        "from sklearn.pipeline import make_pipeline\n",
        "from sklearn.pipeline import Pipeline\n",
        "from sklearn.linear_model import LogisticRegression\n",
        "from sklearn.model_selection import cross_val_score\n",
        "from sklearn.model_selection import train_test_split\n",
        "from sklearn.metrics import classification_report, confusion_matrix\n",
        "from sklearn.metrics import plot_confusion_matrix\n",
        "from sklearn.metrics import roc_curve\n",
        "from sklearn.metrics import roc_auc_score\n",
        "from sklearn import svm\n",
        "from sklearn.ensemble import RandomForestClassifier\n",
        "from sklearn.preprocessing import MinMaxScaler\n",
        "from sklearn.preprocessing import StandardScaler\n",
        "import xgboost as xgb\n",
        "from sklearn.model_selection import GridSearchCV"
      ],
      "execution_count": null,
      "outputs": []
    },
    {
      "cell_type": "code",
      "metadata": {
        "id": "yCuenq4L3RrL"
      },
      "source": [
        "# import data\n",
        "df = pd.read_csv('ARTISTS_data.csv')"
      ],
      "execution_count": null,
      "outputs": []
    },
    {
      "cell_type": "markdown",
      "metadata": {
        "id": "xbJ-BH2NXclr"
      },
      "source": [
        "# Data Exploration"
      ]
    },
    {
      "cell_type": "code",
      "metadata": {
        "colab": {
          "base_uri": "https://localhost:8080/",
          "height": 435
        },
        "id": "o0h7tbxIOlcg",
        "outputId": "b155096c-d3ec-4f12-d7f8-855a4d09dcad"
      },
      "source": [
        "# counts\n",
        "print(len(df['userID'].unique()))\n",
        "print(len(df['artistID'].unique()))\n",
        "df"
      ],
      "execution_count": null,
      "outputs": [
        {
          "output_type": "stream",
          "text": [
            "1870\n",
            "2774\n"
          ],
          "name": "stdout"
        },
        {
          "output_type": "execute_result",
          "data": {
            "text/html": [
              "<div>\n",
              "<style scoped>\n",
              "    .dataframe tbody tr th:only-of-type {\n",
              "        vertical-align: middle;\n",
              "    }\n",
              "\n",
              "    .dataframe tbody tr th {\n",
              "        vertical-align: top;\n",
              "    }\n",
              "\n",
              "    .dataframe thead th {\n",
              "        text-align: right;\n",
              "    }\n",
              "</style>\n",
              "<table border=\"1\" class=\"dataframe\">\n",
              "  <thead>\n",
              "    <tr style=\"text-align: right;\">\n",
              "      <th></th>\n",
              "      <th>userID</th>\n",
              "      <th>artistID</th>\n",
              "      <th>name</th>\n",
              "      <th>Label</th>\n",
              "      <th>IR</th>\n",
              "      <th>BR</th>\n",
              "    </tr>\n",
              "  </thead>\n",
              "  <tbody>\n",
              "    <tr>\n",
              "      <th>0</th>\n",
              "      <td>781</td>\n",
              "      <td>5475</td>\n",
              "      <td>Blue Foundation</td>\n",
              "      <td>0</td>\n",
              "      <td>0.008757</td>\n",
              "      <td>0.000198</td>\n",
              "    </tr>\n",
              "    <tr>\n",
              "      <th>1</th>\n",
              "      <td>1772</td>\n",
              "      <td>6543</td>\n",
              "      <td>Millionaires</td>\n",
              "      <td>0</td>\n",
              "      <td>0.009731</td>\n",
              "      <td>0.000137</td>\n",
              "    </tr>\n",
              "    <tr>\n",
              "      <th>2</th>\n",
              "      <td>1323</td>\n",
              "      <td>507</td>\n",
              "      <td>Saosin</td>\n",
              "      <td>0</td>\n",
              "      <td>0.085817</td>\n",
              "      <td>0.000807</td>\n",
              "    </tr>\n",
              "    <tr>\n",
              "      <th>3</th>\n",
              "      <td>1427</td>\n",
              "      <td>11206</td>\n",
              "      <td>The Black Dog</td>\n",
              "      <td>1</td>\n",
              "      <td>0.000921</td>\n",
              "      <td>0.000067</td>\n",
              "    </tr>\n",
              "    <tr>\n",
              "      <th>4</th>\n",
              "      <td>18</td>\n",
              "      <td>10672</td>\n",
              "      <td>Voivod</td>\n",
              "      <td>0</td>\n",
              "      <td>0.009281</td>\n",
              "      <td>0.000204</td>\n",
              "    </tr>\n",
              "    <tr>\n",
              "      <th>...</th>\n",
              "      <td>...</td>\n",
              "      <td>...</td>\n",
              "      <td>...</td>\n",
              "      <td>...</td>\n",
              "      <td>...</td>\n",
              "      <td>...</td>\n",
              "    </tr>\n",
              "    <tr>\n",
              "      <th>80055</th>\n",
              "      <td>1332</td>\n",
              "      <td>3575</td>\n",
              "      <td>Blake Lewis</td>\n",
              "      <td>1</td>\n",
              "      <td>0.057420</td>\n",
              "      <td>0.000618</td>\n",
              "    </tr>\n",
              "    <tr>\n",
              "      <th>80056</th>\n",
              "      <td>718</td>\n",
              "      <td>1507</td>\n",
              "      <td>Omarion</td>\n",
              "      <td>0</td>\n",
              "      <td>0.005333</td>\n",
              "      <td>0.000092</td>\n",
              "    </tr>\n",
              "    <tr>\n",
              "      <th>80057</th>\n",
              "      <td>106</td>\n",
              "      <td>2896</td>\n",
              "      <td>Albert Collins</td>\n",
              "      <td>0</td>\n",
              "      <td>0.006839</td>\n",
              "      <td>0.000156</td>\n",
              "    </tr>\n",
              "    <tr>\n",
              "      <th>80058</th>\n",
              "      <td>1582</td>\n",
              "      <td>396</td>\n",
              "      <td>L'Arc~en~Ciel</td>\n",
              "      <td>0</td>\n",
              "      <td>0.007817</td>\n",
              "      <td>0.000198</td>\n",
              "    </tr>\n",
              "    <tr>\n",
              "      <th>80059</th>\n",
              "      <td>413</td>\n",
              "      <td>3230</td>\n",
              "      <td>The Moody Blues</td>\n",
              "      <td>0</td>\n",
              "      <td>0.008659</td>\n",
              "      <td>0.000200</td>\n",
              "    </tr>\n",
              "  </tbody>\n",
              "</table>\n",
              "<p>80060 rows × 6 columns</p>\n",
              "</div>"
            ],
            "text/plain": [
              "       userID  artistID             name  Label        IR        BR\n",
              "0         781      5475  Blue Foundation      0  0.008757  0.000198\n",
              "1        1772      6543     Millionaires      0  0.009731  0.000137\n",
              "2        1323       507           Saosin      0  0.085817  0.000807\n",
              "3        1427     11206    The Black Dog      1  0.000921  0.000067\n",
              "4          18     10672           Voivod      0  0.009281  0.000204\n",
              "...       ...       ...              ...    ...       ...       ...\n",
              "80055    1332      3575      Blake Lewis      1  0.057420  0.000618\n",
              "80056     718      1507          Omarion      0  0.005333  0.000092\n",
              "80057     106      2896   Albert Collins      0  0.006839  0.000156\n",
              "80058    1582       396    L'Arc~en~Ciel      0  0.007817  0.000198\n",
              "80059     413      3230  The Moody Blues      0  0.008659  0.000200\n",
              "\n",
              "[80060 rows x 6 columns]"
            ]
          },
          "metadata": {
            "tags": []
          },
          "execution_count": 4
        }
      ]
    },
    {
      "cell_type": "code",
      "metadata": {
        "colab": {
          "base_uri": "https://localhost:8080/"
        },
        "id": "IILE5AiceKFZ",
        "outputId": "e613465b-4288-4360-8095-3a47c0c910a4"
      },
      "source": [
        "print(len(df.loc[df['Label'] == 1]))\n",
        "print(len(df.loc[df['Label'] == 0]))"
      ],
      "execution_count": null,
      "outputs": [
        {
          "output_type": "stream",
          "text": [
            "31353\n",
            "48707\n"
          ],
          "name": "stdout"
        }
      ]
    },
    {
      "cell_type": "code",
      "metadata": {
        "colab": {
          "base_uri": "https://localhost:8080/",
          "height": 367
        },
        "id": "dRHCJfljcRvx",
        "outputId": "4ef24188-b70e-44a9-a729-ad1e47c3c1ef"
      },
      "source": [
        "#visualize data \n",
        "plt.figure(figsize=(14, 5)) \n",
        "\n",
        "plt.subplot(1,2,1)\n",
        "#bins = np.linspace(0, max(df['IR']), 15)\n",
        "bins = np.linspace(0, 1, 15)\n",
        "plt.hist(df['IR'].loc[df['Label'] == 1].values,bins, alpha=0.5, label='1')\n",
        "plt.hist(df['IR'].loc[df['Label'] == 0].values,bins, alpha=0.5, label='0')\n",
        "plt.ylabel('Number of pairs')\n",
        "plt.xlabel('ItemRank score')\n",
        "plt.legend(loc='upper right')\n",
        "plt.title('Histogram - ItemRank')\n",
        "\n",
        "\n",
        "plt.subplot(1,2,2)\n",
        "bins = np.linspace(0, max(df['BR']), 15)\n",
        "plt.hist(df['BR'].loc[df['Label'] == 1].values,bins, alpha=0.5, label='1')\n",
        "plt.hist(df['BR'].loc[df['Label'] == 0].values,bins, alpha=0.5, label='0')\n",
        "plt.ylabel('Number of pairs')\n",
        "plt.xlabel('BiRank score')\n",
        "plt.legend(loc='upper right')\n",
        "plt.title('Histogram - BiRank')\n",
        "\n",
        "plt.show()\n",
        "plt.tight_layout"
      ],
      "execution_count": null,
      "outputs": [
        {
          "output_type": "display_data",
          "data": {
            "image/png": "[encoded data removed]",
            "text/plain": [
              "<Figure size 1008x360 with 2 Axes>"
            ]
          },
          "metadata": {
            "tags": [],
            "needs_background": "light"
          }
        },
        {
          "output_type": "execute_result",
          "data": {
            "text/plain": [
              "<function matplotlib.pyplot.tight_layout>"
            ]
          },
          "metadata": {
            "tags": []
          },
          "execution_count": 6
        }
      ]
    },
    {
      "cell_type": "markdown",
      "metadata": {
        "id": "EYM6eQI4YbZz"
      },
      "source": [
        "# Binary Classification"
      ]
    },
    {
      "cell_type": "markdown",
      "metadata": {
        "id": "NbA5UZsrY9QR"
      },
      "source": [
        "# IR vs BR"
      ]
    },
    {
      "cell_type": "code",
      "metadata": {
        "colab": {
          "base_uri": "https://localhost:8080/"
        },
        "id": "7A1OBWfCioyz",
        "outputId": "05dba7be-f01e-4641-9c5e-dc5cd030c755"
      },
      "source": [
        "# # create X\n",
        "# X = np.array(df['IR']).reshape(-1, 1)\n",
        "# X.shape\n",
        "\n",
        "# create X\n",
        "X = np.array(df['BR']).reshape(-1, 1)\n",
        "X.shape\n",
        "\n",
        "# create y\n",
        "y = np.array(df['Label'])\n",
        "y.shape"
      ],
      "execution_count": null,
      "outputs": [
        {
          "output_type": "execute_result",
          "data": {
            "text/plain": [
              "(80060,)"
            ]
          },
          "metadata": {
            "tags": []
          },
          "execution_count": 36
        }
      ]
    },
    {
      "cell_type": "code",
      "metadata": {
        "id": "XYF0Jel91GMB",
        "colab": {
          "base_uri": "https://localhost:8080/"
        },
        "outputId": "f24d0c14-196d-405e-f056-26a918b61ae8"
      },
      "source": [
        "# divide data into training and test split\n",
        "X_train, X_test, y_train, y_test = train_test_split(X, y, test_size=0.2, random_state=15, stratify=y)\n",
        "\n",
        "print(X_train.shape)\n",
        "print(X_test.shape)\n",
        "# check for distribution of y\n",
        "print(sum(y_train)/len(y_train))\n",
        "print(sum(y_test)/len(y_test))"
      ],
      "execution_count": null,
      "outputs": [
        {
          "output_type": "stream",
          "text": [
            "(64048, 1)\n",
            "(16012, 1)\n",
            "0.3916125405945541\n",
            "0.391643767174619\n"
          ],
          "name": "stdout"
        }
      ]
    },
    {
      "cell_type": "markdown",
      "metadata": {
        "id": "wX9eTEeX120D"
      },
      "source": [
        "## Logistic Regression"
      ]
    },
    {
      "cell_type": "markdown",
      "metadata": {
        "id": "9kwb9bqC-e36"
      },
      "source": [
        "**Model Selection**"
      ]
    },
    {
      "cell_type": "code",
      "metadata": {
        "colab": {
          "base_uri": "https://localhost:8080/"
        },
        "id": "cfGvh7axIwE1",
        "outputId": "1f4f5c85-43e1-4126-ee14-f498f74ae5d9"
      },
      "source": [
        "# Grid Search for optimal parameters with CV\n",
        "# round1\n",
        "parameter_grid = {\n",
        "              'C': [0.001,0.01,0.1,1,10,50,100,500]\n",
        "}\n",
        "\n",
        "grid = GridSearchCV(\n",
        "    estimator=LogisticRegression(),\n",
        "    param_grid=parameter_grid,verbose=2, n_jobs=10, cv = 5\n",
        ")\n",
        "\n",
        "grid.fit(X_train, y_train)\n",
        "print(\"Best accuracy: %f with params %s\" % (grid.best_score_, grid.best_params_))"
      ],
      "execution_count": null,
      "outputs": [
        {
          "output_type": "stream",
          "text": [
            "Fitting 5 folds for each of 8 candidates, totalling 40 fits\n"
          ],
          "name": "stdout"
        },
        {
          "output_type": "stream",
          "text": [
            "[Parallel(n_jobs=10)]: Using backend LokyBackend with 10 concurrent workers.\n",
            "[Parallel(n_jobs=10)]: Done  21 tasks      | elapsed:    6.3s\n",
            "[Parallel(n_jobs=10)]: Done  40 out of  40 | elapsed:    7.9s finished\n"
          ],
          "name": "stderr"
        },
        {
          "output_type": "stream",
          "text": [
            "Best accuracy: 0.792577 with params {'C': 500}\n"
          ],
          "name": "stdout"
        }
      ]
    },
    {
      "cell_type": "code",
      "metadata": {
        "colab": {
          "base_uri": "https://localhost:8080/"
        },
        "id": "iGTIfDXh3lhW",
        "outputId": "be2dd672-7d26-4607-8229-d651f58bbcb8"
      },
      "source": [
        "# train and fit model\n",
        "model_LR = LogisticRegression(C = 500)\n",
        "model_LR.fit(X_train, y_train)\n",
        "print(\"Traning accuracy for Linear Regression: {}\".format(model_LR.score(X_train, y_train)))"
      ],
      "execution_count": null,
      "outputs": [
        {
          "output_type": "stream",
          "text": [
            "Traning accuracy for Linear Regression: 0.7981982263302523\n"
          ],
          "name": "stdout"
        }
      ]
    },
    {
      "cell_type": "markdown",
      "metadata": {
        "id": "tOM42-6BNETK"
      },
      "source": [
        "**Evaluation**"
      ]
    },
    {
      "cell_type": "code",
      "metadata": {
        "colab": {
          "base_uri": "https://localhost:8080/",
          "height": 346
        },
        "id": "vBe2znqX4lgG",
        "outputId": "84ba9d6f-d03f-402a-c0d6-2cd73551f183"
      },
      "source": [
        "# TEST DATA\n",
        "# score\n",
        "print('Testing accuracy: '+str(model_LR.score(X_test, y_test) ))\n",
        "# confusion matrix\n",
        "plot_confusion_matrix(model_LR,\n",
        "                      X_test,\n",
        "                      y_test,\n",
        "                      values_format='d',\n",
        "                      display_labels=['0','1'])\n",
        "\n",
        "# Specificity and sensitivity\n",
        "tn, fp, fn, tp = confusion_matrix(y_test, model_LR.predict(X_test)).ravel()\n",
        "specificity = tn / (tn+fp)\n",
        "sensitivity = tp / (tp+fn)\n",
        "print('Sensitivity = '+str(sensitivity))\n",
        "print('Specificity = '+str(specificity))\n",
        "\n",
        "# ROC AUC\n",
        "print('Logistic Regression: ROC AUC = %.3f' % (roc_auc_score(y_test, model_LR.predict_proba(X_test)[:, 1])))"
      ],
      "execution_count": null,
      "outputs": [
        {
          "output_type": "stream",
          "text": [
            "Testing accuracy: 0.7982762927804147\n",
            "Sensitivity = 0.5509488119917079\n",
            "Specificity = 0.9574992300585156\n",
            "Logistic Regression: ROC AUC = 0.890\n"
          ],
          "name": "stdout"
        },
        {
          "output_type": "display_data",
          "data": {
            "image/png": "[encoded data removed]",
            "text/plain": [
              "<Figure size 432x288 with 2 Axes>"
            ]
          },
          "metadata": {
            "tags": [],
            "needs_background": "light"
          }
        }
      ]
    },
    {
      "cell_type": "markdown",
      "metadata": {
        "id": "XJIUxJ55NHmc"
      },
      "source": [
        "## SVC"
      ]
    },
    {
      "cell_type": "markdown",
      "metadata": {
        "id": "sNQiBTYyNUjd"
      },
      "source": [
        "**Model Selection**"
      ]
    },
    {
      "cell_type": "code",
      "metadata": {
        "id": "1InuZTZWNVKe",
        "colab": {
          "base_uri": "https://localhost:8080/"
        },
        "outputId": "5791cec6-cf06-4630-a3aa-7f793078919b"
      },
      "source": [
        "# Grid Search for optimal parameters with CV\n",
        "pipe_classifier = Pipeline([('scaler',  StandardScaler()),\n",
        "            ('SVC', svm.SVC())])\n",
        "parameter_grid = [{\n",
        "              'SVC__C': [0.1, 0.5, 1], \n",
        "              'SVC__kernel': ['rbf', 'linear'],\n",
        "              'SVC__gamma': [0.01,0.1,'auto',10]\n",
        "}]\n",
        "\n",
        "\n",
        "grid = GridSearchCV (estimator = pipe_classifier,\n",
        "                               param_grid = parameter_grid,\n",
        "                               scoring='roc_auc',cv = 5, verbose=2, n_jobs=10)\n",
        "grid.fit(X_train, y_train)\n",
        "print(\"Best score AUC: %f with params %s\" % (grid.best_score_, grid.best_params_))"
      ],
      "execution_count": null,
      "outputs": [
        {
          "output_type": "stream",
          "text": [
            "Fitting 5 folds for each of 24 candidates, totalling 120 fits\n"
          ],
          "name": "stdout"
        },
        {
          "output_type": "stream",
          "text": [
            "[Parallel(n_jobs=10)]: Using backend LokyBackend with 10 concurrent workers.\n",
            "/usr/local/lib/python3.7/dist-packages/joblib/externals/loky/process_executor.py:691: UserWarning: A worker stopped while some jobs were given to the executor. This can be caused by a too short worker timeout or by a memory leak.\n",
            "  \"timeout or by a memory leak.\", UserWarning\n",
            "[Parallel(n_jobs=10)]: Done  21 tasks      | elapsed: 19.1min\n",
            "[Parallel(n_jobs=10)]: Done 120 out of 120 | elapsed: 95.2min finished\n"
          ],
          "name": "stderr"
        },
        {
          "output_type": "stream",
          "text": [
            "Best score AUC: 0.886962 with params {'SVC__C': 0.5, 'SVC__gamma': 0.01, 'SVC__kernel': 'rbf'}\n"
          ],
          "name": "stdout"
        }
      ]
    },
    {
      "cell_type": "code",
      "metadata": {
        "id": "-2flugSlNYoM",
        "colab": {
          "base_uri": "https://localhost:8080/"
        },
        "outputId": "0ab97088-a0f9-4147-87fd-67b8d6051285"
      },
      "source": [
        "# train and fit model\n",
        "svc = svm.SVC(C=0.5, gamma=0.01,kernel='rbf', probability=True)\n",
        "svc.fit(X_train, y_train)\n",
        "print(\"Traning accuracy for SVC: {}\".format(svc.score(X_train, y_train)))"
      ],
      "execution_count": null,
      "outputs": [
        {
          "output_type": "stream",
          "text": [
            "Traning accuracy for SVC: 0.6083874594054459\n"
          ],
          "name": "stdout"
        }
      ]
    },
    {
      "cell_type": "markdown",
      "metadata": {
        "id": "YN75zwDHP36e"
      },
      "source": [
        "**Evaluation**"
      ]
    },
    {
      "cell_type": "code",
      "metadata": {
        "colab": {
          "base_uri": "https://localhost:8080/",
          "height": 346
        },
        "id": "OEqrPWq2P-O2",
        "outputId": "934b2130-55cf-4c22-c4c5-1f25125af3fe"
      },
      "source": [
        "# TEST DATA\n",
        "# score\n",
        "print('Testing accuracy for SVC: '+str(svc.score(X_test, y_test) ))\n",
        "# confusion matrix\n",
        "# confusion matrix\n",
        "plot_confusion_matrix(model_LR,\n",
        "                      X_test,\n",
        "                      y_test,\n",
        "                      values_format='d',\n",
        "                      display_labels=['0','1'])\n",
        "\n",
        "# Specificity and sensitivity\n",
        "tn, fp, fn, tp = confusion_matrix(y_test, svc.predict(X_test)).ravel()\n",
        "specificity = tn / (tn+fp)\n",
        "sensitivity = tp / (tp+fn)\n",
        "print('Sensitivity = '+str(sensitivity))\n",
        "print('Specificity = '+str(specificity))\n",
        "\n",
        "# ROC AUC\n",
        "print('SVC: ROC AUC = %.3f' % (roc_auc_score(y_test, svc.predict_proba(X_test)[:, 1])))"
      ],
      "execution_count": null,
      "outputs": [
        {
          "output_type": "stream",
          "text": [
            "Testing accuracy for SVC: 0.608356232825381\n",
            "Sensitivity = 0.0\n",
            "Specificity = 1.0\n",
            "SVC: ROC AUC = 0.890\n"
          ],
          "name": "stdout"
        },
        {
          "output_type": "display_data",
          "data": {
            "image/png": "[encoded data removed]",
            "text/plain": [
              "<Figure size 432x288 with 2 Axes>"
            ]
          },
          "metadata": {
            "tags": [],
            "needs_background": "light"
          }
        }
      ]
    },
    {
      "cell_type": "markdown",
      "metadata": {
        "id": "1kedrb7ZtAX0"
      },
      "source": [
        "## Random Forest"
      ]
    },
    {
      "cell_type": "markdown",
      "metadata": {
        "id": "cE-F8sfftlcd"
      },
      "source": [
        "**Model Selection**"
      ]
    },
    {
      "cell_type": "code",
      "metadata": {
        "colab": {
          "base_uri": "https://localhost:8080/"
        },
        "id": "6Lw38LmlOXjK",
        "outputId": "b5536def-7abc-4da0-b047-01aa83e98659"
      },
      "source": [
        "# Grid Search for optimal parameters with CV\n",
        "# round1\n",
        "parameter_grid = {\n",
        "              'n_estimators': [10,25,50,75,100], \n",
        "              'max_depth': [1,2,3,4,5]\n",
        "}\n",
        "\n",
        "grid = GridSearchCV(\n",
        "    estimator=RandomForestClassifier(),\n",
        "    param_grid=parameter_grid,\n",
        "    scoring='roc_auc', verbose=2, n_jobs=10, cv = 5\n",
        ")\n",
        "\n",
        "grid.fit(X_train, y_train)\n",
        "print(\"Best score AUC: %f with params %s\" % (grid.best_score_, grid.best_params_))"
      ],
      "execution_count": null,
      "outputs": [
        {
          "output_type": "stream",
          "text": [
            "Fitting 5 folds for each of 25 candidates, totalling 125 fits\n"
          ],
          "name": "stdout"
        },
        {
          "output_type": "stream",
          "text": [
            "[Parallel(n_jobs=10)]: Using backend LokyBackend with 10 concurrent workers.\n",
            "[Parallel(n_jobs=10)]: Done  21 tasks      | elapsed:   19.7s\n",
            "[Parallel(n_jobs=10)]: Done 125 out of 125 | elapsed:  2.5min finished\n"
          ],
          "name": "stderr"
        },
        {
          "output_type": "stream",
          "text": [
            "Best score AUC: 0.840655 with params {'max_depth': 4, 'n_estimators': 100}\n"
          ],
          "name": "stdout"
        }
      ]
    },
    {
      "cell_type": "code",
      "metadata": {
        "colab": {
          "base_uri": "https://localhost:8080/"
        },
        "id": "ISbG7BuUuJ0f",
        "outputId": "7f2eb49b-9d2c-40a9-d3cf-148a3ad9ce27"
      },
      "source": [
        "# train and fit model\n",
        "rfc = RandomForestClassifier(n_estimators=100, max_depth=4)\n",
        "rfc.fit(X_train, y_train)\n",
        "\n",
        "print(\"Traning accuracy for Random Forest: {}\".format(rfc.score(X_train, y_train)))"
      ],
      "execution_count": null,
      "outputs": [
        {
          "output_type": "stream",
          "text": [
            "Traning accuracy for Random Forest: 0.7873001498875843\n"
          ],
          "name": "stdout"
        }
      ]
    },
    {
      "cell_type": "markdown",
      "metadata": {
        "id": "9YhbQClFuj7U"
      },
      "source": [
        "**Evaluation**"
      ]
    },
    {
      "cell_type": "code",
      "metadata": {
        "colab": {
          "base_uri": "https://localhost:8080/",
          "height": 332
        },
        "id": "An-ygdVXuoy3",
        "outputId": "f66b69b5-490b-4644-dea7-0ebe477949bd"
      },
      "source": [
        "# TEST DATA\n",
        "# score\n",
        "print('Testing accuracy:  '+str(rfc.score(X_test, y_test) ))\n",
        "# confusion matrix\n",
        "plot_confusion_matrix(model_LR,\n",
        "                      X_test,\n",
        "                      y_test,\n",
        "                      values_format='d',\n",
        "                      display_labels=['0','1'])\n",
        "# Specificity and sensitivity\n",
        "tn, fp, fn, tp = confusion_matrix(y_test, rfc.predict(X_test)).ravel()\n",
        "specificity = tn / (tn+fp)\n",
        "sensitivity = tp / (tp+fn)\n",
        "print('Sensitivity = '+str(sensitivity))\n",
        "print('Specificity = '+str(specificity))\n",
        "\n",
        "# ROC AUC\n",
        "print('RFC: ROC AUC = %.3f' % (roc_auc_score(y_test, rfc.predict_proba(X_test)[:, 1])))"
      ],
      "execution_count": null,
      "outputs": [
        {
          "output_type": "stream",
          "text": [
            "Testing accuracy:  0.790407194604047\n"
          ],
          "name": "stdout"
        },
        {
          "output_type": "display_data",
          "data": {
            "image/png": "[encoded data removed]",
            "text/plain": [
              "<Figure size 288x288 with 1 Axes>"
            ]
          },
          "metadata": {
            "tags": [],
            "needs_background": "light"
          }
        },
        {
          "output_type": "stream",
          "text": [
            "Sensitivity = 0.6810715994259289\n",
            "Specificity = 0.8607945796119495\n",
            "RFC: ROC AUC = 0.842\n"
          ],
          "name": "stdout"
        }
      ]
    },
    {
      "cell_type": "markdown",
      "metadata": {
        "id": "hZVC1wBohRuh"
      },
      "source": [
        "## XGBoost"
      ]
    },
    {
      "cell_type": "markdown",
      "metadata": {
        "id": "0qSsV-dHjaLr"
      },
      "source": [
        "**Model selection**"
      ]
    },
    {
      "cell_type": "code",
      "metadata": {
        "colab": {
          "base_uri": "https://localhost:8080/"
        },
        "id": "VNOzDrcFjt1B",
        "outputId": "bfec8cf8-976b-46a0-c9e0-52b55b6a38ce"
      },
      "source": [
        "# Grid Search for optimal parameters with CV\n",
        "# round1\n",
        "parameter_grid = {\n",
        "              'learning_rate': [0.1, 0.5, 1], \n",
        "              'max_depth': [3,6,10],\n",
        "              'gamma': [0, 1, 5],\n",
        "              'reg_lambda': [0, 1.0, 10.0],\n",
        "              'scale_pos_weight': [1, 2, 3] # for imbalanced data\n",
        "}\n",
        "\n",
        "grid = GridSearchCV(\n",
        "    estimator=xgb.XGBClassifier(objective='binary:logistic',\n",
        "                                seed=15,\n",
        "                                subsample=0.8,\n",
        "                                ),\n",
        "    param_grid=parameter_grid,\n",
        "    scoring='roc_auc', \n",
        "    verbose=2, #0 otherwise\n",
        "    n_jobs=10,\n",
        "    cv = 5\n",
        ")\n",
        "\n",
        "grid.fit(X_train, y_train)\n",
        "print(\"Best score AUC: %f with params %s\" % (grid.best_score_, grid.best_params_))"
      ],
      "execution_count": null,
      "outputs": [
        {
          "output_type": "stream",
          "text": [
            "Fitting 5 folds for each of 243 candidates, totalling 1215 fits\n"
          ],
          "name": "stdout"
        },
        {
          "output_type": "stream",
          "text": [
            "[Parallel(n_jobs=10)]: Using backend LokyBackend with 10 concurrent workers.\n",
            "[Parallel(n_jobs=10)]: Done  21 tasks      | elapsed:   41.5s\n",
            "[Parallel(n_jobs=10)]: Done 142 tasks      | elapsed:  5.2min\n",
            "[Parallel(n_jobs=10)]: Done 345 tasks      | elapsed: 11.6min\n",
            "[Parallel(n_jobs=10)]: Done 628 tasks      | elapsed: 21.7min\n",
            "[Parallel(n_jobs=10)]: Done 993 tasks      | elapsed: 34.4min\n",
            "[Parallel(n_jobs=10)]: Done 1215 out of 1215 | elapsed: 42.3min finished\n"
          ],
          "name": "stderr"
        },
        {
          "output_type": "stream",
          "text": [
            "Best score AUC: 0.840436 with params {'gamma': 5, 'learning_rate': 0.1, 'max_depth': 3, 'reg_lambda': 10.0, 'scale_pos_weight': 1}\n"
          ],
          "name": "stdout"
        }
      ]
    },
    {
      "cell_type": "code",
      "metadata": {
        "colab": {
          "base_uri": "https://localhost:8080/"
        },
        "id": "wmiw7Yy5kpvR",
        "outputId": "d4bfc28d-f2c4-40d3-8d07-231a6214ed27"
      },
      "source": [
        "# training\n",
        "xgb_clf = xgb.XGBClassifier(seed=15, objective='binary:logistic', subsample=0.6,                      \n",
        "                            gamma=5, learning_rate=0.1, max_depth=3, reg_lambda=10, scale_pos_weight=1)\n",
        "# fit\n",
        "xgb_clf.fit(X_train, y_train)        \n",
        "\n",
        "print(\"Traning accuracy for Random Forest: {}\".format(xgb_clf.score(X_train, y_train)))"
      ],
      "execution_count": null,
      "outputs": [
        {
          "output_type": "stream",
          "text": [
            "Traning accuracy for Random Forest: 0.7872845365975518\n"
          ],
          "name": "stdout"
        }
      ]
    },
    {
      "cell_type": "markdown",
      "metadata": {
        "id": "wHommpmdjdy6"
      },
      "source": [
        "**Evaluation**"
      ]
    },
    {
      "cell_type": "code",
      "metadata": {
        "colab": {
          "base_uri": "https://localhost:8080/",
          "height": 346
        },
        "id": "EJb8FQRklCQw",
        "outputId": "51df9d1f-8894-47e6-cced-bd1149b48a34"
      },
      "source": [
        "# TEST DATA\n",
        "# score\n",
        "print('Testing accuracy for RFC: '+str(xgb_clf.score(X_test, y_test) ))\n",
        "# confusion matrix\n",
        "plot_confusion_matrix(model_LR,\n",
        "                      X_test,\n",
        "                      y_test,\n",
        "                      values_format='d',\n",
        "                      display_labels=['0','1'])\n",
        "\n",
        "# Specificity and sensitivity\n",
        "tn, fp, fn, tp = confusion_matrix(y_test, xgb_clf.predict(X_test)).ravel()\n",
        "specificity = tn / (tn+fp)\n",
        "sensitivity = tp / (tp+fn)\n",
        "print('Sensitivity = '+str(sensitivity))\n",
        "print('Specificity = '+str(specificity))\n",
        "\n",
        "# ROC AUC\n",
        "print('XGB: ROC AUC = %.3f' % (roc_auc_score(y_test, xgb_clf.predict_proba(X_test)[:, 1])))"
      ],
      "execution_count": null,
      "outputs": [
        {
          "output_type": "stream",
          "text": [
            "Testing accuracy for RFC: 0.7915313514863852\n",
            "Sensitivity = 0.6748524956147345\n",
            "Specificity = 0.8666461348937481\n",
            "XGB: ROC AUC = 0.842\n"
          ],
          "name": "stdout"
        },
        {
          "output_type": "display_data",
          "data": {
            "image/png": "[encoded data removed]",
            "text/plain": [
              "<Figure size 432x288 with 2 Axes>"
            ]
          },
          "metadata": {
            "tags": [],
            "needs_background": "light"
          }
        }
      ]
    },
    {
      "cell_type": "markdown",
      "metadata": {
        "id": "PumIglODib5t"
      },
      "source": [
        "# IR & BR together"
      ]
    },
    {
      "cell_type": "code",
      "metadata": {
        "colab": {
          "base_uri": "https://localhost:8080/"
        },
        "id": "s2Vdpx8f60_o",
        "outputId": "eaba0943-8a1e-4e54-fdfe-a6559bd10fa0"
      },
      "source": [
        "# create X\n",
        "X2 = np.array(df[['IR','BR']])\n",
        "scaler = MinMaxScaler()\n",
        "X2 = scaler.fit_transform(X2)\n",
        "print(X2.shape)\n",
        "\n",
        "# create y\n",
        "y = np.array(df['Label'])\n",
        "y.shape"
      ],
      "execution_count": null,
      "outputs": [
        {
          "output_type": "stream",
          "text": [
            "(80060, 2)\n"
          ],
          "name": "stdout"
        },
        {
          "output_type": "execute_result",
          "data": {
            "text/plain": [
              "(80060,)"
            ]
          },
          "metadata": {
            "tags": []
          },
          "execution_count": 7
        }
      ]
    },
    {
      "cell_type": "code",
      "metadata": {
        "colab": {
          "base_uri": "https://localhost:8080/"
        },
        "id": "_WgKWzWu67Td",
        "outputId": "8aad5fbe-c3e9-4765-d910-fb49247e1d97"
      },
      "source": [
        "# divide data into training and test split\n",
        "X_train, X_test, y_train, y_test = train_test_split(X2, y, test_size=0.2, random_state=15, stratify=y)\n",
        "\n",
        "print(X_train.shape)\n",
        "print(X_test.shape)\n",
        "# check for distribution of y\n",
        "print(sum(y_train)/len(y_train))\n",
        "print(sum(y_test)/len(y_test))"
      ],
      "execution_count": null,
      "outputs": [
        {
          "output_type": "stream",
          "text": [
            "(64048, 2)\n",
            "(16012, 2)\n",
            "0.3916125405945541\n",
            "0.391643767174619\n"
          ],
          "name": "stdout"
        }
      ]
    },
    {
      "cell_type": "markdown",
      "metadata": {
        "id": "qE4qWlfE76RC"
      },
      "source": [
        "## Logistic Regression"
      ]
    },
    {
      "cell_type": "code",
      "metadata": {
        "colab": {
          "base_uri": "https://localhost:8080/"
        },
        "id": "h82JtOIQDaKw",
        "outputId": "8b4ea275-9944-4ca1-af6a-f412f56dca17"
      },
      "source": [
        "# Grid Search for optimal parameters with CV\n",
        "# round1\n",
        "parameter_grid = {\n",
        "              'C': [0.001,0.01,0.1,1,10,50,100,500]\n",
        "}\n",
        "\n",
        "grid = GridSearchCV(\n",
        "    estimator=LogisticRegression(),\n",
        "    param_grid=parameter_grid,verbose=2, n_jobs=10, cv = 5\n",
        ")\n",
        "\n",
        "grid.fit(X_train, y_train)\n",
        "print(\"Best accuracy: %f with params %s\" % (grid.best_score_, grid.best_params_))"
      ],
      "execution_count": null,
      "outputs": [
        {
          "output_type": "stream",
          "text": [
            "Fitting 5 folds for each of 8 candidates, totalling 40 fits\n"
          ],
          "name": "stdout"
        },
        {
          "output_type": "stream",
          "text": [
            "[Parallel(n_jobs=10)]: Using backend LokyBackend with 10 concurrent workers.\n",
            "[Parallel(n_jobs=10)]: Done  21 tasks      | elapsed:    6.4s\n"
          ],
          "name": "stderr"
        },
        {
          "output_type": "stream",
          "text": [
            "Best accuracy: 0.826974 with params {'C': 100}\n"
          ],
          "name": "stdout"
        },
        {
          "output_type": "stream",
          "text": [
            "[Parallel(n_jobs=10)]: Done  40 out of  40 | elapsed:    8.0s finished\n"
          ],
          "name": "stderr"
        }
      ]
    },
    {
      "cell_type": "code",
      "metadata": {
        "colab": {
          "base_uri": "https://localhost:8080/"
        },
        "id": "R8TBH5I_78y2",
        "outputId": "a24c2d61-27b5-4ee1-95fc-5402516477ed"
      },
      "source": [
        "# train and fit model\n",
        "model_LR = LogisticRegression(C = 100)\n",
        "model_LR.fit(X_train, y_train)\n",
        "print(\"Traning accuracy for Linear Regression: {}\".format(model_LR.score(X_train, y_train)))"
      ],
      "execution_count": null,
      "outputs": [
        {
          "output_type": "stream",
          "text": [
            "Traning accuracy for Linear Regression: 0.8270047464401699\n"
          ],
          "name": "stdout"
        }
      ]
    },
    {
      "cell_type": "code",
      "metadata": {
        "colab": {
          "base_uri": "https://localhost:8080/",
          "height": 346
        },
        "id": "vAY54Hi_D6C_",
        "outputId": "3f6a6a89-e99b-42c5-d41b-4128fd4603e2"
      },
      "source": [
        "# TEST DATA\n",
        "# score\n",
        "print('Testing accuracy: '+str(model_LR.score(X_test, y_test) ))\n",
        "# confusion matrix\n",
        "plot_confusion_matrix(model_LR,\n",
        "                      X_test,\n",
        "                      y_test,\n",
        "                      values_format='d',\n",
        "                      display_labels=['0','1'])\n",
        "\n",
        "# Specificity and sensitivity\n",
        "tn, fp, fn, tp = confusion_matrix(y_test, model_LR.predict(X_test)).ravel()\n",
        "specificity = tn / (tn+fp)\n",
        "sensitivity = tp / (tp+fn)\n",
        "print('Sensitivity = '+str(sensitivity))\n",
        "print('Specificity = '+str(specificity))\n",
        "\n",
        "# ROC AUC\n",
        "print('Logistic Regression: ROC AUC = %.3f' % (roc_auc_score(y_test, model_LR.predict_proba(X_test)[:, 1])))"
      ],
      "execution_count": null,
      "outputs": [
        {
          "output_type": "stream",
          "text": [
            "Testing accuracy: 0.8273170122408194\n",
            "Sensitivity = 0.6868123106362621\n",
            "Specificity = 0.9177702494610409\n",
            "Logistic Regression: ROC AUC = 0.891\n"
          ],
          "name": "stdout"
        },
        {
          "output_type": "display_data",
          "data": {
            "image/png": "[encoded data removed]",
            "text/plain": [
              "<Figure size 432x288 with 2 Axes>"
            ]
          },
          "metadata": {
            "tags": [],
            "needs_background": "light"
          }
        }
      ]
    },
    {
      "cell_type": "markdown",
      "metadata": {
        "id": "IJWWMCukI1Es"
      },
      "source": [
        "## SVC"
      ]
    },
    {
      "cell_type": "code",
      "metadata": {
        "id": "2wHJ7htsI3Je",
        "colab": {
          "base_uri": "https://localhost:8080/"
        },
        "outputId": "a4db7fa0-7c92-4c66-c040-61e9ec4c60ea"
      },
      "source": [
        "# Grid Search for optimal parameters with CV\n",
        "pipe_classifier = Pipeline([('scaler',  StandardScaler()),\n",
        "            ('SVC', svm.SVC())])\n",
        "parameter_grid = [{\n",
        "              'SVC__C': [0.1, 0.5, 1], \n",
        "              'SVC__kernel': ['rbf', 'linear'],\n",
        "              'SVC__gamma': [0.01,0.1,'auto',10]\n",
        "}]\n",
        "\n",
        "\n",
        "grid = GridSearchCV (estimator = pipe_classifier,\n",
        "                               param_grid = parameter_grid,\n",
        "                               scoring='roc_auc',cv = 5, verbose=2, n_jobs=10)\n",
        "grid.fit(X_train, y_train)\n",
        "print(\"Best score AUC: %f with params %s\" % (grid.best_score_, grid.best_params_))"
      ],
      "execution_count": null,
      "outputs": [
        {
          "output_type": "stream",
          "text": [
            "Fitting 5 folds for each of 24 candidates, totalling 120 fits\n"
          ],
          "name": "stdout"
        },
        {
          "output_type": "stream",
          "text": [
            "[Parallel(n_jobs=10)]: Using backend LokyBackend with 10 concurrent workers.\n",
            "[Parallel(n_jobs=10)]: Done  21 tasks      | elapsed: 16.6min\n",
            "[Parallel(n_jobs=10)]: Done 120 out of 120 | elapsed: 88.4min finished\n"
          ],
          "name": "stderr"
        },
        {
          "output_type": "stream",
          "text": [
            "Best score AUC: 0.888128 with params {'SVC__C': 1, 'SVC__gamma': 0.01, 'SVC__kernel': 'linear'}\n"
          ],
          "name": "stdout"
        }
      ]
    },
    {
      "cell_type": "code",
      "metadata": {
        "id": "OK0uq2TYJRAi",
        "colab": {
          "base_uri": "https://localhost:8080/"
        },
        "outputId": "ea42c457-a74d-4d31-d0f2-641b590c246f"
      },
      "source": [
        "# train and fit model\n",
        "svc = svm.SVC(C=1, gamma=0.01,kernel='linear', probability=True)\n",
        "svc.fit(X_train, y_train)\n",
        "print(\"Traning accuracy for SVC: {}\".format(svc.score(X_train, y_train)))"
      ],
      "execution_count": null,
      "outputs": [
        {
          "output_type": "stream",
          "text": [
            "Traning accuracy for SVC: 0.8260367224581564\n"
          ],
          "name": "stdout"
        }
      ]
    },
    {
      "cell_type": "code",
      "metadata": {
        "colab": {
          "base_uri": "https://localhost:8080/",
          "height": 346
        },
        "id": "jhAlOEY9bPvL",
        "outputId": "8dcc702b-414a-482f-c3a2-392293e16800"
      },
      "source": [
        "# TEST DATA\n",
        "# score\n",
        "print('Testing accuracy for SVC: '+str(svc.score(X_test, y_test) ))\n",
        "# confusion matrix\n",
        "# confusion matrix\n",
        "plot_confusion_matrix(model_LR,\n",
        "                      X_test,\n",
        "                      y_test,\n",
        "                      values_format='d',\n",
        "                      display_labels=['0','1'])\n",
        "\n",
        "# Specificity and sensitivity\n",
        "tn, fp, fn, tp = confusion_matrix(y_test, svc.predict(X_test)).ravel()\n",
        "specificity = tn / (tn+fp)\n",
        "sensitivity = tp / (tp+fn)\n",
        "print('Sensitivity = '+str(sensitivity))\n",
        "print('Specificity = '+str(specificity))\n",
        "\n",
        "# ROC AUC\n",
        "print('SVC: ROC AUC = %.3f' % (roc_auc_score(y_test, svc.predict_proba(X_test)[:, 1])))"
      ],
      "execution_count": null,
      "outputs": [
        {
          "output_type": "stream",
          "text": [
            "Testing accuracy for SVC: 0.8263177616787409\n",
            "Sensitivity = 0.6826662414287993\n",
            "Specificity = 0.9187968381069705\n",
            "SVC: ROC AUC = 0.891\n"
          ],
          "name": "stdout"
        },
        {
          "output_type": "display_data",
          "data": {
            "image/png": "[encoded data removed]",
            "text/plain": [
              "<Figure size 432x288 with 2 Axes>"
            ]
          },
          "metadata": {
            "tags": [],
            "needs_background": "light"
          }
        }
      ]
    },
    {
      "cell_type": "markdown",
      "metadata": {
        "id": "FjElAYi4z-tz"
      },
      "source": [
        "## Random Forest"
      ]
    },
    {
      "cell_type": "code",
      "metadata": {
        "colab": {
          "base_uri": "https://localhost:8080/"
        },
        "id": "OFc2Wjlg88TL",
        "outputId": "93f74b77-daeb-4722-ae5f-1c35db267f0f"
      },
      "source": [
        "# Grid Search for optimal parameters with CV\n",
        "# round1\n",
        "parameter_grid = {\n",
        "              'n_estimators': [10,25,50,75,100], \n",
        "              'max_depth': [1,2,3,4,5]\n",
        "}\n",
        "\n",
        "grid = GridSearchCV(\n",
        "    estimator=RandomForestClassifier(),\n",
        "    param_grid=parameter_grid,\n",
        "    scoring='roc_auc', verbose=2, n_jobs=10, cv = 5\n",
        ")\n",
        "\n",
        "grid.fit(X_train, y_train)\n",
        "print(\"Best score AUC: %f with params %s\" % (grid.best_score_, grid.best_params_))"
      ],
      "execution_count": null,
      "outputs": [
        {
          "output_type": "stream",
          "text": [
            "Fitting 5 folds for each of 25 candidates, totalling 125 fits\n"
          ],
          "name": "stdout"
        },
        {
          "output_type": "stream",
          "text": [
            "[Parallel(n_jobs=10)]: Using backend LokyBackend with 10 concurrent workers.\n",
            "[Parallel(n_jobs=10)]: Done  21 tasks      | elapsed:   21.5s\n",
            "[Parallel(n_jobs=10)]: Done 125 out of 125 | elapsed:  2.6min finished\n"
          ],
          "name": "stderr"
        },
        {
          "output_type": "stream",
          "text": [
            "Best score AUC: 0.887028 with params {'max_depth': 5, 'n_estimators': 100}\n"
          ],
          "name": "stdout"
        }
      ]
    },
    {
      "cell_type": "code",
      "metadata": {
        "colab": {
          "base_uri": "https://localhost:8080/"
        },
        "id": "ZSjUlgbY7QlT",
        "outputId": "85038861-946c-4d99-dd0a-5b2eae71769b"
      },
      "source": [
        "# train and fit model\n",
        "rfc = RandomForestClassifier(n_estimators=100, max_depth=5)\n",
        "rfc.fit(X_train, y_train)\n",
        "\n",
        "print(\"Traning accuracy for Random Forest: {}\".format(rfc.score(X_train, y_train)))"
      ],
      "execution_count": null,
      "outputs": [
        {
          "output_type": "stream",
          "text": [
            "Traning accuracy for Random Forest: 0.8300181114164377\n"
          ],
          "name": "stdout"
        }
      ]
    },
    {
      "cell_type": "code",
      "metadata": {
        "colab": {
          "base_uri": "https://localhost:8080/",
          "height": 346
        },
        "id": "B0lAmDf8g-8h",
        "outputId": "bcbfdc9c-4e90-4c4e-ec36-99dbfe7ccb36"
      },
      "source": [
        "# TEST DATA\n",
        "# score\n",
        "print('Testing accuracy:  '+str(rfc.score(X_test, y_test) ))\n",
        "# confusion matrix\n",
        "plot_confusion_matrix(model_LR,\n",
        "                      X_test,\n",
        "                      y_test,\n",
        "                      values_format='d',\n",
        "                      display_labels=['0','1'])\n",
        "# Specificity and sensitivity\n",
        "tn, fp, fn, tp = confusion_matrix(y_test, rfc.predict(X_test)).ravel()\n",
        "specificity = tn / (tn+fp)\n",
        "sensitivity = tp / (tp+fn)\n",
        "print('Sensitivity = '+str(sensitivity))\n",
        "print('Specificity = '+str(specificity))\n",
        "\n",
        "# ROC AUC\n",
        "print('RFC: ROC AUC = %.3f' % (roc_auc_score(y_test, rfc.predict_proba(X_test)[:, 1])))"
      ],
      "execution_count": null,
      "outputs": [
        {
          "output_type": "stream",
          "text": [
            "Testing accuracy:  0.832063452410692\n",
            "Sensitivity = 0.7333758571200766\n",
            "Specificity = 0.8955959347089621\n",
            "RFC: ROC AUC = 0.889\n"
          ],
          "name": "stdout"
        },
        {
          "output_type": "display_data",
          "data": {
            "image/png": "[encoded data removed]",
            "text/plain": [
              "<Figure size 432x288 with 2 Axes>"
            ]
          },
          "metadata": {
            "tags": [],
            "needs_background": "light"
          }
        }
      ]
    },
    {
      "cell_type": "markdown",
      "metadata": {
        "id": "yOGQVX-6nCSY"
      },
      "source": [
        "## XGBoost"
      ]
    },
    {
      "cell_type": "code",
      "metadata": {
        "colab": {
          "base_uri": "https://localhost:8080/"
        },
        "id": "3RciDqmonEll",
        "outputId": "c0537eba-1846-466f-e405-8a32d1a3cffe"
      },
      "source": [
        "# Grid Search for optimal parameters with CV\n",
        "# round1\n",
        "parameter_grid = {\n",
        "              'learning_rate': [0.1, 0.5, 1], \n",
        "              'max_depth': [2,4,6,8],\n",
        "              'gamma': [0, 1, 5],\n",
        "              'reg_lambda': [0, 1.0, 10.0],\n",
        "}\n",
        "\n",
        "grid = GridSearchCV(\n",
        "    estimator=xgb.XGBClassifier(objective='binary:logistic',\n",
        "                                seed=15,\n",
        "                                subsample=0.8,\n",
        "                                ),\n",
        "    param_grid=parameter_grid,\n",
        "    scoring='roc_auc', \n",
        "    verbose=2, #0 otherwise\n",
        "    n_jobs=10,\n",
        "    cv = 5\n",
        ")\n",
        "\n",
        "grid.fit(X_train, y_train)\n",
        "print(\"Best score AUC: %f with params %s\" % (grid.best_score_, grid.best_params_))"
      ],
      "execution_count": null,
      "outputs": [
        {
          "output_type": "stream",
          "text": [
            "Fitting 5 folds for each of 108 candidates, totalling 540 fits\n"
          ],
          "name": "stdout"
        },
        {
          "output_type": "stream",
          "text": [
            "[Parallel(n_jobs=10)]: Using backend LokyBackend with 10 concurrent workers.\n",
            "[Parallel(n_jobs=10)]: Done  21 tasks      | elapsed:   49.1s\n",
            "[Parallel(n_jobs=10)]: Done 142 tasks      | elapsed:  5.8min\n",
            "[Parallel(n_jobs=10)]: Done 345 tasks      | elapsed: 14.2min\n",
            "[Parallel(n_jobs=10)]: Done 540 out of 540 | elapsed: 22.2min finished\n"
          ],
          "name": "stderr"
        },
        {
          "output_type": "stream",
          "text": [
            "Best score AUC: 0.889348 with params {'gamma': 5, 'learning_rate': 0.1, 'max_depth': 4, 'reg_lambda': 1.0}\n"
          ],
          "name": "stdout"
        }
      ]
    },
    {
      "cell_type": "code",
      "metadata": {
        "colab": {
          "base_uri": "https://localhost:8080/"
        },
        "id": "puZfdFOxnJWl",
        "outputId": "74e0475d-0be3-4f9e-e72e-e2f23e99c484"
      },
      "source": [
        "# training and fitting model\n",
        "xgb_clf = xgb.XGBClassifier(seed=15, objective='binary:logistic', subsample=0.8,                      \n",
        "                            gamma=5, learning_rate=0.1, max_depth=4, reg_lambda=1.0)\n",
        "xgb_clf.fit(X_train, y_train)        \n",
        "\n",
        "print(\"Traning accuracy for XGBoost: {}\".format(xgb_clf.score(X_train, y_train)))"
      ],
      "execution_count": null,
      "outputs": [
        {
          "output_type": "stream",
          "text": [
            "Traning accuracy for XGBoost: 0.8308924556582563\n"
          ],
          "name": "stdout"
        }
      ]
    },
    {
      "cell_type": "code",
      "metadata": {
        "colab": {
          "base_uri": "https://localhost:8080/",
          "height": 346
        },
        "id": "N4oYBKPcnMPA",
        "outputId": "8f252ba3-e4af-4209-8074-1473ade63ca5"
      },
      "source": [
        "# TEST DATA\n",
        "# score\n",
        "print('Testing accuracy for RFC: '+str(xgb_clf.score(X_test, y_test) ))\n",
        "# confusion matrix\n",
        "plot_confusion_matrix(model_LR,\n",
        "                      X_test,\n",
        "                      y_test,\n",
        "                      values_format='d',\n",
        "                      display_labels=['0','1'])\n",
        "\n",
        "# Specificity and sensitivity\n",
        "tn, fp, fn, tp = confusion_matrix(y_test, xgb_clf.predict(X_test)).ravel()\n",
        "specificity = tn / (tn+fp)\n",
        "sensitivity = tp / (tp+fn)\n",
        "print('Sensitivity = '+str(sensitivity))\n",
        "print('Specificity = '+str(specificity))\n",
        "\n",
        "# ROC AUC\n",
        "print('XGB: ROC AUC = %.3f' % (roc_auc_score(y_test, xgb_clf.predict_proba(X_test)[:, 1])))"
      ],
      "execution_count": null,
      "outputs": [
        {
          "output_type": "stream",
          "text": [
            "Testing accuracy for RFC: 0.832687984011991\n",
            "Sensitivity = 0.7324190719183543\n",
            "Specificity = 0.8972384765424495\n",
            "XGB: ROC AUC = 0.892\n"
          ],
          "name": "stdout"
        },
        {
          "output_type": "display_data",
          "data": {
            "image/png": "[encoded data removed]",
            "text/plain": [
              "<Figure size 432x288 with 2 Axes>"
            ]
          },
          "metadata": {
            "tags": [],
            "needs_background": "light"
          }
        }
      ]
    }
  ]
}